{
  "cells": [
    {
      "cell_type": "markdown",
      "metadata": {
        "id": "view-in-github",
        "colab_type": "text"
      },
      "source": [
        "<a href=\"https://colab.research.google.com/github/ZahraDehghani99/AutoModel-vs-AutomodelForClassification-outputs/blob/main/AutoModel_vs_AutomodelForAudioClassification_outputs.ipynb\" target=\"_parent\"><img src=\"https://colab.research.google.com/assets/colab-badge.svg\" alt=\"Open In Colab\"/></a>"
      ]
    },
    {
      "cell_type": "markdown",
      "metadata": {
        "id": "CkPz3JDDaHmR"
      },
      "source": [
        "# Ouput parameters of `AutoModel` and `AutoModelForAudioClassification` Classes"
      ]
    },
    {
      "cell_type": "markdown",
      "metadata": {
        "id": "EyVzd6GnZXSs"
      },
      "source": [
        "## Prerequisits"
      ]
    },
    {
      "cell_type": "code",
      "execution_count": null,
      "metadata": {
        "colab": {
          "base_uri": "https://localhost:8080/"
        },
        "id": "7H-EbnE_Gzv7",
        "outputId": "d4f7365b-ac41-4d0a-b16f-de9767ff7dbe"
      },
      "outputs": [
        {
          "output_type": "stream",
          "name": "stdout",
          "text": [
            "\u001b[2K     \u001b[90m━━━━━━━━━━━━━━━━━━━━━━━━━━━━━━━━━━━━━━━━\u001b[0m \u001b[32m507.1/507.1 kB\u001b[0m \u001b[31m3.4 MB/s\u001b[0m eta \u001b[36m0:00:00\u001b[0m\n",
            "\u001b[2K     \u001b[90m━━━━━━━━━━━━━━━━━━━━━━━━━━━━━━━━━━━━━━━━\u001b[0m \u001b[32m115.3/115.3 kB\u001b[0m \u001b[31m14.9 MB/s\u001b[0m eta \u001b[36m0:00:00\u001b[0m\n",
            "\u001b[2K     \u001b[90m━━━━━━━━━━━━━━━━━━━━━━━━━━━━━━━━━━━━━━━━\u001b[0m \u001b[32m134.8/134.8 kB\u001b[0m \u001b[31m16.7 MB/s\u001b[0m eta \u001b[36m0:00:00\u001b[0m\n",
            "\u001b[2K     \u001b[90m━━━━━━━━━━━━━━━━━━━━━━━━━━━━━━━━━━━━━━━━\u001b[0m \u001b[32m134.8/134.8 kB\u001b[0m \u001b[31m12.2 MB/s\u001b[0m eta \u001b[36m0:00:00\u001b[0m\n",
            "\u001b[?25h"
          ]
        }
      ],
      "source": [
        "!pip install -q transformers datasets"
      ]
    },
    {
      "cell_type": "code",
      "execution_count": null,
      "metadata": {
        "colab": {
          "base_uri": "https://localhost:8080/"
        },
        "id": "JWY0PGv807y6",
        "outputId": "95b8ab62-5338-4322-a582-360ed11939ad"
      },
      "outputs": [
        {
          "output_type": "stream",
          "name": "stdout",
          "text": [
            "Found existing installation: transformers 4.35.2\n",
            "Uninstalling transformers-4.35.2:\n",
            "  Successfully uninstalled transformers-4.35.2\n",
            "\u001b[33mWARNING: Skipping accelerate as it is not installed.\u001b[0m\u001b[33m\n",
            "\u001b[2K     \u001b[90m━━━━━━━━━━━━━━━━━━━━━━━━━━━━━━━━━━━━━━━━\u001b[0m \u001b[32m8.4/8.4 MB\u001b[0m \u001b[31m23.4 MB/s\u001b[0m eta \u001b[36m0:00:00\u001b[0m\n",
            "\u001b[2K     \u001b[90m━━━━━━━━━━━━━━━━━━━━━━━━━━━━━━━━━━━━━━━━\u001b[0m \u001b[32m270.9/270.9 kB\u001b[0m \u001b[31m33.4 MB/s\u001b[0m eta \u001b[36m0:00:00\u001b[0m\n",
            "\u001b[?25h"
          ]
        }
      ],
      "source": [
        "!pip uninstall -y transformers accelerate\n",
        "!pip install -q transformers accelerate"
      ]
    },
    {
      "cell_type": "code",
      "execution_count": null,
      "metadata": {
        "id": "xcW97gUfwFD_"
      },
      "outputs": [],
      "source": [
        "import pandas as pd\n",
        "import numpy as np\n",
        "import pickle\n",
        "\n",
        "import matplotlib.pyplot as plt\n",
        "import seaborn as sns\n",
        "\n",
        "from sklearn.metrics import classification_report\n",
        "from sklearn.metrics import accuracy_score\n",
        "from sklearn import metrics\n",
        "\n",
        "import warnings\n",
        "warnings.filterwarnings('ignore')"
      ]
    },
    {
      "cell_type": "code",
      "execution_count": null,
      "metadata": {
        "id": "r7AfLl5-u-WE"
      },
      "outputs": [],
      "source": [
        "import torch\n",
        "device = torch.device(\"cuda\" if torch.cuda.is_available() else \"cpu\")"
      ]
    },
    {
      "cell_type": "markdown",
      "metadata": {
        "id": "jhxEYJP6axYN"
      },
      "source": [
        "## Wav2vec2-base"
      ]
    },
    {
      "cell_type": "markdown",
      "metadata": {
        "id": "y1cJFCmEnCzt"
      },
      "source": [
        "Wav2Vec2Model => [source code](https://github.com/huggingface/transformers/blob/v4.37.2/src/transformers/models/wav2vec2/modeling_wav2vec2.py#L1440)\n",
        "\n",
        "\n",
        "Wav2Vec2ForSequenceClassification => [source code](https://github.com/huggingface/transformers/blob/v4.37.2/src/transformers/models/wav2vec2/modeling_wav2vec2.py#L2021)"
      ]
    },
    {
      "cell_type": "markdown",
      "metadata": {
        "id": "WYRJx7dAuB44"
      },
      "source": [
        "### Load feature extractor\n"
      ]
    },
    {
      "cell_type": "code",
      "execution_count": null,
      "metadata": {
        "colab": {
          "base_uri": "https://localhost:8080/",
          "height": 81,
          "referenced_widgets": [
            "e499d5bf45094c7a8030166d563eb114",
            "e9343762c5924fd7a002267cecae1c72",
            "b35d96334ea14ce7840132efdd9d25f5",
            "1b92b7121d6d4a38829f4cb7c565fbe0",
            "9de9816745994aaab251af38e996988f",
            "bf864f59181f49c4a445d94f8ac4bddc",
            "fbc4106c0dbf403aab9e0fb4217c38ef",
            "7e777d5491f84916ac94b9937702b594",
            "0a9874a08100453a84120966c53c3e12",
            "6c9a8fc05efe4efe9ab149d791869352",
            "fb63f9939f0e46f2ab90e3f6d4419ae3",
            "e4d9251c411d4adfae7a39a2ce5593d7",
            "bedf0997305c40bbac569fe0cb0701be",
            "ac8a50ae8bf349ff963ffc19b7862ece",
            "3fcc07dc3cde44be8c71e625e727535f",
            "c016d926b9d24a648a34c81b5554c4e2",
            "a79436fe8a2f477bb162be9aabe01393",
            "cb69225879794d99b2eb64ecc497f354",
            "746994366f9e4a389fc2d5992a20a4a5",
            "f3e935a060b640dfb6daf49dfec89b8a",
            "b23ade9a5f5a48d389021a8d13cf5eea",
            "340e2982231b4ff89571dac60d9dc06a"
          ]
        },
        "id": "A7N9UdYCYrPr",
        "outputId": "45ae6af3-36c7-46c9-81ae-37abcc468ca7"
      },
      "outputs": [
        {
          "output_type": "display_data",
          "data": {
            "text/plain": [
              "preprocessor_config.json:   0%|          | 0.00/159 [00:00<?, ?B/s]"
            ],
            "application/vnd.jupyter.widget-view+json": {
              "version_major": 2,
              "version_minor": 0,
              "model_id": "e499d5bf45094c7a8030166d563eb114"
            }
          },
          "metadata": {}
        },
        {
          "output_type": "display_data",
          "data": {
            "text/plain": [
              "config.json:   0%|          | 0.00/1.60k [00:00<?, ?B/s]"
            ],
            "application/vnd.jupyter.widget-view+json": {
              "version_major": 2,
              "version_minor": 0,
              "model_id": "e4d9251c411d4adfae7a39a2ce5593d7"
            }
          },
          "metadata": {}
        }
      ],
      "source": [
        "from transformers import AutoFeatureExtractor\n",
        "\n",
        "model_ckpt = \"facebook/wav2vec2-base-960h\"\n",
        "feature_extractor = AutoFeatureExtractor.from_pretrained(model_ckpt)"
      ]
    },
    {
      "cell_type": "code",
      "execution_count": null,
      "metadata": {
        "colab": {
          "base_uri": "https://localhost:8080/"
        },
        "id": "R4ymeg94YrPr",
        "outputId": "28d0e6cf-a2bb-4a32-e618-0683517e0043"
      },
      "outputs": [
        {
          "output_type": "execute_result",
          "data": {
            "text/plain": [
              "Wav2Vec2FeatureExtractor {\n",
              "  \"do_normalize\": true,\n",
              "  \"feature_extractor_type\": \"Wav2Vec2FeatureExtractor\",\n",
              "  \"feature_size\": 1,\n",
              "  \"padding_side\": \"right\",\n",
              "  \"padding_value\": 0.0,\n",
              "  \"return_attention_mask\": false,\n",
              "  \"sampling_rate\": 16000\n",
              "}"
            ]
          },
          "metadata": {},
          "execution_count": 6
        }
      ],
      "source": [
        "feature_extractor"
      ]
    },
    {
      "cell_type": "code",
      "execution_count": null,
      "metadata": {
        "id": "3xFVbj5-YrPt",
        "colab": {
          "base_uri": "https://localhost:8080/"
        },
        "outputId": "de05733f-d480-4091-aeff-6dd20c11fb85"
      },
      "outputs": [
        {
          "output_type": "execute_result",
          "data": {
            "text/plain": [
              "['input_values', 'attention_mask']"
            ]
          },
          "metadata": {},
          "execution_count": 10
        }
      ],
      "source": [
        "feature_extractor.model_input_names"
      ]
    },
    {
      "cell_type": "code",
      "execution_count": null,
      "metadata": {
        "id": "YHHqw0P2uRhS",
        "colab": {
          "base_uri": "https://localhost:8080/",
          "height": 113,
          "referenced_widgets": [
            "b5bf087fd8fe45caa6cf0f8ef919118b",
            "132b7e10a60643b19d83ee2ab517f222",
            "636ac2ef3e2b49f5a57b8d6749184bf3",
            "ac3fc534050145f8925317593673ccd1",
            "1db0bfecdcfd45c79943a446f0f519eb",
            "d1a00619a4014f7b989f559d95748fa7",
            "b7c09d8fab4a44a19affbf15a5b08c95",
            "20ef170d62d04efca28d9ca5ba32983e",
            "e1dc81332707440a9af2fb8a4ab07683",
            "5c89b22567314ddd975266b6b3b6a4cd",
            "43280b4ab62848c2b516be22d98a827c",
            "3f9c801b8df445c38c5cd7a9e78bb836",
            "5e8c44dbaa72414b83b1dfd149c3085b",
            "dc6615c0e94946c5bd00ee7a74eab35e",
            "97f09d89a3e348dfb232a06d16c08aa6",
            "f5895785e2ad47a98cf9c8f84496bd03",
            "0ef7727547e14dccabc792b71510f0b1",
            "0ab9a54a8ed4484eae9f548b1b765d27",
            "cc5d2cfc7b5f4295bb333b580f8d7dbd",
            "88250826cda5410093aa4b92a440c3c1",
            "b232a0edda7b4d9aa4a42f4afebe7983",
            "bfe7a9d9e23c422080bd09b1a858feee",
            "fe8a0fce4d904091bc06c98688f909ab",
            "acec6ed5dc0a4141ba1deb93a5e0ec8d",
            "fe4aedc0e84d4860835d6e226ca0b860",
            "b1b6c641a5444df1a01b4fbf7f4983ba",
            "bc7d3e86cb8b46fa91de2bf7e48c1a6d",
            "08dc9709ca134e3dbee696b1f11c435a",
            "ca6f5dbd66644cbeae8c93ce1ed66044",
            "f23318e274a14d86b22e043074ff480b",
            "67e7def0f285439db1f3826a3be5e336",
            "ce3a7d06d09046fe9487e7c2900679b8",
            "79c74df427f44b41bce70b69d73c8e6d"
          ]
        },
        "outputId": "126212a2-9c6f-4683-a1c2-213a941108f8"
      },
      "outputs": [
        {
          "output_type": "display_data",
          "data": {
            "text/plain": [
              "Downloading builder script:   0%|          | 0.00/5.17k [00:00<?, ?B/s]"
            ],
            "application/vnd.jupyter.widget-view+json": {
              "version_major": 2,
              "version_minor": 0,
              "model_id": "b5bf087fd8fe45caa6cf0f8ef919118b"
            }
          },
          "metadata": {}
        },
        {
          "output_type": "display_data",
          "data": {
            "text/plain": [
              "Downloading data:   0%|          | 0.00/9.08M [00:00<?, ?B/s]"
            ],
            "application/vnd.jupyter.widget-view+json": {
              "version_major": 2,
              "version_minor": 0,
              "model_id": "3f9c801b8df445c38c5cd7a9e78bb836"
            }
          },
          "metadata": {}
        },
        {
          "output_type": "display_data",
          "data": {
            "text/plain": [
              "Generating validation split: 0 examples [00:00, ? examples/s]"
            ],
            "application/vnd.jupyter.widget-view+json": {
              "version_major": 2,
              "version_minor": 0,
              "model_id": "fe8a0fce4d904091bc06c98688f909ab"
            }
          },
          "metadata": {}
        }
      ],
      "source": [
        "from datasets import load_dataset\n",
        "\n",
        "dataset = load_dataset(\"hf-internal-testing/librispeech_asr_demo\", \"clean\", split=\"validation\")\n",
        "dataset = dataset.sort(\"id\")\n",
        "sampling_rate = dataset.features[\"audio\"].sampling_rate"
      ]
    },
    {
      "cell_type": "code",
      "source": [
        "dataset[0][\"audio\"][\"array\"]"
      ],
      "metadata": {
        "colab": {
          "base_uri": "https://localhost:8080/"
        },
        "id": "95pHsu2lV1ZX",
        "outputId": "fca16104-2167-444d-9775-f8bf6faac8c2"
      },
      "execution_count": null,
      "outputs": [
        {
          "output_type": "execute_result",
          "data": {
            "text/plain": [
              "array([0.00238037, 0.0020752 , 0.00198364, ..., 0.00042725, 0.00057983,\n",
              "       0.0010376 ])"
            ]
          },
          "metadata": {},
          "execution_count": 12
        }
      ]
    },
    {
      "cell_type": "code",
      "execution_count": null,
      "metadata": {
        "id": "Huf9vS7aooUj"
      },
      "outputs": [],
      "source": [
        "inputs = feature_extractor(dataset[0][\"audio\"][\"array\"], sampling_rate=sampling_rate, return_tensors=\"pt\")"
      ]
    },
    {
      "cell_type": "code",
      "execution_count": null,
      "metadata": {
        "colab": {
          "base_uri": "https://localhost:8080/"
        },
        "id": "JRkSmgRnpZ00",
        "outputId": "0de7db6a-9e73-4336-eaa2-bb4d884d409a"
      },
      "outputs": [
        {
          "output_type": "execute_result",
          "data": {
            "text/plain": [
              "{'input_values': tensor([[0.0386, 0.0337, 0.0322,  ..., 0.0070, 0.0095, 0.0169]])}"
            ]
          },
          "metadata": {},
          "execution_count": 14
        }
      ],
      "source": [
        "inputs"
      ]
    },
    {
      "cell_type": "code",
      "execution_count": null,
      "metadata": {
        "colab": {
          "base_uri": "https://localhost:8080/"
        },
        "id": "DkSBHA6zpbR3",
        "outputId": "4c017963-588b-4f1a-9bfc-64b050446d93"
      },
      "outputs": [
        {
          "output_type": "execute_result",
          "data": {
            "text/plain": [
              "transformers.feature_extraction_utils.BatchFeature"
            ]
          },
          "metadata": {},
          "execution_count": 15
        }
      ],
      "source": [
        "type(inputs)"
      ]
    },
    {
      "cell_type": "markdown",
      "metadata": {
        "id": "Oii5NEmxu1Jy"
      },
      "source": [
        "### AutoModel class (output_hidden_states = False)"
      ]
    },
    {
      "cell_type": "code",
      "execution_count": null,
      "metadata": {
        "colab": {
          "base_uri": "https://localhost:8080/",
          "height": 105,
          "referenced_widgets": [
            "9053bc14eede4306ab578fc1a7c1996a",
            "ccdb2fb7ed05482d87d7b673be32b341",
            "7e81dbda7bce4cefa7eb1cdd4b5ad501",
            "6d73a22704f64b2d9a4cd72aeafbff83",
            "567922e32102417f8b0b9e9458aa82b8",
            "1c5168a5c4eb40fa90bfa6dbcc7a0da0",
            "42b56d5873ef467a81f0705341a13542",
            "eac26b86283d42a0b5a5532f3dd31d31",
            "963415bcf77c4a8f9f911acb3942bfdf",
            "ce9a5441b45740e08f47742fc10c1e37",
            "dcf75b079ef24b15926d475ded44d834"
          ]
        },
        "id": "Z8ZZIXaFu1Jy",
        "outputId": "d77b6b47-2925-49bc-e79c-eee49c601eca"
      },
      "outputs": [
        {
          "output_type": "display_data",
          "data": {
            "text/plain": [
              "model.safetensors:   0%|          | 0.00/378M [00:00<?, ?B/s]"
            ],
            "application/vnd.jupyter.widget-view+json": {
              "version_major": 2,
              "version_minor": 0,
              "model_id": "9053bc14eede4306ab578fc1a7c1996a"
            }
          },
          "metadata": {}
        },
        {
          "output_type": "stream",
          "name": "stderr",
          "text": [
            "Some weights of Wav2Vec2Model were not initialized from the model checkpoint at facebook/wav2vec2-base-960h and are newly initialized: ['wav2vec2.encoder.pos_conv_embed.conv.parametrizations.weight.original0', 'wav2vec2.encoder.pos_conv_embed.conv.parametrizations.weight.original1', 'wav2vec2.masked_spec_embed']\n",
            "You should probably TRAIN this model on a down-stream task to be able to use it for predictions and inference.\n"
          ]
        }
      ],
      "source": [
        "from transformers import AutoModel\n",
        "\n",
        "num_labels = 4\n",
        "model = (AutoModel.from_pretrained(model_ckpt, num_labels=num_labels).to(device))"
      ]
    },
    {
      "cell_type": "code",
      "execution_count": null,
      "metadata": {
        "colab": {
          "base_uri": "https://localhost:8080/"
        },
        "id": "FaUW8GqAu1Jy",
        "outputId": "768f0383-f6c3-470b-c677-6b7dfaca9cdb"
      },
      "outputs": [
        {
          "output_type": "execute_result",
          "data": {
            "text/plain": [
              "Wav2Vec2Model(\n",
              "  (feature_extractor): Wav2Vec2FeatureEncoder(\n",
              "    (conv_layers): ModuleList(\n",
              "      (0): Wav2Vec2GroupNormConvLayer(\n",
              "        (conv): Conv1d(1, 512, kernel_size=(10,), stride=(5,), bias=False)\n",
              "        (activation): GELUActivation()\n",
              "        (layer_norm): GroupNorm(512, 512, eps=1e-05, affine=True)\n",
              "      )\n",
              "      (1-4): 4 x Wav2Vec2NoLayerNormConvLayer(\n",
              "        (conv): Conv1d(512, 512, kernel_size=(3,), stride=(2,), bias=False)\n",
              "        (activation): GELUActivation()\n",
              "      )\n",
              "      (5-6): 2 x Wav2Vec2NoLayerNormConvLayer(\n",
              "        (conv): Conv1d(512, 512, kernel_size=(2,), stride=(2,), bias=False)\n",
              "        (activation): GELUActivation()\n",
              "      )\n",
              "    )\n",
              "  )\n",
              "  (feature_projection): Wav2Vec2FeatureProjection(\n",
              "    (layer_norm): LayerNorm((512,), eps=1e-05, elementwise_affine=True)\n",
              "    (projection): Linear(in_features=512, out_features=768, bias=True)\n",
              "    (dropout): Dropout(p=0.1, inplace=False)\n",
              "  )\n",
              "  (encoder): Wav2Vec2Encoder(\n",
              "    (pos_conv_embed): Wav2Vec2PositionalConvEmbedding(\n",
              "      (conv): ParametrizedConv1d(\n",
              "        768, 768, kernel_size=(128,), stride=(1,), padding=(64,), groups=16\n",
              "        (parametrizations): ModuleDict(\n",
              "          (weight): ParametrizationList(\n",
              "            (0): _WeightNorm()\n",
              "          )\n",
              "        )\n",
              "      )\n",
              "      (padding): Wav2Vec2SamePadLayer()\n",
              "      (activation): GELUActivation()\n",
              "    )\n",
              "    (layer_norm): LayerNorm((768,), eps=1e-05, elementwise_affine=True)\n",
              "    (dropout): Dropout(p=0.1, inplace=False)\n",
              "    (layers): ModuleList(\n",
              "      (0-11): 12 x Wav2Vec2EncoderLayer(\n",
              "        (attention): Wav2Vec2Attention(\n",
              "          (k_proj): Linear(in_features=768, out_features=768, bias=True)\n",
              "          (v_proj): Linear(in_features=768, out_features=768, bias=True)\n",
              "          (q_proj): Linear(in_features=768, out_features=768, bias=True)\n",
              "          (out_proj): Linear(in_features=768, out_features=768, bias=True)\n",
              "        )\n",
              "        (dropout): Dropout(p=0.1, inplace=False)\n",
              "        (layer_norm): LayerNorm((768,), eps=1e-05, elementwise_affine=True)\n",
              "        (feed_forward): Wav2Vec2FeedForward(\n",
              "          (intermediate_dropout): Dropout(p=0.1, inplace=False)\n",
              "          (intermediate_dense): Linear(in_features=768, out_features=3072, bias=True)\n",
              "          (intermediate_act_fn): GELUActivation()\n",
              "          (output_dense): Linear(in_features=3072, out_features=768, bias=True)\n",
              "          (output_dropout): Dropout(p=0.1, inplace=False)\n",
              "        )\n",
              "        (final_layer_norm): LayerNorm((768,), eps=1e-05, elementwise_affine=True)\n",
              "      )\n",
              "    )\n",
              "  )\n",
              ")"
            ]
          },
          "metadata": {},
          "execution_count": 17
        }
      ],
      "source": [
        "model"
      ]
    },
    {
      "cell_type": "code",
      "execution_count": null,
      "metadata": {
        "colab": {
          "base_uri": "https://localhost:8080/"
        },
        "id": "8cbQ0WVhPy0B",
        "outputId": "312d159b-2217-4c9e-8eff-1e48cc195c9c"
      },
      "outputs": [
        {
          "output_type": "execute_result",
          "data": {
            "text/plain": [
              "Wav2Vec2Encoder(\n",
              "  (pos_conv_embed): Wav2Vec2PositionalConvEmbedding(\n",
              "    (conv): ParametrizedConv1d(\n",
              "      768, 768, kernel_size=(128,), stride=(1,), padding=(64,), groups=16\n",
              "      (parametrizations): ModuleDict(\n",
              "        (weight): ParametrizationList(\n",
              "          (0): _WeightNorm()\n",
              "        )\n",
              "      )\n",
              "    )\n",
              "    (padding): Wav2Vec2SamePadLayer()\n",
              "    (activation): GELUActivation()\n",
              "  )\n",
              "  (layer_norm): LayerNorm((768,), eps=1e-05, elementwise_affine=True)\n",
              "  (dropout): Dropout(p=0.1, inplace=False)\n",
              "  (layers): ModuleList(\n",
              "    (0-11): 12 x Wav2Vec2EncoderLayer(\n",
              "      (attention): Wav2Vec2Attention(\n",
              "        (k_proj): Linear(in_features=768, out_features=768, bias=True)\n",
              "        (v_proj): Linear(in_features=768, out_features=768, bias=True)\n",
              "        (q_proj): Linear(in_features=768, out_features=768, bias=True)\n",
              "        (out_proj): Linear(in_features=768, out_features=768, bias=True)\n",
              "      )\n",
              "      (dropout): Dropout(p=0.1, inplace=False)\n",
              "      (layer_norm): LayerNorm((768,), eps=1e-05, elementwise_affine=True)\n",
              "      (feed_forward): Wav2Vec2FeedForward(\n",
              "        (intermediate_dropout): Dropout(p=0.1, inplace=False)\n",
              "        (intermediate_dense): Linear(in_features=768, out_features=3072, bias=True)\n",
              "        (intermediate_act_fn): GELUActivation()\n",
              "        (output_dense): Linear(in_features=3072, out_features=768, bias=True)\n",
              "        (output_dropout): Dropout(p=0.1, inplace=False)\n",
              "      )\n",
              "      (final_layer_norm): LayerNorm((768,), eps=1e-05, elementwise_affine=True)\n",
              "    )\n",
              "  )\n",
              ")"
            ]
          },
          "metadata": {},
          "execution_count": 19
        }
      ],
      "source": [
        "model.encoder"
      ]
    },
    {
      "cell_type": "code",
      "execution_count": null,
      "metadata": {
        "id": "K-V1yt5lu1Jy"
      },
      "outputs": [],
      "source": [
        "# previous inputs object don't have device type, so we should place them in the same device as the model (if we don't run this code and our model is in GPU, there will be a problem becaue the place of tensors and model is different.)\n",
        "inputs = {k:v.to(device) for k,v in inputs.items()}"
      ]
    },
    {
      "cell_type": "code",
      "execution_count": null,
      "metadata": {
        "colab": {
          "base_uri": "https://localhost:8080/"
        },
        "id": "uJb4EVU3u1Jy",
        "outputId": "76e68f6b-9310-4146-d018-d4df854f0b88"
      },
      "outputs": [
        {
          "output_type": "execute_result",
          "data": {
            "text/plain": [
              "{'input_values': tensor([[0.0386, 0.0337, 0.0322,  ..., 0.0070, 0.0095, 0.0169]],\n",
              "        device='cuda:0')}"
            ]
          },
          "metadata": {},
          "execution_count": 21
        }
      ],
      "source": [
        "inputs"
      ]
    },
    {
      "cell_type": "code",
      "execution_count": null,
      "metadata": {
        "colab": {
          "base_uri": "https://localhost:8080/"
        },
        "id": "SI6V8Rxnu1Jy",
        "outputId": "39300ccf-827e-4646-d9b9-7e9dbb9dd190"
      },
      "outputs": [
        {
          "output_type": "execute_result",
          "data": {
            "text/plain": [
              "dict"
            ]
          },
          "metadata": {},
          "execution_count": 22
        }
      ],
      "source": [
        "type(inputs)"
      ]
    },
    {
      "cell_type": "code",
      "execution_count": null,
      "metadata": {
        "id": "Yizy6Bwyu1Jy"
      },
      "outputs": [],
      "source": [
        "with torch.no_grad():\n",
        "  outputs = model(**inputs)"
      ]
    },
    {
      "cell_type": "code",
      "execution_count": null,
      "metadata": {
        "colab": {
          "base_uri": "https://localhost:8080/"
        },
        "id": "EFJ9jDmKu1Jy",
        "outputId": "e2a67828-b5f9-489e-d29f-db6cd62670d3"
      },
      "outputs": [
        {
          "output_type": "execute_result",
          "data": {
            "text/plain": [
              "Wav2Vec2BaseModelOutput(last_hidden_state=tensor([[[-0.0032, -0.0086,  0.0228,  ..., -0.1943,  0.0403, -0.1071],\n",
              "         [ 0.0021, -0.0078,  0.0206,  ..., -0.2157,  0.0311, -0.1106],\n",
              "         [-0.0056, -0.0331,  0.0698,  ..., -0.2463, -0.0076, -0.1500],\n",
              "         ...,\n",
              "         [-0.0061, -0.0336,  0.0705,  ..., -0.2466, -0.0082, -0.1501],\n",
              "         [-0.0013, -0.0162,  0.0132,  ..., -0.1883,  0.0449, -0.0850],\n",
              "         [-0.0029, -0.0174,  0.0129,  ..., -0.1893,  0.0441, -0.0822]]],\n",
              "       device='cuda:0'), extract_features=tensor([[[-0.1333,  0.4963, -0.1661,  ...,  0.0779, -0.1221,  0.2210],\n",
              "         [-0.0114,  0.2933, -0.1618,  ...,  0.0162,  0.1916,  0.1411],\n",
              "         [ 0.2863,  0.2206,  0.0498,  ...,  0.3393,  0.0983,  0.1178],\n",
              "         ...,\n",
              "         [-0.1779,  0.1665, -0.0653,  ...,  0.7739,  0.0545,  0.2607],\n",
              "         [-0.3813,  0.0677,  0.1115,  ...,  1.0431,  0.3075,  0.1133],\n",
              "         [ 0.2753,  0.1415,  0.1551,  ...,  0.5013,  0.1535, -0.0632]]],\n",
              "       device='cuda:0'), hidden_states=None, attentions=None)"
            ]
          },
          "metadata": {},
          "execution_count": 24
        }
      ],
      "source": [
        "outputs"
      ]
    },
    {
      "cell_type": "code",
      "execution_count": null,
      "metadata": {
        "colab": {
          "base_uri": "https://localhost:8080/"
        },
        "id": "Dt6O5jeAu1Jy",
        "outputId": "5e7d6ea0-f011-418c-c6a4-ed1cf261bd4a"
      },
      "outputs": [
        {
          "output_type": "stream",
          "name": "stdout",
          "text": [
            "last_hidden_state\n",
            "extract_features\n"
          ]
        }
      ],
      "source": [
        "for k, v in outputs.items():\n",
        "  print(k)"
      ]
    },
    {
      "cell_type": "markdown",
      "metadata": {
        "id": "WNe0vEjswl6u"
      },
      "source": [
        "As we can see, we set didn't set `output_hidden_states = True`, so in the output, `hidden_states` parameter doesn't have value and we have value just for `last_hidden_state` and `extract_features` parameters."
      ]
    },
    {
      "cell_type": "code",
      "execution_count": null,
      "metadata": {
        "id": "hmyxxY40u1Jz"
      },
      "outputs": [],
      "source": [
        "y = outputs[\"last_hidden_state\"]"
      ]
    },
    {
      "cell_type": "code",
      "execution_count": null,
      "metadata": {
        "colab": {
          "base_uri": "https://localhost:8080/"
        },
        "id": "kzFunru6xNSe",
        "outputId": "0080043b-ac47-447d-a513-82ba50e02888"
      },
      "outputs": [
        {
          "output_type": "execute_result",
          "data": {
            "text/plain": [
              "tensor([[[-0.0032, -0.0086,  0.0228,  ..., -0.1943,  0.0403, -0.1071],\n",
              "         [ 0.0021, -0.0078,  0.0206,  ..., -0.2157,  0.0311, -0.1106],\n",
              "         [-0.0056, -0.0331,  0.0698,  ..., -0.2463, -0.0076, -0.1500],\n",
              "         ...,\n",
              "         [-0.0061, -0.0336,  0.0705,  ..., -0.2466, -0.0082, -0.1501],\n",
              "         [-0.0013, -0.0162,  0.0132,  ..., -0.1883,  0.0449, -0.0850],\n",
              "         [-0.0029, -0.0174,  0.0129,  ..., -0.1893,  0.0441, -0.0822]]],\n",
              "       device='cuda:0')"
            ]
          },
          "metadata": {},
          "execution_count": 27
        }
      ],
      "source": [
        "y"
      ]
    },
    {
      "cell_type": "code",
      "execution_count": null,
      "metadata": {
        "colab": {
          "base_uri": "https://localhost:8080/"
        },
        "id": "nQPFOtynu1Jz",
        "outputId": "f88b7630-46bb-4f40-9e6c-af5d66f05233"
      },
      "outputs": [
        {
          "output_type": "execute_result",
          "data": {
            "text/plain": [
              "torch.Size([1, 292, 768])"
            ]
          },
          "metadata": {},
          "execution_count": 28
        }
      ],
      "source": [
        "y.shape"
      ]
    },
    {
      "cell_type": "markdown",
      "metadata": {
        "id": "kOlTV1lKzI9U"
      },
      "source": [
        "It is obvious that `y` is the last hidden state in out model (hidden state that is corresponds to last layer(12th layer)). The shape of this object is like (batch_size, number of tokens, hidden size), out sentence has 5 tokens and as we know in transformers based models we always put `[CLS]` token at the begining of each **sequence** and `[SEP]` token at the end of each **sentence**. So, all in all we have 6 (4 tokens in sentenece + 2 special tokens) tokens. In this example we want to extract `[CLS]` token, so in this case we should select first token of this batch.\n",
        "\n",
        "For this aim these two lines of codes are the same and give us `[CLS]` token.\n",
        "\n",
        "```\n",
        "utputs.last_hidden_state[:,0]\n",
        "```\n",
        "and\n",
        "```\n",
        "outputs.last_hidden_state[:,0,:]\n",
        "```"
      ]
    },
    {
      "cell_type": "code",
      "execution_count": null,
      "metadata": {
        "id": "_9ZZfgxRxcYu"
      },
      "outputs": [],
      "source": [
        "zx = outputs.last_hidden_state[:,0,:]"
      ]
    },
    {
      "cell_type": "code",
      "execution_count": null,
      "metadata": {
        "colab": {
          "base_uri": "https://localhost:8080/"
        },
        "id": "V5hDJUoExmwY",
        "outputId": "ba076739-995a-489d-fbd3-594dee1da3f4"
      },
      "outputs": [
        {
          "output_type": "execute_result",
          "data": {
            "text/plain": [
              "torch.Size([1, 768])"
            ]
          },
          "metadata": {},
          "execution_count": 30
        }
      ],
      "source": [
        "zx.size()"
      ]
    },
    {
      "cell_type": "code",
      "execution_count": null,
      "metadata": {
        "id": "BkqAXJC5xocr"
      },
      "outputs": [],
      "source": [
        "zy = outputs.last_hidden_state[:,0]"
      ]
    },
    {
      "cell_type": "code",
      "execution_count": null,
      "metadata": {
        "colab": {
          "base_uri": "https://localhost:8080/"
        },
        "id": "StCy-irFxrHw",
        "outputId": "ed673143-90f1-4c28-d2f8-12480ce8d069"
      },
      "outputs": [
        {
          "output_type": "execute_result",
          "data": {
            "text/plain": [
              "torch.Size([1, 768])"
            ]
          },
          "metadata": {},
          "execution_count": 32
        }
      ],
      "source": [
        "zy.size()"
      ]
    },
    {
      "cell_type": "markdown",
      "metadata": {
        "id": "hKBGvmVR06hp"
      },
      "source": [
        "In this line of code we proof the equality of those two lines of codes."
      ]
    },
    {
      "cell_type": "code",
      "execution_count": null,
      "metadata": {
        "colab": {
          "base_uri": "https://localhost:8080/"
        },
        "id": "ZTStDLidu1J0",
        "outputId": "31360656-348b-4490-dc8f-8be3692f5a82"
      },
      "outputs": [
        {
          "output_type": "execute_result",
          "data": {
            "text/plain": [
              "tensor(True, device='cuda:0')"
            ]
          },
          "metadata": {},
          "execution_count": 33
        }
      ],
      "source": [
        "torch.all(zx == zy)"
      ]
    },
    {
      "cell_type": "markdown",
      "metadata": {
        "id": "XXvUDTWkulFg"
      },
      "source": [
        "### AutoModel class (output_hidden_states = True)"
      ]
    },
    {
      "cell_type": "markdown",
      "metadata": {
        "id": "Z2nkz5U51Jmy"
      },
      "source": [
        "This time we set `output_hidden_states=True`. So, in the output we will have output of each hidden states in addition to `last_hidden_state` parameter."
      ]
    },
    {
      "cell_type": "code",
      "execution_count": null,
      "metadata": {
        "id": "Xp1dBWWwp8bd",
        "outputId": "9dcce53a-5fd8-4cd8-d8ff-08fd9c7b433a",
        "colab": {
          "base_uri": "https://localhost:8080/"
        }
      },
      "outputs": [
        {
          "output_type": "stream",
          "name": "stderr",
          "text": [
            "Some weights of Wav2Vec2Model were not initialized from the model checkpoint at facebook/wav2vec2-base-960h and are newly initialized: ['wav2vec2.encoder.pos_conv_embed.conv.parametrizations.weight.original0', 'wav2vec2.encoder.pos_conv_embed.conv.parametrizations.weight.original1', 'wav2vec2.masked_spec_embed']\n",
            "You should probably TRAIN this model on a down-stream task to be able to use it for predictions and inference.\n"
          ]
        }
      ],
      "source": [
        "from transformers import AutoModel\n",
        "\n",
        "num_labels = 4\n",
        "model = (AutoModel.from_pretrained(model_ckpt, num_labels=num_labels, output_hidden_states=True).to(device))"
      ]
    },
    {
      "cell_type": "code",
      "execution_count": null,
      "metadata": {
        "colab": {
          "base_uri": "https://localhost:8080/"
        },
        "id": "-IKvi5NiqGAm",
        "outputId": "5f0117c6-8058-4fda-8713-879ff77c05de"
      },
      "outputs": [
        {
          "output_type": "execute_result",
          "data": {
            "text/plain": [
              "Wav2Vec2Model(\n",
              "  (feature_extractor): Wav2Vec2FeatureEncoder(\n",
              "    (conv_layers): ModuleList(\n",
              "      (0): Wav2Vec2GroupNormConvLayer(\n",
              "        (conv): Conv1d(1, 512, kernel_size=(10,), stride=(5,), bias=False)\n",
              "        (activation): GELUActivation()\n",
              "        (layer_norm): GroupNorm(512, 512, eps=1e-05, affine=True)\n",
              "      )\n",
              "      (1-4): 4 x Wav2Vec2NoLayerNormConvLayer(\n",
              "        (conv): Conv1d(512, 512, kernel_size=(3,), stride=(2,), bias=False)\n",
              "        (activation): GELUActivation()\n",
              "      )\n",
              "      (5-6): 2 x Wav2Vec2NoLayerNormConvLayer(\n",
              "        (conv): Conv1d(512, 512, kernel_size=(2,), stride=(2,), bias=False)\n",
              "        (activation): GELUActivation()\n",
              "      )\n",
              "    )\n",
              "  )\n",
              "  (feature_projection): Wav2Vec2FeatureProjection(\n",
              "    (layer_norm): LayerNorm((512,), eps=1e-05, elementwise_affine=True)\n",
              "    (projection): Linear(in_features=512, out_features=768, bias=True)\n",
              "    (dropout): Dropout(p=0.1, inplace=False)\n",
              "  )\n",
              "  (encoder): Wav2Vec2Encoder(\n",
              "    (pos_conv_embed): Wav2Vec2PositionalConvEmbedding(\n",
              "      (conv): ParametrizedConv1d(\n",
              "        768, 768, kernel_size=(128,), stride=(1,), padding=(64,), groups=16\n",
              "        (parametrizations): ModuleDict(\n",
              "          (weight): ParametrizationList(\n",
              "            (0): _WeightNorm()\n",
              "          )\n",
              "        )\n",
              "      )\n",
              "      (padding): Wav2Vec2SamePadLayer()\n",
              "      (activation): GELUActivation()\n",
              "    )\n",
              "    (layer_norm): LayerNorm((768,), eps=1e-05, elementwise_affine=True)\n",
              "    (dropout): Dropout(p=0.1, inplace=False)\n",
              "    (layers): ModuleList(\n",
              "      (0-11): 12 x Wav2Vec2EncoderLayer(\n",
              "        (attention): Wav2Vec2Attention(\n",
              "          (k_proj): Linear(in_features=768, out_features=768, bias=True)\n",
              "          (v_proj): Linear(in_features=768, out_features=768, bias=True)\n",
              "          (q_proj): Linear(in_features=768, out_features=768, bias=True)\n",
              "          (out_proj): Linear(in_features=768, out_features=768, bias=True)\n",
              "        )\n",
              "        (dropout): Dropout(p=0.1, inplace=False)\n",
              "        (layer_norm): LayerNorm((768,), eps=1e-05, elementwise_affine=True)\n",
              "        (feed_forward): Wav2Vec2FeedForward(\n",
              "          (intermediate_dropout): Dropout(p=0.1, inplace=False)\n",
              "          (intermediate_dense): Linear(in_features=768, out_features=3072, bias=True)\n",
              "          (intermediate_act_fn): GELUActivation()\n",
              "          (output_dense): Linear(in_features=3072, out_features=768, bias=True)\n",
              "          (output_dropout): Dropout(p=0.1, inplace=False)\n",
              "        )\n",
              "        (final_layer_norm): LayerNorm((768,), eps=1e-05, elementwise_affine=True)\n",
              "      )\n",
              "    )\n",
              "  )\n",
              ")"
            ]
          },
          "metadata": {},
          "execution_count": 35
        }
      ],
      "source": [
        "model"
      ]
    },
    {
      "cell_type": "code",
      "execution_count": null,
      "metadata": {
        "id": "5J00ArPmqF9o"
      },
      "outputs": [],
      "source": [
        "inputs = {k:v.to(device) for k,v in inputs.items()}"
      ]
    },
    {
      "cell_type": "code",
      "execution_count": null,
      "metadata": {
        "colab": {
          "base_uri": "https://localhost:8080/"
        },
        "id": "iHtINW_tqF5k",
        "outputId": "175702c5-d70a-4391-d64b-bb51ae30999a"
      },
      "outputs": [
        {
          "output_type": "execute_result",
          "data": {
            "text/plain": [
              "{'input_values': tensor([[0.0386, 0.0337, 0.0322,  ..., 0.0070, 0.0095, 0.0169]],\n",
              "        device='cuda:0')}"
            ]
          },
          "metadata": {},
          "execution_count": 37
        }
      ],
      "source": [
        "inputs"
      ]
    },
    {
      "cell_type": "code",
      "execution_count": null,
      "metadata": {
        "colab": {
          "base_uri": "https://localhost:8080/"
        },
        "id": "cWa1KF-zrJq7",
        "outputId": "1cbce41e-e1ea-44fb-f591-51fdb8b94819"
      },
      "outputs": [
        {
          "output_type": "execute_result",
          "data": {
            "text/plain": [
              "dict"
            ]
          },
          "metadata": {},
          "execution_count": 38
        }
      ],
      "source": [
        "type(inputs)"
      ]
    },
    {
      "cell_type": "code",
      "execution_count": null,
      "metadata": {
        "id": "YpQNmjygrJoQ"
      },
      "outputs": [],
      "source": [
        "with torch.no_grad():\n",
        "  outputs = model(**inputs)"
      ]
    },
    {
      "cell_type": "code",
      "execution_count": null,
      "metadata": {
        "colab": {
          "base_uri": "https://localhost:8080/"
        },
        "id": "Tsnnb6p8rJk0",
        "outputId": "e31d2b10-3585-4f04-fcda-33ea8481deba"
      },
      "outputs": [
        {
          "output_type": "execute_result",
          "data": {
            "text/plain": [
              "Wav2Vec2BaseModelOutput(last_hidden_state=tensor([[[-0.0032, -0.0086,  0.0228,  ..., -0.1943,  0.0403, -0.1071],\n",
              "         [ 0.0021, -0.0078,  0.0206,  ..., -0.2157,  0.0311, -0.1106],\n",
              "         [-0.0056, -0.0331,  0.0698,  ..., -0.2463, -0.0076, -0.1500],\n",
              "         ...,\n",
              "         [-0.0061, -0.0336,  0.0705,  ..., -0.2466, -0.0082, -0.1501],\n",
              "         [-0.0013, -0.0162,  0.0132,  ..., -0.1883,  0.0449, -0.0850],\n",
              "         [-0.0029, -0.0174,  0.0129,  ..., -0.1893,  0.0441, -0.0822]]],\n",
              "       device='cuda:0'), extract_features=tensor([[[-0.1333,  0.4963, -0.1661,  ...,  0.0779, -0.1221,  0.2210],\n",
              "         [-0.0114,  0.2933, -0.1618,  ...,  0.0162,  0.1916,  0.1411],\n",
              "         [ 0.2863,  0.2206,  0.0498,  ...,  0.3393,  0.0983,  0.1178],\n",
              "         ...,\n",
              "         [-0.1779,  0.1665, -0.0653,  ...,  0.7739,  0.0545,  0.2607],\n",
              "         [-0.3813,  0.0677,  0.1115,  ...,  1.0431,  0.3075,  0.1133],\n",
              "         [ 0.2753,  0.1415,  0.1551,  ...,  0.5013,  0.1535, -0.0632]]],\n",
              "       device='cuda:0'), hidden_states=(tensor([[[ 0.1268, -0.6065,  0.1728,  ..., -0.1042,  0.0300,  0.0992],\n",
              "         [ 0.2772, -0.3489, -0.0101,  ..., -0.1404, -0.0408,  0.1601],\n",
              "         [ 0.0686, -0.2589, -0.2347,  ...,  0.1477, -0.2343,  0.2663],\n",
              "         ...,\n",
              "         [-0.0095, -0.2362,  0.2269,  ..., -0.2547, -0.1206,  0.2207],\n",
              "         [ 0.2402, -0.2564,  0.1918,  ...,  0.0832,  0.0278,  0.2594],\n",
              "         [-0.1356, -0.1467,  0.2775,  ..., -0.1656, -0.2945,  0.6156]]],\n",
              "       device='cuda:0'), tensor([[[ 0.2410, -0.1939,  0.1821,  ...,  0.1164,  0.0805,  0.1752],\n",
              "         [ 0.3539, -0.1995,  0.1245,  ...,  0.0254, -0.1509,  0.2396],\n",
              "         [ 0.3606, -0.2190,  0.0775,  ...,  0.2022, -0.2204,  0.3670],\n",
              "         ...,\n",
              "         [ 0.2438, -0.2710,  0.1719,  ..., -0.1546, -0.2640,  0.3820],\n",
              "         [ 0.1722, -0.2075, -0.0498,  ..., -0.1815, -0.2613,  0.2820],\n",
              "         [ 0.0284, -0.0592,  0.0477,  ..., -0.3266, -0.1705,  0.3963]]],\n",
              "       device='cuda:0'), tensor([[[ 0.1697, -0.1720, -0.1456,  ...,  0.2066, -0.0957,  0.2312],\n",
              "         [ 0.0766, -0.2137, -0.1299,  ...,  0.0258, -0.1343,  0.2308],\n",
              "         [ 0.0965, -0.3485, -0.0517,  ...,  0.1190, -0.0645,  0.2626],\n",
              "         ...,\n",
              "         [ 0.0955, -0.3133,  0.1476,  ...,  0.1161, -0.2490,  0.5341],\n",
              "         [ 0.1534, -0.2566,  0.0078,  ..., -0.0217, -0.1795,  0.4338],\n",
              "         [ 0.0630, -0.1292,  0.0839,  ..., -0.2026, -0.1916,  0.4727]]],\n",
              "       device='cuda:0'), tensor([[[ 0.0383, -0.0690, -0.0510,  ...,  0.3331, -0.0845,  0.1380],\n",
              "         [-0.0370, -0.3450, -0.0304,  ...,  0.2212, -0.0032,  0.1423],\n",
              "         [ 0.0435, -0.3911, -0.0390,  ...,  0.1560,  0.1195,  0.2283],\n",
              "         ...,\n",
              "         [-0.0918, -0.6114,  0.0495,  ...,  0.1532, -0.0134,  0.2574],\n",
              "         [-0.0029, -0.4536,  0.0754,  ...,  0.0343, -0.0049,  0.3217],\n",
              "         [-0.0203, -0.3207,  0.1488,  ...,  0.0809, -0.1059,  0.4571]]],\n",
              "       device='cuda:0'), tensor([[[ 0.1795, -0.0373, -0.1421,  ...,  0.1068,  0.0604, -0.0174],\n",
              "         [ 0.2071, -0.2208, -0.1913,  ..., -0.0039, -0.0101, -0.0298],\n",
              "         [ 0.2418, -0.2787, -0.1678,  ..., -0.1015,  0.0495, -0.0579],\n",
              "         ...,\n",
              "         [ 0.0318, -0.0171, -0.0714,  ...,  0.0432,  0.2028,  0.1734],\n",
              "         [ 0.1762,  0.0500, -0.0352,  ..., -0.1063,  0.0201,  0.2557],\n",
              "         [ 0.1438,  0.1217, -0.0213,  ..., -0.0550, -0.0620,  0.3151]]],\n",
              "       device='cuda:0'), tensor([[[ 0.1634, -0.1012, -0.2191,  ...,  0.0625, -0.0736, -0.0558],\n",
              "         [ 0.1855, -0.1487, -0.1960,  ...,  0.0087, -0.0979, -0.0622],\n",
              "         [ 0.1977, -0.1903, -0.1369,  ..., -0.0559, -0.0542, -0.0548],\n",
              "         ...,\n",
              "         [ 0.0971,  0.1091, -0.0544,  ...,  0.0036, -0.1374,  0.1357],\n",
              "         [ 0.0508,  0.1728,  0.0561,  ...,  0.0497, -0.2041,  0.1862],\n",
              "         [-0.0257,  0.1500, -0.0279,  ...,  0.0699, -0.1937,  0.2044]]],\n",
              "       device='cuda:0'), tensor([[[-0.0492,  0.0380, -0.1676,  ...,  0.0873, -0.0076,  0.0488],\n",
              "         [ 0.0008,  0.0143, -0.1485,  ...,  0.0433,  0.0005,  0.0562],\n",
              "         [ 0.0691,  0.0410, -0.1108,  ..., -0.0332, -0.0177, -0.0133],\n",
              "         ...,\n",
              "         [ 0.0194,  0.0777, -0.0248,  ..., -0.0245, -0.0651, -0.0018],\n",
              "         [-0.0161, -0.1029,  0.0002,  ..., -0.1013, -0.0243,  0.2130],\n",
              "         [ 0.0096, -0.0651,  0.0010,  ..., -0.0560, -0.0116,  0.2026]]],\n",
              "       device='cuda:0'), tensor([[[ 0.0096, -0.2763, -0.0867,  ...,  0.1564,  0.0437, -0.0723],\n",
              "         [-0.0159, -0.3193, -0.0831,  ...,  0.1195,  0.1085, -0.0811],\n",
              "         [-0.0020,  0.0036, -0.0393,  ...,  0.0107, -0.0128,  0.0222],\n",
              "         ...,\n",
              "         [-0.0004,  0.0412, -0.0243,  ...,  0.0179, -0.0203,  0.0245],\n",
              "         [ 0.1319, -0.1534, -0.0187,  ...,  0.1284,  0.2651, -0.0196],\n",
              "         [ 0.1632, -0.1746, -0.0316,  ...,  0.1291,  0.2799,  0.0143]]],\n",
              "       device='cuda:0'), tensor([[[ 0.1080, -0.0352,  0.2329,  ...,  0.2783,  0.2582,  0.0310],\n",
              "         [ 0.0906, -0.0480,  0.2038,  ...,  0.2779,  0.3002,  0.0304],\n",
              "         [ 0.0046, -0.0045, -0.0375,  ...,  0.0025, -0.0330,  0.0018],\n",
              "         ...,\n",
              "         [ 0.0060, -0.0015, -0.0405,  ...,  0.0114, -0.0321, -0.0024],\n",
              "         [ 0.1592, -0.1500,  0.0257,  ...,  0.2684,  0.2293,  0.1413],\n",
              "         [ 0.1525, -0.1498,  0.0380,  ...,  0.2587,  0.2653,  0.1267]]],\n",
              "       device='cuda:0'), tensor([[[ 0.2146,  0.0821, -0.0366,  ...,  0.1410,  0.4185,  0.0626],\n",
              "         [ 0.1751,  0.0351, -0.0263,  ...,  0.0995,  0.3573,  0.0621],\n",
              "         [-0.0128,  0.0323, -0.0505,  ..., -0.0161, -0.0081, -0.0016],\n",
              "         ...,\n",
              "         [-0.0133,  0.0333, -0.0517,  ..., -0.0144, -0.0151,  0.0021],\n",
              "         [ 0.2252,  0.0142, -0.1031,  ...,  0.0559,  0.5895,  0.1300],\n",
              "         [ 0.2442,  0.0074, -0.1128,  ...,  0.0739,  0.6085,  0.1626]]],\n",
              "       device='cuda:0'), tensor([[[ 2.1205e-01,  1.5542e-01,  2.1148e-01,  ..., -6.7580e-02,\n",
              "           3.0944e-01,  1.0338e-01],\n",
              "         [ 1.4092e-01,  1.1878e-01,  1.7750e-01,  ..., -7.5962e-02,\n",
              "           2.8102e-01,  7.5093e-02],\n",
              "         [ 9.8860e-03, -1.1089e-03, -1.1254e-02,  ..., -2.7448e-02,\n",
              "           4.3212e-02,  8.4103e-05],\n",
              "         ...,\n",
              "         [ 1.0160e-02, -1.4923e-03, -1.2494e-02,  ..., -2.6592e-02,\n",
              "           4.1630e-02,  2.3328e-04],\n",
              "         [ 1.9054e-01,  2.1230e-01,  2.3489e-01,  ..., -1.0466e-01,\n",
              "           3.9857e-01,  1.4679e-01],\n",
              "         [ 2.0540e-01,  2.0862e-01,  2.1016e-01,  ..., -7.6329e-02,\n",
              "           4.0258e-01,  1.7685e-01]]], device='cuda:0'), tensor([[[ 0.0280,  0.3139,  0.2465,  ..., -0.0212,  0.2569,  0.0926],\n",
              "         [ 0.0382,  0.3199,  0.2189,  ..., -0.0287,  0.2474,  0.0968],\n",
              "         [ 0.0758,  0.2974,  0.2100,  ..., -0.0276,  0.1753,  0.0696],\n",
              "         ...,\n",
              "         [ 0.0761,  0.2969,  0.2102,  ..., -0.0274,  0.1746,  0.0690],\n",
              "         [ 0.0346,  0.3201,  0.2618,  ..., -0.0117,  0.2421,  0.1323],\n",
              "         [ 0.0327,  0.3230,  0.2535,  ..., -0.0052,  0.2374,  0.1339]]],\n",
              "       device='cuda:0'), tensor([[[-0.0032, -0.0086,  0.0228,  ..., -0.1943,  0.0403, -0.1071],\n",
              "         [ 0.0021, -0.0078,  0.0206,  ..., -0.2157,  0.0311, -0.1106],\n",
              "         [-0.0056, -0.0331,  0.0698,  ..., -0.2463, -0.0076, -0.1500],\n",
              "         ...,\n",
              "         [-0.0061, -0.0336,  0.0705,  ..., -0.2466, -0.0082, -0.1501],\n",
              "         [-0.0013, -0.0162,  0.0132,  ..., -0.1883,  0.0449, -0.0850],\n",
              "         [-0.0029, -0.0174,  0.0129,  ..., -0.1893,  0.0441, -0.0822]]],\n",
              "       device='cuda:0')), attentions=None)"
            ]
          },
          "metadata": {},
          "execution_count": 40
        }
      ],
      "source": [
        "outputs"
      ]
    },
    {
      "cell_type": "code",
      "execution_count": null,
      "metadata": {
        "colab": {
          "base_uri": "https://localhost:8080/"
        },
        "id": "jb1eRXYxrfRK",
        "outputId": "09e0f896-6924-494a-892a-279c2e70a5cb"
      },
      "outputs": [
        {
          "output_type": "stream",
          "name": "stdout",
          "text": [
            "last_hidden_state\n",
            "extract_features\n",
            "hidden_states\n"
          ]
        }
      ],
      "source": [
        "for k, v in outputs.items():\n",
        "  print(k)"
      ]
    },
    {
      "cell_type": "markdown",
      "metadata": {
        "id": "qfOScreI1kdp"
      },
      "source": [
        "As we can see, this time `hidden_states` parameter has value."
      ]
    },
    {
      "cell_type": "code",
      "execution_count": null,
      "metadata": {
        "colab": {
          "base_uri": "https://localhost:8080/"
        },
        "id": "DXFyBwTnr0qK",
        "outputId": "13c45f61-1ecc-445e-c44e-b09946a2ffa3"
      },
      "outputs": [
        {
          "output_type": "execute_result",
          "data": {
            "text/plain": [
              "13"
            ]
          },
          "metadata": {},
          "execution_count": 42
        }
      ],
      "source": [
        "len(outputs[\"hidden_states\"])"
      ]
    },
    {
      "cell_type": "markdown",
      "metadata": {
        "id": "gtIjM9y21wNx"
      },
      "source": [
        "The size of `hidden_state` parameter equals hidden states of the model at the output of each layer plus the optional initial embedding outputs. So, all in all the size equals (12 layers => 12 hidden states + 1 (initial embedding outputs)) = 13"
      ]
    },
    {
      "cell_type": "code",
      "execution_count": null,
      "metadata": {
        "colab": {
          "base_uri": "https://localhost:8080/"
        },
        "id": "Ykd6TFaEsG-z",
        "outputId": "ddacf096-3fcc-4451-e403-08ff395275e9"
      },
      "outputs": [
        {
          "output_type": "execute_result",
          "data": {
            "text/plain": [
              "torch.Size([1, 292, 768])"
            ]
          },
          "metadata": {},
          "execution_count": 43
        }
      ],
      "source": [
        "outputs[\"hidden_states\"][0].shape"
      ]
    },
    {
      "cell_type": "code",
      "execution_count": null,
      "metadata": {
        "colab": {
          "base_uri": "https://localhost:8080/"
        },
        "id": "6eYvcguQsOCP",
        "outputId": "f014053e-af66-4fb4-da4d-efafd924aba9"
      },
      "outputs": [
        {
          "output_type": "execute_result",
          "data": {
            "text/plain": [
              "torch.Size([1, 292, 768])"
            ]
          },
          "metadata": {},
          "execution_count": 44
        }
      ],
      "source": [
        "outputs[\"hidden_states\"][1].shape"
      ]
    },
    {
      "cell_type": "markdown",
      "metadata": {
        "id": "tahH_8492Tye"
      },
      "source": [
        "We can see that the size of tokens in each hidden state is the same and just embedding will be reacher in top layers (because of multi head attention)"
      ]
    },
    {
      "cell_type": "code",
      "execution_count": null,
      "metadata": {
        "id": "UCWXD4H5sRV8"
      },
      "outputs": [],
      "source": [
        "# extract last hidden state\n",
        "x = outputs[\"hidden_states\"][-1]"
      ]
    },
    {
      "cell_type": "code",
      "execution_count": null,
      "metadata": {
        "colab": {
          "base_uri": "https://localhost:8080/"
        },
        "id": "S0eJkDGH2oF5",
        "outputId": "d37ee86f-b02f-46d0-8a9c-466ccd7757e4"
      },
      "outputs": [
        {
          "output_type": "execute_result",
          "data": {
            "text/plain": [
              "torch.Size([1, 292, 768])"
            ]
          },
          "metadata": {},
          "execution_count": 46
        }
      ],
      "source": [
        "x.shape"
      ]
    },
    {
      "cell_type": "code",
      "execution_count": null,
      "metadata": {
        "id": "LUAGdLwosVet"
      },
      "outputs": [],
      "source": [
        "y = outputs[\"last_hidden_state\"]"
      ]
    },
    {
      "cell_type": "code",
      "execution_count": null,
      "metadata": {
        "colab": {
          "base_uri": "https://localhost:8080/"
        },
        "id": "xIzOTZvNsZH9",
        "outputId": "13c5b0ff-ab34-4e79-83ce-fdf4efca9e05"
      },
      "outputs": [
        {
          "output_type": "execute_result",
          "data": {
            "text/plain": [
              "torch.Size([1, 292, 768])"
            ]
          },
          "metadata": {},
          "execution_count": 48
        }
      ],
      "source": [
        "y.shape"
      ]
    },
    {
      "cell_type": "markdown",
      "metadata": {
        "id": "eQyujRp12q1u"
      },
      "source": [
        "We want to see that x and y objects are the same and check their equality.\n",
        "\n",
        "x => last hidden state from `hidden_states` parameter in output\n",
        "\n",
        "y => `last_hidden_state` parameter in output"
      ]
    },
    {
      "cell_type": "code",
      "execution_count": null,
      "metadata": {
        "colab": {
          "base_uri": "https://localhost:8080/"
        },
        "id": "zI_mHPwSsqyq",
        "outputId": "31e8ca01-5554-4edc-8a12-8d57d43f370d"
      },
      "outputs": [
        {
          "output_type": "execute_result",
          "data": {
            "text/plain": [
              "tensor(True, device='cuda:0')"
            ]
          },
          "metadata": {},
          "execution_count": 49
        }
      ],
      "source": [
        "torch.all(x == y)"
      ]
    },
    {
      "cell_type": "code",
      "execution_count": null,
      "metadata": {
        "id": "3s0TJt_j3BjO"
      },
      "outputs": [],
      "source": [
        "# output of pooler layer\n",
        "a = outputs[1]"
      ]
    },
    {
      "cell_type": "code",
      "execution_count": null,
      "metadata": {
        "colab": {
          "base_uri": "https://localhost:8080/"
        },
        "id": "VnWlLOAH4Jgy",
        "outputId": "dbf0eed4-a402-4b4b-ed79-47d82024a482"
      },
      "outputs": [
        {
          "output_type": "execute_result",
          "data": {
            "text/plain": [
              "tensor([[[-0.1333,  0.4963, -0.1661,  ...,  0.0779, -0.1221,  0.2210],\n",
              "         [-0.0114,  0.2933, -0.1618,  ...,  0.0162,  0.1916,  0.1411],\n",
              "         [ 0.2863,  0.2206,  0.0498,  ...,  0.3393,  0.0983,  0.1178],\n",
              "         ...,\n",
              "         [-0.1779,  0.1665, -0.0653,  ...,  0.7739,  0.0545,  0.2607],\n",
              "         [-0.3813,  0.0677,  0.1115,  ...,  1.0431,  0.3075,  0.1133],\n",
              "         [ 0.2753,  0.1415,  0.1551,  ...,  0.5013,  0.1535, -0.0632]]],\n",
              "       device='cuda:0')"
            ]
          },
          "metadata": {},
          "execution_count": 51
        }
      ],
      "source": [
        "a"
      ]
    },
    {
      "cell_type": "code",
      "execution_count": null,
      "metadata": {
        "colab": {
          "base_uri": "https://localhost:8080/"
        },
        "id": "wma8MkIE4UjE",
        "outputId": "520b7db5-faa1-41ab-9945-14c614446733"
      },
      "outputs": [
        {
          "output_type": "execute_result",
          "data": {
            "text/plain": [
              "torch.Size([1, 292, 512])"
            ]
          },
          "metadata": {},
          "execution_count": 52
        }
      ],
      "source": [
        "a.size()"
      ]
    },
    {
      "cell_type": "code",
      "execution_count": null,
      "metadata": {
        "id": "r_j5r_Vv4VuN"
      },
      "outputs": [],
      "source": [
        "b = outputs.last_hidden_state"
      ]
    },
    {
      "cell_type": "code",
      "execution_count": null,
      "metadata": {
        "colab": {
          "base_uri": "https://localhost:8080/"
        },
        "id": "yssG22bx4ZKj",
        "outputId": "85ddfe79-017a-466e-d731-cac8fbde7b51"
      },
      "outputs": [
        {
          "output_type": "execute_result",
          "data": {
            "text/plain": [
              "tensor([[[-0.0032, -0.0086,  0.0228,  ..., -0.1943,  0.0403, -0.1071],\n",
              "         [ 0.0021, -0.0078,  0.0206,  ..., -0.2157,  0.0311, -0.1106],\n",
              "         [-0.0056, -0.0331,  0.0698,  ..., -0.2463, -0.0076, -0.1500],\n",
              "         ...,\n",
              "         [-0.0061, -0.0336,  0.0705,  ..., -0.2466, -0.0082, -0.1501],\n",
              "         [-0.0013, -0.0162,  0.0132,  ..., -0.1883,  0.0449, -0.0850],\n",
              "         [-0.0029, -0.0174,  0.0129,  ..., -0.1893,  0.0441, -0.0822]]],\n",
              "       device='cuda:0')"
            ]
          },
          "metadata": {},
          "execution_count": 54
        }
      ],
      "source": [
        "b"
      ]
    },
    {
      "cell_type": "code",
      "execution_count": null,
      "metadata": {
        "colab": {
          "base_uri": "https://localhost:8080/"
        },
        "id": "vYexGu_r4_3P",
        "outputId": "398e0c58-8c68-44b2-e6d2-b272685df974"
      },
      "outputs": [
        {
          "output_type": "execute_result",
          "data": {
            "text/plain": [
              "torch.Size([1, 292, 768])"
            ]
          },
          "metadata": {},
          "execution_count": 55
        }
      ],
      "source": [
        "b.size()"
      ]
    },
    {
      "cell_type": "code",
      "execution_count": null,
      "metadata": {
        "colab": {
          "base_uri": "https://localhost:8080/"
        },
        "id": "Y7WSIaqY5EE_",
        "outputId": "9a98c85f-8526-4c94-9cca-3bc611410d74"
      },
      "outputs": [
        {
          "output_type": "execute_result",
          "data": {
            "text/plain": [
              "torch.Size([1, 768])"
            ]
          },
          "metadata": {},
          "execution_count": 56
        }
      ],
      "source": [
        "zx.size()"
      ]
    },
    {
      "cell_type": "markdown",
      "metadata": {
        "id": "KTHgmfRbqOgq"
      },
      "source": [
        "#### Concatenate 4 last hidden states"
      ]
    },
    {
      "cell_type": "code",
      "execution_count": null,
      "metadata": {
        "id": "BTXJ19JWpgFB"
      },
      "outputs": [],
      "source": [
        "hidden_states = outputs[\"hidden_states\"]\n",
        "pooled_output = torch.cat(tuple([hidden_states[i] for i in [-4, -3, -2, -1]]), dim=-1)"
      ]
    },
    {
      "cell_type": "code",
      "execution_count": null,
      "metadata": {
        "colab": {
          "base_uri": "https://localhost:8080/"
        },
        "id": "44sJFuCnpso-",
        "outputId": "9231744e-84d0-4006-9a7c-93966bd98de6"
      },
      "outputs": [
        {
          "output_type": "execute_result",
          "data": {
            "text/plain": [
              "torch.Size([1, 292, 3072])"
            ]
          },
          "metadata": {},
          "execution_count": 59
        }
      ],
      "source": [
        "pooled_output.size()"
      ]
    },
    {
      "cell_type": "code",
      "execution_count": null,
      "metadata": {
        "id": "MyD9TuIZqBqR"
      },
      "outputs": [],
      "source": [
        "pooled_output = pooled_output[:, 0, :]"
      ]
    },
    {
      "cell_type": "code",
      "execution_count": null,
      "metadata": {
        "colab": {
          "base_uri": "https://localhost:8080/"
        },
        "id": "ZpuevFdtqK1s",
        "outputId": "24669284-6202-49cf-cd8d-397ce289d080"
      },
      "outputs": [
        {
          "output_type": "execute_result",
          "data": {
            "text/plain": [
              "torch.Size([1, 3072])"
            ]
          },
          "metadata": {},
          "execution_count": 61
        }
      ],
      "source": [
        "pooled_output.size()"
      ]
    },
    {
      "cell_type": "markdown",
      "metadata": {
        "id": "0rY6OXIC6qgF"
      },
      "source": [
        "### AutoModelForAudioClassification class (output_hidden_states = False)"
      ]
    },
    {
      "cell_type": "code",
      "execution_count": null,
      "metadata": {
        "colab": {
          "base_uri": "https://localhost:8080/"
        },
        "id": "BM8dlE166qgF",
        "outputId": "81cebc67-7997-4a74-c677-8a412d15f7a5"
      },
      "outputs": [
        {
          "output_type": "stream",
          "name": "stderr",
          "text": [
            "Some weights of Wav2Vec2ForSequenceClassification were not initialized from the model checkpoint at facebook/wav2vec2-base-960h and are newly initialized: ['classifier.bias', 'classifier.weight', 'projector.bias', 'projector.weight', 'wav2vec2.encoder.pos_conv_embed.conv.parametrizations.weight.original0', 'wav2vec2.encoder.pos_conv_embed.conv.parametrizations.weight.original1', 'wav2vec2.masked_spec_embed']\n",
            "You should probably TRAIN this model on a down-stream task to be able to use it for predictions and inference.\n"
          ]
        }
      ],
      "source": [
        "from transformers import AutoModelForAudioClassification\n",
        "\n",
        "num_labels = 4\n",
        "model = (AutoModelForAudioClassification.from_pretrained(model_ckpt, num_labels=num_labels).to(device))"
      ]
    },
    {
      "cell_type": "code",
      "execution_count": null,
      "metadata": {
        "colab": {
          "base_uri": "https://localhost:8080/"
        },
        "id": "D9ND-ior6qgG",
        "outputId": "832116db-bba5-430e-92eb-50ddf1fa364c"
      },
      "outputs": [
        {
          "output_type": "execute_result",
          "data": {
            "text/plain": [
              "Wav2Vec2ForSequenceClassification(\n",
              "  (wav2vec2): Wav2Vec2Model(\n",
              "    (feature_extractor): Wav2Vec2FeatureEncoder(\n",
              "      (conv_layers): ModuleList(\n",
              "        (0): Wav2Vec2GroupNormConvLayer(\n",
              "          (conv): Conv1d(1, 512, kernel_size=(10,), stride=(5,), bias=False)\n",
              "          (activation): GELUActivation()\n",
              "          (layer_norm): GroupNorm(512, 512, eps=1e-05, affine=True)\n",
              "        )\n",
              "        (1-4): 4 x Wav2Vec2NoLayerNormConvLayer(\n",
              "          (conv): Conv1d(512, 512, kernel_size=(3,), stride=(2,), bias=False)\n",
              "          (activation): GELUActivation()\n",
              "        )\n",
              "        (5-6): 2 x Wav2Vec2NoLayerNormConvLayer(\n",
              "          (conv): Conv1d(512, 512, kernel_size=(2,), stride=(2,), bias=False)\n",
              "          (activation): GELUActivation()\n",
              "        )\n",
              "      )\n",
              "    )\n",
              "    (feature_projection): Wav2Vec2FeatureProjection(\n",
              "      (layer_norm): LayerNorm((512,), eps=1e-05, elementwise_affine=True)\n",
              "      (projection): Linear(in_features=512, out_features=768, bias=True)\n",
              "      (dropout): Dropout(p=0.1, inplace=False)\n",
              "    )\n",
              "    (encoder): Wav2Vec2Encoder(\n",
              "      (pos_conv_embed): Wav2Vec2PositionalConvEmbedding(\n",
              "        (conv): ParametrizedConv1d(\n",
              "          768, 768, kernel_size=(128,), stride=(1,), padding=(64,), groups=16\n",
              "          (parametrizations): ModuleDict(\n",
              "            (weight): ParametrizationList(\n",
              "              (0): _WeightNorm()\n",
              "            )\n",
              "          )\n",
              "        )\n",
              "        (padding): Wav2Vec2SamePadLayer()\n",
              "        (activation): GELUActivation()\n",
              "      )\n",
              "      (layer_norm): LayerNorm((768,), eps=1e-05, elementwise_affine=True)\n",
              "      (dropout): Dropout(p=0.1, inplace=False)\n",
              "      (layers): ModuleList(\n",
              "        (0-11): 12 x Wav2Vec2EncoderLayer(\n",
              "          (attention): Wav2Vec2Attention(\n",
              "            (k_proj): Linear(in_features=768, out_features=768, bias=True)\n",
              "            (v_proj): Linear(in_features=768, out_features=768, bias=True)\n",
              "            (q_proj): Linear(in_features=768, out_features=768, bias=True)\n",
              "            (out_proj): Linear(in_features=768, out_features=768, bias=True)\n",
              "          )\n",
              "          (dropout): Dropout(p=0.1, inplace=False)\n",
              "          (layer_norm): LayerNorm((768,), eps=1e-05, elementwise_affine=True)\n",
              "          (feed_forward): Wav2Vec2FeedForward(\n",
              "            (intermediate_dropout): Dropout(p=0.1, inplace=False)\n",
              "            (intermediate_dense): Linear(in_features=768, out_features=3072, bias=True)\n",
              "            (intermediate_act_fn): GELUActivation()\n",
              "            (output_dense): Linear(in_features=3072, out_features=768, bias=True)\n",
              "            (output_dropout): Dropout(p=0.1, inplace=False)\n",
              "          )\n",
              "          (final_layer_norm): LayerNorm((768,), eps=1e-05, elementwise_affine=True)\n",
              "        )\n",
              "      )\n",
              "    )\n",
              "  )\n",
              "  (projector): Linear(in_features=768, out_features=256, bias=True)\n",
              "  (classifier): Linear(in_features=256, out_features=4, bias=True)\n",
              ")"
            ]
          },
          "metadata": {},
          "execution_count": 65
        }
      ],
      "source": [
        "model"
      ]
    },
    {
      "cell_type": "code",
      "execution_count": null,
      "metadata": {
        "id": "Lxz1XTIe6qgG"
      },
      "outputs": [],
      "source": [
        "# previous inputs object don't have device type, so we should place them in the same device as the model (if we don't run this code and our model is in GPU, there will be a problem becaue the place of tensors and model is different.)\n",
        "inputs = {k:v.to(device) for k,v in inputs.items()}"
      ]
    },
    {
      "cell_type": "code",
      "execution_count": null,
      "metadata": {
        "colab": {
          "base_uri": "https://localhost:8080/"
        },
        "id": "4-1MrnDU6qgG",
        "outputId": "bde05a1f-46b1-4255-96d9-64d8f20861cb"
      },
      "outputs": [
        {
          "output_type": "execute_result",
          "data": {
            "text/plain": [
              "{'input_values': tensor([[0.0386, 0.0337, 0.0322,  ..., 0.0070, 0.0095, 0.0169]],\n",
              "        device='cuda:0')}"
            ]
          },
          "metadata": {},
          "execution_count": 67
        }
      ],
      "source": [
        "inputs"
      ]
    },
    {
      "cell_type": "code",
      "execution_count": null,
      "metadata": {
        "colab": {
          "base_uri": "https://localhost:8080/"
        },
        "id": "pLeJf8YT6qgG",
        "outputId": "18475044-77cb-4235-b63e-2efb7fa02265"
      },
      "outputs": [
        {
          "output_type": "execute_result",
          "data": {
            "text/plain": [
              "dict"
            ]
          },
          "metadata": {},
          "execution_count": 68
        }
      ],
      "source": [
        "type(inputs)"
      ]
    },
    {
      "cell_type": "code",
      "execution_count": null,
      "metadata": {
        "id": "rh-ckH3T6qgG"
      },
      "outputs": [],
      "source": [
        "with torch.no_grad():\n",
        "  outputs = model(**inputs)"
      ]
    },
    {
      "cell_type": "code",
      "execution_count": null,
      "metadata": {
        "colab": {
          "base_uri": "https://localhost:8080/"
        },
        "id": "h5a3ZiQU6qgG",
        "outputId": "883367c2-d101-488c-eefa-45b1d648f128"
      },
      "outputs": [
        {
          "output_type": "execute_result",
          "data": {
            "text/plain": [
              "SequenceClassifierOutput(loss=None, logits=tensor([[ 0.0177,  0.0291, -0.0044, -0.0487]], device='cuda:0'), hidden_states=None, attentions=None)"
            ]
          },
          "metadata": {},
          "execution_count": 70
        }
      ],
      "source": [
        "outputs"
      ]
    },
    {
      "cell_type": "markdown",
      "metadata": {
        "id": "NzamQ_Gv7H92"
      },
      "source": [
        "As we can see, since we use `AutoModelForSequenceClassification` class, we have a classification head on top of pooler layer, so in the output we give logits which are scores for each class. (There is no pooler layer in the output)"
      ]
    },
    {
      "cell_type": "code",
      "execution_count": null,
      "metadata": {
        "colab": {
          "base_uri": "https://localhost:8080/"
        },
        "id": "s2xQAvtQ6qgH",
        "outputId": "c3b64837-fd7e-4416-f4b6-a3ebdf9f5e69"
      },
      "outputs": [
        {
          "output_type": "stream",
          "name": "stdout",
          "text": [
            "logits\n"
          ]
        }
      ],
      "source": [
        "for k, v in outputs.items():\n",
        "  print(k)"
      ]
    },
    {
      "cell_type": "markdown",
      "metadata": {
        "id": "ArCOmFnn7xB-"
      },
      "source": [
        "### AutoModelForAudioClassification  class (output_hidden_states = True)"
      ]
    },
    {
      "cell_type": "markdown",
      "metadata": {
        "id": "kc6z2NOd7xB-"
      },
      "source": [
        "This time we set `output_hidden_states=True`."
      ]
    },
    {
      "cell_type": "code",
      "execution_count": null,
      "metadata": {
        "colab": {
          "base_uri": "https://localhost:8080/"
        },
        "id": "S5KpkEzK7xB-",
        "outputId": "e71cd75c-a1da-4ebc-86ce-b51aba5b6d46"
      },
      "outputs": [
        {
          "output_type": "stream",
          "name": "stderr",
          "text": [
            "Some weights of Wav2Vec2ForSequenceClassification were not initialized from the model checkpoint at facebook/wav2vec2-base-960h and are newly initialized: ['classifier.bias', 'classifier.weight', 'projector.bias', 'projector.weight', 'wav2vec2.encoder.pos_conv_embed.conv.parametrizations.weight.original0', 'wav2vec2.encoder.pos_conv_embed.conv.parametrizations.weight.original1', 'wav2vec2.masked_spec_embed']\n",
            "You should probably TRAIN this model on a down-stream task to be able to use it for predictions and inference.\n"
          ]
        }
      ],
      "source": [
        "from transformers import AutoModelForAudioClassification\n",
        "\n",
        "num_labels = 4\n",
        "model = (AutoModelForAudioClassification.from_pretrained(model_ckpt, num_labels=num_labels, output_hidden_states=True).to(device))"
      ]
    },
    {
      "cell_type": "code",
      "execution_count": null,
      "metadata": {
        "colab": {
          "base_uri": "https://localhost:8080/"
        },
        "id": "YCeyNsak7xB-",
        "outputId": "bc2cee43-6a46-4d2c-a8b1-9346cf5a5391"
      },
      "outputs": [
        {
          "output_type": "execute_result",
          "data": {
            "text/plain": [
              "Wav2Vec2ForSequenceClassification(\n",
              "  (wav2vec2): Wav2Vec2Model(\n",
              "    (feature_extractor): Wav2Vec2FeatureEncoder(\n",
              "      (conv_layers): ModuleList(\n",
              "        (0): Wav2Vec2GroupNormConvLayer(\n",
              "          (conv): Conv1d(1, 512, kernel_size=(10,), stride=(5,), bias=False)\n",
              "          (activation): GELUActivation()\n",
              "          (layer_norm): GroupNorm(512, 512, eps=1e-05, affine=True)\n",
              "        )\n",
              "        (1-4): 4 x Wav2Vec2NoLayerNormConvLayer(\n",
              "          (conv): Conv1d(512, 512, kernel_size=(3,), stride=(2,), bias=False)\n",
              "          (activation): GELUActivation()\n",
              "        )\n",
              "        (5-6): 2 x Wav2Vec2NoLayerNormConvLayer(\n",
              "          (conv): Conv1d(512, 512, kernel_size=(2,), stride=(2,), bias=False)\n",
              "          (activation): GELUActivation()\n",
              "        )\n",
              "      )\n",
              "    )\n",
              "    (feature_projection): Wav2Vec2FeatureProjection(\n",
              "      (layer_norm): LayerNorm((512,), eps=1e-05, elementwise_affine=True)\n",
              "      (projection): Linear(in_features=512, out_features=768, bias=True)\n",
              "      (dropout): Dropout(p=0.1, inplace=False)\n",
              "    )\n",
              "    (encoder): Wav2Vec2Encoder(\n",
              "      (pos_conv_embed): Wav2Vec2PositionalConvEmbedding(\n",
              "        (conv): ParametrizedConv1d(\n",
              "          768, 768, kernel_size=(128,), stride=(1,), padding=(64,), groups=16\n",
              "          (parametrizations): ModuleDict(\n",
              "            (weight): ParametrizationList(\n",
              "              (0): _WeightNorm()\n",
              "            )\n",
              "          )\n",
              "        )\n",
              "        (padding): Wav2Vec2SamePadLayer()\n",
              "        (activation): GELUActivation()\n",
              "      )\n",
              "      (layer_norm): LayerNorm((768,), eps=1e-05, elementwise_affine=True)\n",
              "      (dropout): Dropout(p=0.1, inplace=False)\n",
              "      (layers): ModuleList(\n",
              "        (0-11): 12 x Wav2Vec2EncoderLayer(\n",
              "          (attention): Wav2Vec2Attention(\n",
              "            (k_proj): Linear(in_features=768, out_features=768, bias=True)\n",
              "            (v_proj): Linear(in_features=768, out_features=768, bias=True)\n",
              "            (q_proj): Linear(in_features=768, out_features=768, bias=True)\n",
              "            (out_proj): Linear(in_features=768, out_features=768, bias=True)\n",
              "          )\n",
              "          (dropout): Dropout(p=0.1, inplace=False)\n",
              "          (layer_norm): LayerNorm((768,), eps=1e-05, elementwise_affine=True)\n",
              "          (feed_forward): Wav2Vec2FeedForward(\n",
              "            (intermediate_dropout): Dropout(p=0.1, inplace=False)\n",
              "            (intermediate_dense): Linear(in_features=768, out_features=3072, bias=True)\n",
              "            (intermediate_act_fn): GELUActivation()\n",
              "            (output_dense): Linear(in_features=3072, out_features=768, bias=True)\n",
              "            (output_dropout): Dropout(p=0.1, inplace=False)\n",
              "          )\n",
              "          (final_layer_norm): LayerNorm((768,), eps=1e-05, elementwise_affine=True)\n",
              "        )\n",
              "      )\n",
              "    )\n",
              "  )\n",
              "  (projector): Linear(in_features=768, out_features=256, bias=True)\n",
              "  (classifier): Linear(in_features=256, out_features=4, bias=True)\n",
              ")"
            ]
          },
          "metadata": {},
          "execution_count": 74
        }
      ],
      "source": [
        "model"
      ]
    },
    {
      "cell_type": "code",
      "execution_count": null,
      "metadata": {
        "id": "7meNHDd27xB_"
      },
      "outputs": [],
      "source": [
        "inputs = {k:v.to(device) for k,v in inputs.items()}"
      ]
    },
    {
      "cell_type": "code",
      "execution_count": null,
      "metadata": {
        "colab": {
          "base_uri": "https://localhost:8080/"
        },
        "id": "Ga6WvLRv7xB_",
        "outputId": "50f75d21-2c3d-406c-dfca-999adec3697b"
      },
      "outputs": [
        {
          "output_type": "execute_result",
          "data": {
            "text/plain": [
              "{'input_values': tensor([[0.0386, 0.0337, 0.0322,  ..., 0.0070, 0.0095, 0.0169]],\n",
              "        device='cuda:0')}"
            ]
          },
          "metadata": {},
          "execution_count": 76
        }
      ],
      "source": [
        "inputs"
      ]
    },
    {
      "cell_type": "code",
      "execution_count": null,
      "metadata": {
        "colab": {
          "base_uri": "https://localhost:8080/"
        },
        "id": "TIK-tij07xB_",
        "outputId": "65e761ed-d093-4834-a517-c7af8e1af1bc"
      },
      "outputs": [
        {
          "output_type": "execute_result",
          "data": {
            "text/plain": [
              "dict"
            ]
          },
          "metadata": {},
          "execution_count": 77
        }
      ],
      "source": [
        "type(inputs)"
      ]
    },
    {
      "cell_type": "code",
      "execution_count": null,
      "metadata": {
        "id": "Cu4cbBmo7xCA"
      },
      "outputs": [],
      "source": [
        "with torch.no_grad():\n",
        "  outputs = model(**inputs)"
      ]
    },
    {
      "cell_type": "code",
      "execution_count": null,
      "metadata": {
        "colab": {
          "base_uri": "https://localhost:8080/"
        },
        "id": "_WokO9Eu7xCA",
        "outputId": "d1670899-47d1-4b7e-b65c-3164adc9acf0"
      },
      "outputs": [
        {
          "output_type": "execute_result",
          "data": {
            "text/plain": [
              "SequenceClassifierOutput(loss=None, logits=tensor([[-0.0151,  0.0538,  0.0434, -0.0418]], device='cuda:0'), hidden_states=(tensor([[[ 0.1268, -0.6065,  0.1728,  ..., -0.1042,  0.0300,  0.0992],\n",
              "         [ 0.2772, -0.3489, -0.0101,  ..., -0.1404, -0.0408,  0.1601],\n",
              "         [ 0.0686, -0.2589, -0.2347,  ...,  0.1477, -0.2343,  0.2663],\n",
              "         ...,\n",
              "         [-0.0095, -0.2362,  0.2269,  ..., -0.2547, -0.1206,  0.2207],\n",
              "         [ 0.2402, -0.2564,  0.1918,  ...,  0.0832,  0.0278,  0.2594],\n",
              "         [-0.1356, -0.1467,  0.2775,  ..., -0.1656, -0.2945,  0.6156]]],\n",
              "       device='cuda:0'), tensor([[[ 0.2410, -0.1939,  0.1821,  ...,  0.1164,  0.0805,  0.1752],\n",
              "         [ 0.3539, -0.1995,  0.1245,  ...,  0.0254, -0.1509,  0.2396],\n",
              "         [ 0.3606, -0.2190,  0.0775,  ...,  0.2022, -0.2204,  0.3670],\n",
              "         ...,\n",
              "         [ 0.2438, -0.2710,  0.1719,  ..., -0.1546, -0.2640,  0.3820],\n",
              "         [ 0.1722, -0.2075, -0.0498,  ..., -0.1815, -0.2613,  0.2820],\n",
              "         [ 0.0284, -0.0592,  0.0477,  ..., -0.3266, -0.1705,  0.3963]]],\n",
              "       device='cuda:0'), tensor([[[ 0.1697, -0.1720, -0.1456,  ...,  0.2066, -0.0957,  0.2312],\n",
              "         [ 0.0766, -0.2137, -0.1299,  ...,  0.0258, -0.1343,  0.2308],\n",
              "         [ 0.0965, -0.3485, -0.0517,  ...,  0.1190, -0.0645,  0.2626],\n",
              "         ...,\n",
              "         [ 0.0955, -0.3133,  0.1476,  ...,  0.1161, -0.2490,  0.5341],\n",
              "         [ 0.1534, -0.2566,  0.0078,  ..., -0.0217, -0.1795,  0.4338],\n",
              "         [ 0.0630, -0.1292,  0.0839,  ..., -0.2026, -0.1916,  0.4727]]],\n",
              "       device='cuda:0'), tensor([[[ 0.0383, -0.0690, -0.0510,  ...,  0.3331, -0.0845,  0.1380],\n",
              "         [-0.0370, -0.3450, -0.0304,  ...,  0.2212, -0.0032,  0.1423],\n",
              "         [ 0.0435, -0.3911, -0.0390,  ...,  0.1560,  0.1195,  0.2283],\n",
              "         ...,\n",
              "         [-0.0918, -0.6114,  0.0495,  ...,  0.1532, -0.0134,  0.2574],\n",
              "         [-0.0029, -0.4536,  0.0754,  ...,  0.0343, -0.0049,  0.3217],\n",
              "         [-0.0203, -0.3207,  0.1488,  ...,  0.0809, -0.1059,  0.4571]]],\n",
              "       device='cuda:0'), tensor([[[ 0.1795, -0.0373, -0.1421,  ...,  0.1068,  0.0604, -0.0174],\n",
              "         [ 0.2071, -0.2208, -0.1913,  ..., -0.0039, -0.0101, -0.0298],\n",
              "         [ 0.2418, -0.2787, -0.1678,  ..., -0.1015,  0.0495, -0.0579],\n",
              "         ...,\n",
              "         [ 0.0318, -0.0171, -0.0714,  ...,  0.0432,  0.2028,  0.1734],\n",
              "         [ 0.1762,  0.0500, -0.0352,  ..., -0.1063,  0.0201,  0.2557],\n",
              "         [ 0.1438,  0.1217, -0.0213,  ..., -0.0550, -0.0620,  0.3151]]],\n",
              "       device='cuda:0'), tensor([[[ 0.1634, -0.1012, -0.2191,  ...,  0.0625, -0.0736, -0.0558],\n",
              "         [ 0.1855, -0.1487, -0.1960,  ...,  0.0087, -0.0979, -0.0622],\n",
              "         [ 0.1977, -0.1903, -0.1369,  ..., -0.0559, -0.0542, -0.0548],\n",
              "         ...,\n",
              "         [ 0.0971,  0.1091, -0.0544,  ...,  0.0036, -0.1374,  0.1357],\n",
              "         [ 0.0508,  0.1728,  0.0561,  ...,  0.0497, -0.2041,  0.1862],\n",
              "         [-0.0257,  0.1500, -0.0279,  ...,  0.0699, -0.1937,  0.2044]]],\n",
              "       device='cuda:0'), tensor([[[-0.0492,  0.0380, -0.1676,  ...,  0.0873, -0.0076,  0.0488],\n",
              "         [ 0.0008,  0.0143, -0.1485,  ...,  0.0433,  0.0005,  0.0562],\n",
              "         [ 0.0691,  0.0410, -0.1108,  ..., -0.0332, -0.0177, -0.0133],\n",
              "         ...,\n",
              "         [ 0.0194,  0.0777, -0.0248,  ..., -0.0245, -0.0651, -0.0018],\n",
              "         [-0.0161, -0.1029,  0.0002,  ..., -0.1013, -0.0243,  0.2130],\n",
              "         [ 0.0096, -0.0651,  0.0010,  ..., -0.0560, -0.0116,  0.2026]]],\n",
              "       device='cuda:0'), tensor([[[ 0.0096, -0.2763, -0.0867,  ...,  0.1564,  0.0437, -0.0723],\n",
              "         [-0.0159, -0.3193, -0.0831,  ...,  0.1195,  0.1085, -0.0811],\n",
              "         [-0.0020,  0.0036, -0.0393,  ...,  0.0107, -0.0128,  0.0222],\n",
              "         ...,\n",
              "         [-0.0004,  0.0412, -0.0243,  ...,  0.0179, -0.0203,  0.0245],\n",
              "         [ 0.1319, -0.1534, -0.0187,  ...,  0.1284,  0.2651, -0.0196],\n",
              "         [ 0.1632, -0.1746, -0.0316,  ...,  0.1291,  0.2799,  0.0143]]],\n",
              "       device='cuda:0'), tensor([[[ 0.1080, -0.0352,  0.2329,  ...,  0.2783,  0.2582,  0.0310],\n",
              "         [ 0.0906, -0.0480,  0.2038,  ...,  0.2779,  0.3002,  0.0304],\n",
              "         [ 0.0046, -0.0045, -0.0375,  ...,  0.0025, -0.0330,  0.0018],\n",
              "         ...,\n",
              "         [ 0.0060, -0.0015, -0.0405,  ...,  0.0114, -0.0321, -0.0024],\n",
              "         [ 0.1592, -0.1500,  0.0257,  ...,  0.2684,  0.2293,  0.1413],\n",
              "         [ 0.1525, -0.1498,  0.0380,  ...,  0.2587,  0.2653,  0.1267]]],\n",
              "       device='cuda:0'), tensor([[[ 0.2146,  0.0821, -0.0366,  ...,  0.1410,  0.4185,  0.0626],\n",
              "         [ 0.1751,  0.0351, -0.0263,  ...,  0.0995,  0.3573,  0.0621],\n",
              "         [-0.0128,  0.0323, -0.0505,  ..., -0.0161, -0.0081, -0.0016],\n",
              "         ...,\n",
              "         [-0.0133,  0.0333, -0.0517,  ..., -0.0144, -0.0151,  0.0021],\n",
              "         [ 0.2252,  0.0142, -0.1031,  ...,  0.0559,  0.5895,  0.1300],\n",
              "         [ 0.2442,  0.0074, -0.1128,  ...,  0.0739,  0.6085,  0.1626]]],\n",
              "       device='cuda:0'), tensor([[[ 2.1205e-01,  1.5542e-01,  2.1148e-01,  ..., -6.7580e-02,\n",
              "           3.0944e-01,  1.0338e-01],\n",
              "         [ 1.4092e-01,  1.1878e-01,  1.7750e-01,  ..., -7.5962e-02,\n",
              "           2.8102e-01,  7.5093e-02],\n",
              "         [ 9.8860e-03, -1.1089e-03, -1.1254e-02,  ..., -2.7448e-02,\n",
              "           4.3212e-02,  8.4103e-05],\n",
              "         ...,\n",
              "         [ 1.0160e-02, -1.4923e-03, -1.2494e-02,  ..., -2.6592e-02,\n",
              "           4.1630e-02,  2.3328e-04],\n",
              "         [ 1.9054e-01,  2.1230e-01,  2.3489e-01,  ..., -1.0466e-01,\n",
              "           3.9857e-01,  1.4679e-01],\n",
              "         [ 2.0540e-01,  2.0862e-01,  2.1016e-01,  ..., -7.6329e-02,\n",
              "           4.0258e-01,  1.7685e-01]]], device='cuda:0'), tensor([[[ 0.0280,  0.3139,  0.2465,  ..., -0.0212,  0.2569,  0.0926],\n",
              "         [ 0.0382,  0.3199,  0.2189,  ..., -0.0287,  0.2474,  0.0968],\n",
              "         [ 0.0758,  0.2974,  0.2100,  ..., -0.0276,  0.1753,  0.0696],\n",
              "         ...,\n",
              "         [ 0.0761,  0.2969,  0.2102,  ..., -0.0274,  0.1746,  0.0690],\n",
              "         [ 0.0346,  0.3201,  0.2618,  ..., -0.0117,  0.2421,  0.1323],\n",
              "         [ 0.0327,  0.3230,  0.2535,  ..., -0.0052,  0.2374,  0.1339]]],\n",
              "       device='cuda:0'), tensor([[[-0.0032, -0.0086,  0.0228,  ..., -0.1943,  0.0403, -0.1071],\n",
              "         [ 0.0021, -0.0078,  0.0206,  ..., -0.2157,  0.0311, -0.1106],\n",
              "         [-0.0056, -0.0331,  0.0698,  ..., -0.2463, -0.0076, -0.1500],\n",
              "         ...,\n",
              "         [-0.0061, -0.0336,  0.0705,  ..., -0.2466, -0.0082, -0.1501],\n",
              "         [-0.0013, -0.0162,  0.0132,  ..., -0.1883,  0.0449, -0.0850],\n",
              "         [-0.0029, -0.0174,  0.0129,  ..., -0.1893,  0.0441, -0.0822]]],\n",
              "       device='cuda:0')), attentions=None)"
            ]
          },
          "metadata": {},
          "execution_count": 79
        }
      ],
      "source": [
        "outputs"
      ]
    },
    {
      "cell_type": "code",
      "execution_count": null,
      "metadata": {
        "colab": {
          "base_uri": "https://localhost:8080/"
        },
        "id": "r0LwB2Jp7xCA",
        "outputId": "cc41be86-6ecc-461b-e31f-afd898a1a630"
      },
      "outputs": [
        {
          "output_type": "stream",
          "name": "stdout",
          "text": [
            "logits\n",
            "hidden_states\n"
          ]
        }
      ],
      "source": [
        "for k, v in outputs.items():\n",
        "  print(k)"
      ]
    },
    {
      "cell_type": "markdown",
      "metadata": {
        "id": "LwWMTu2O7xCA"
      },
      "source": [
        "As we can see, this time we have `hidden_states` in addition to `logits` parameter.\n"
      ]
    },
    {
      "cell_type": "code",
      "execution_count": null,
      "metadata": {
        "colab": {
          "base_uri": "https://localhost:8080/"
        },
        "id": "CPghC_XV7xCA",
        "outputId": "e6528867-d1c0-43f0-f090-0d225ffe30d9"
      },
      "outputs": [
        {
          "output_type": "execute_result",
          "data": {
            "text/plain": [
              "13"
            ]
          },
          "metadata": {},
          "execution_count": 81
        }
      ],
      "source": [
        "len(outputs[\"hidden_states\"])"
      ]
    },
    {
      "cell_type": "markdown",
      "metadata": {
        "id": "_aPuguw77xCA"
      },
      "source": [
        "The size of `hidden_state` parameter equals hidden states of the model at the output of each layer plus the optional initial embedding outputs. So, all in all the size equals (12 layers => 12 hidden states + 1 (initial embedding outputs)) = 13"
      ]
    },
    {
      "cell_type": "code",
      "execution_count": null,
      "metadata": {
        "colab": {
          "base_uri": "https://localhost:8080/"
        },
        "id": "hHO7nuJy7xCA",
        "outputId": "b0f10523-39fc-4dc2-c2a5-d01f46910611"
      },
      "outputs": [
        {
          "output_type": "execute_result",
          "data": {
            "text/plain": [
              "torch.Size([1, 292, 768])"
            ]
          },
          "metadata": {},
          "execution_count": 82
        }
      ],
      "source": [
        "outputs[\"hidden_states\"][0].shape"
      ]
    },
    {
      "cell_type": "code",
      "execution_count": null,
      "metadata": {
        "colab": {
          "base_uri": "https://localhost:8080/"
        },
        "id": "QsJkgnlA7xCA",
        "outputId": "a6c6ee43-0f22-4614-e9b5-d1a961cdbfb9"
      },
      "outputs": [
        {
          "output_type": "execute_result",
          "data": {
            "text/plain": [
              "torch.Size([1, 292, 768])"
            ]
          },
          "metadata": {},
          "execution_count": 83
        }
      ],
      "source": [
        "outputs[\"hidden_states\"][1].shape"
      ]
    },
    {
      "cell_type": "markdown",
      "metadata": {
        "id": "WcAW-7ce7xCA"
      },
      "source": [
        "We can see that the size of tokens in each hidden state is the same and just embedding will be reacher in top layers (because of multi head attention)"
      ]
    },
    {
      "cell_type": "code",
      "execution_count": null,
      "metadata": {
        "id": "bfEB9mXh7xCA"
      },
      "outputs": [],
      "source": [
        "# extract last hidden state\n",
        "x = outputs[\"hidden_states\"][-1]"
      ]
    },
    {
      "cell_type": "code",
      "execution_count": null,
      "metadata": {
        "colab": {
          "base_uri": "https://localhost:8080/"
        },
        "id": "VMiKHZdb7xCA",
        "outputId": "e3a3c25e-c22e-4bee-f5c2-54ec249c3b3a"
      },
      "outputs": [
        {
          "output_type": "execute_result",
          "data": {
            "text/plain": [
              "torch.Size([1, 292, 768])"
            ]
          },
          "metadata": {},
          "execution_count": 85
        }
      ],
      "source": [
        "x.shape"
      ]
    },
    {
      "cell_type": "markdown",
      "metadata": {
        "id": "RXYnlEcWa_xM"
      },
      "source": [
        "## HuBERT-base"
      ]
    },
    {
      "cell_type": "markdown",
      "metadata": {
        "id": "cATqj5lLnty-"
      },
      "source": [
        "HubertModel => [source code](https://github.com/huggingface/transformers/blob/v4.37.2/src/transformers/models/hubert/modeling_hubert.py#L968)\n",
        "\n",
        "HubertForAudioClassification => [source code](https://github.com/huggingface/transformers/blob/v4.37.2/src/transformers/models/hubert/modeling_hubert.py#L968)"
      ]
    },
    {
      "cell_type": "markdown",
      "metadata": {
        "id": "AdgruQzAa_xM"
      },
      "source": [
        "### Load feature extractor\n"
      ]
    },
    {
      "cell_type": "code",
      "execution_count": null,
      "metadata": {
        "colab": {
          "base_uri": "https://localhost:8080/",
          "height": 49,
          "referenced_widgets": [
            "682f92683eca4ab8aef86975aca64fbe",
            "cfa0a8e8d32f4e0c8db752c79cbf6b06",
            "5c7d160e4973499c843722bdc98ddcac",
            "62e4ce14858d47beb9f688b789ee193f",
            "41e4db39fb8b45d6b938117c168226c0",
            "9c2d1648062d4434befc927d4985182d",
            "c75dc0203b394d6583f056758a80cd3a",
            "486f40b687794140958cdfdacac156e2",
            "4ff0076c242a4aedb5cf38f9deda8777",
            "a195473329c9450fbd3b79d1c7787cf9",
            "371bc2bcadf74f4993f19974c20ec022"
          ]
        },
        "id": "g7HotfgQa_xN",
        "outputId": "cfbaa5f2-975a-4ea3-be4f-71178b41427b"
      },
      "outputs": [
        {
          "output_type": "display_data",
          "data": {
            "text/plain": [
              "preprocessor_config.json:   0%|          | 0.00/213 [00:00<?, ?B/s]"
            ],
            "application/vnd.jupyter.widget-view+json": {
              "version_major": 2,
              "version_minor": 0,
              "model_id": "682f92683eca4ab8aef86975aca64fbe"
            }
          },
          "metadata": {}
        }
      ],
      "source": [
        "from transformers import AutoFeatureExtractor\n",
        "\n",
        "model_ckpt = \"facebook/hubert-base-ls960\"\n",
        "feature_extractor = AutoFeatureExtractor.from_pretrained(model_ckpt)"
      ]
    },
    {
      "cell_type": "code",
      "execution_count": null,
      "metadata": {
        "colab": {
          "base_uri": "https://localhost:8080/"
        },
        "id": "4xKs8PN1a_xN",
        "outputId": "21929e9a-3dd2-4a05-dbfa-05cb7d7b8612"
      },
      "outputs": [
        {
          "output_type": "execute_result",
          "data": {
            "text/plain": [
              "Wav2Vec2FeatureExtractor {\n",
              "  \"do_normalize\": true,\n",
              "  \"feature_extractor_type\": \"Wav2Vec2FeatureExtractor\",\n",
              "  \"feature_size\": 1,\n",
              "  \"padding_side\": \"right\",\n",
              "  \"padding_value\": 0,\n",
              "  \"return_attention_mask\": false,\n",
              "  \"sampling_rate\": 16000\n",
              "}"
            ]
          },
          "metadata": {},
          "execution_count": 87
        }
      ],
      "source": [
        "feature_extractor"
      ]
    },
    {
      "cell_type": "code",
      "execution_count": null,
      "metadata": {
        "outputId": "b71c1c4a-57e7-4b55-9e6e-c15e74727044",
        "colab": {
          "base_uri": "https://localhost:8080/"
        },
        "id": "h5wJPKe_HXCZ"
      },
      "outputs": [
        {
          "output_type": "execute_result",
          "data": {
            "text/plain": [
              "['input_values', 'attention_mask']"
            ]
          },
          "metadata": {},
          "execution_count": 88
        }
      ],
      "source": [
        "feature_extractor.model_input_names"
      ]
    },
    {
      "cell_type": "code",
      "execution_count": null,
      "metadata": {
        "id": "E5qYcuE1HXCb"
      },
      "outputs": [],
      "source": [
        "from datasets import load_dataset\n",
        "\n",
        "dataset = load_dataset(\"hf-internal-testing/librispeech_asr_demo\", \"clean\", split=\"validation\")\n",
        "dataset = dataset.sort(\"id\")\n",
        "sampling_rate = dataset.features[\"audio\"].sampling_rate"
      ]
    },
    {
      "cell_type": "code",
      "source": [
        "dataset[0][\"audio\"][\"array\"]"
      ],
      "metadata": {
        "colab": {
          "base_uri": "https://localhost:8080/"
        },
        "outputId": "9febd9eb-035d-4aa8-ed6e-b9d04d262d21",
        "id": "_coPFn16HXCb"
      },
      "execution_count": null,
      "outputs": [
        {
          "output_type": "execute_result",
          "data": {
            "text/plain": [
              "array([0.00238037, 0.0020752 , 0.00198364, ..., 0.00042725, 0.00057983,\n",
              "       0.0010376 ])"
            ]
          },
          "metadata": {},
          "execution_count": 90
        }
      ]
    },
    {
      "cell_type": "code",
      "execution_count": null,
      "metadata": {
        "id": "tBfkk5vfHXCb"
      },
      "outputs": [],
      "source": [
        "inputs = feature_extractor(dataset[0][\"audio\"][\"array\"], sampling_rate=sampling_rate, return_tensors=\"pt\")"
      ]
    },
    {
      "cell_type": "code",
      "execution_count": null,
      "metadata": {
        "colab": {
          "base_uri": "https://localhost:8080/"
        },
        "outputId": "11da62b0-daa8-4543-a8f2-c20f0dc6a4a3",
        "id": "-IjQwn2dHXCb"
      },
      "outputs": [
        {
          "output_type": "execute_result",
          "data": {
            "text/plain": [
              "{'input_values': tensor([[0.0386, 0.0337, 0.0322,  ..., 0.0070, 0.0095, 0.0169]])}"
            ]
          },
          "metadata": {},
          "execution_count": 92
        }
      ],
      "source": [
        "inputs"
      ]
    },
    {
      "cell_type": "code",
      "execution_count": null,
      "metadata": {
        "colab": {
          "base_uri": "https://localhost:8080/"
        },
        "outputId": "b25a7bfe-b4a2-4d6a-fba7-803595428a7d",
        "id": "hanQSMHBHXCb"
      },
      "outputs": [
        {
          "output_type": "execute_result",
          "data": {
            "text/plain": [
              "transformers.feature_extraction_utils.BatchFeature"
            ]
          },
          "metadata": {},
          "execution_count": 93
        }
      ],
      "source": [
        "type(inputs)"
      ]
    },
    {
      "cell_type": "markdown",
      "metadata": {
        "id": "N6TfVxtMa_xP"
      },
      "source": [
        "### AutoModel class (output_hidden_states = False)"
      ]
    },
    {
      "cell_type": "code",
      "execution_count": null,
      "metadata": {
        "colab": {
          "base_uri": "https://localhost:8080/",
          "height": 192,
          "referenced_widgets": [
            "65b479c126da4ab2bba4f8e737d89edd",
            "8242dcaa24e54fb5a152c04451cea2b3",
            "be0328f2942a446abe24906507cd06ca",
            "50c3c00c2e6d4922a5b222e309de10c2",
            "083988d465bf46028eb38b6bd6205942",
            "9b0408eaa9eb4c06b175411e0889774a",
            "63f7320611734141b7d1de7b7f85413c",
            "22a3f7f67b8b4adaba5b6c1f85479e6c",
            "74b3e0b0d1584193b1e7a99db41a5e02",
            "5b0588ecdccb45d7b2d5d87234f403cb",
            "c7bb6f24dfed49d7a7d499682e286fa1",
            "baeb5fcb62c04b2d9799cfbbc064b3ff",
            "8a6d62dc9e664d9d91a0d04e7b5d841d",
            "24009f89905345bcb5abefe75fa2dfe5",
            "d50c0c2e4c4848b99f991a77f0cae03f",
            "30248c7466f44c3cb70f302ad2ebb10c",
            "fb3b7dc12a7b4424b455092247424608",
            "d7b5d5f9c55f445587362efcbf62f25d",
            "da59bf75cdf4417aaa3e1c431b0756c9",
            "811b8b35e5af4b96ac2e3526d4d4ab37",
            "0e61003c3fbf4c608f68d8a78ccb8c82",
            "dfa2823551be42e9b03b6c5dadd57bc0"
          ]
        },
        "id": "IZ9ungE0a_xQ",
        "outputId": "82e3cb93-dd84-4d7c-dd19-644759dc99f4"
      },
      "outputs": [
        {
          "output_type": "display_data",
          "data": {
            "text/plain": [
              "config.json:   0%|          | 0.00/1.39k [00:00<?, ?B/s]"
            ],
            "application/vnd.jupyter.widget-view+json": {
              "version_major": 2,
              "version_minor": 0,
              "model_id": "65b479c126da4ab2bba4f8e737d89edd"
            }
          },
          "metadata": {}
        },
        {
          "output_type": "display_data",
          "data": {
            "text/plain": [
              "pytorch_model.bin:   0%|          | 0.00/378M [00:00<?, ?B/s]"
            ],
            "application/vnd.jupyter.widget-view+json": {
              "version_major": 2,
              "version_minor": 0,
              "model_id": "baeb5fcb62c04b2d9799cfbbc064b3ff"
            }
          },
          "metadata": {}
        },
        {
          "output_type": "stream",
          "name": "stderr",
          "text": [
            "Some weights of the model checkpoint at facebook/hubert-base-ls960 were not used when initializing HubertModel: ['encoder.pos_conv_embed.conv.weight_g', 'encoder.pos_conv_embed.conv.weight_v']\n",
            "- This IS expected if you are initializing HubertModel from the checkpoint of a model trained on another task or with another architecture (e.g. initializing a BertForSequenceClassification model from a BertForPreTraining model).\n",
            "- This IS NOT expected if you are initializing HubertModel from the checkpoint of a model that you expect to be exactly identical (initializing a BertForSequenceClassification model from a BertForSequenceClassification model).\n",
            "Some weights of HubertModel were not initialized from the model checkpoint at facebook/hubert-base-ls960 and are newly initialized: ['encoder.pos_conv_embed.conv.parametrizations.weight.original0', 'encoder.pos_conv_embed.conv.parametrizations.weight.original1']\n",
            "You should probably TRAIN this model on a down-stream task to be able to use it for predictions and inference.\n"
          ]
        }
      ],
      "source": [
        "from transformers import AutoModel\n",
        "\n",
        "num_labels = 4\n",
        "model = (AutoModel.from_pretrained(model_ckpt, num_labels=num_labels).to(device))"
      ]
    },
    {
      "cell_type": "code",
      "execution_count": null,
      "metadata": {
        "colab": {
          "base_uri": "https://localhost:8080/"
        },
        "id": "O52fR8uya_xQ",
        "outputId": "8d1c9cab-4a40-4371-99cf-e34d89d58d02"
      },
      "outputs": [
        {
          "output_type": "execute_result",
          "data": {
            "text/plain": [
              "HubertModel(\n",
              "  (feature_extractor): HubertFeatureEncoder(\n",
              "    (conv_layers): ModuleList(\n",
              "      (0): HubertGroupNormConvLayer(\n",
              "        (conv): Conv1d(1, 512, kernel_size=(10,), stride=(5,), bias=False)\n",
              "        (activation): GELUActivation()\n",
              "        (layer_norm): GroupNorm(512, 512, eps=1e-05, affine=True)\n",
              "      )\n",
              "      (1-4): 4 x HubertNoLayerNormConvLayer(\n",
              "        (conv): Conv1d(512, 512, kernel_size=(3,), stride=(2,), bias=False)\n",
              "        (activation): GELUActivation()\n",
              "      )\n",
              "      (5-6): 2 x HubertNoLayerNormConvLayer(\n",
              "        (conv): Conv1d(512, 512, kernel_size=(2,), stride=(2,), bias=False)\n",
              "        (activation): GELUActivation()\n",
              "      )\n",
              "    )\n",
              "  )\n",
              "  (feature_projection): HubertFeatureProjection(\n",
              "    (layer_norm): LayerNorm((512,), eps=1e-05, elementwise_affine=True)\n",
              "    (projection): Linear(in_features=512, out_features=768, bias=True)\n",
              "    (dropout): Dropout(p=0.1, inplace=False)\n",
              "  )\n",
              "  (encoder): HubertEncoder(\n",
              "    (pos_conv_embed): HubertPositionalConvEmbedding(\n",
              "      (conv): ParametrizedConv1d(\n",
              "        768, 768, kernel_size=(128,), stride=(1,), padding=(64,), groups=16\n",
              "        (parametrizations): ModuleDict(\n",
              "          (weight): ParametrizationList(\n",
              "            (0): _WeightNorm()\n",
              "          )\n",
              "        )\n",
              "      )\n",
              "      (padding): HubertSamePadLayer()\n",
              "      (activation): GELUActivation()\n",
              "    )\n",
              "    (layer_norm): LayerNorm((768,), eps=1e-05, elementwise_affine=True)\n",
              "    (dropout): Dropout(p=0.1, inplace=False)\n",
              "    (layers): ModuleList(\n",
              "      (0-11): 12 x HubertEncoderLayer(\n",
              "        (attention): HubertAttention(\n",
              "          (k_proj): Linear(in_features=768, out_features=768, bias=True)\n",
              "          (v_proj): Linear(in_features=768, out_features=768, bias=True)\n",
              "          (q_proj): Linear(in_features=768, out_features=768, bias=True)\n",
              "          (out_proj): Linear(in_features=768, out_features=768, bias=True)\n",
              "        )\n",
              "        (dropout): Dropout(p=0.1, inplace=False)\n",
              "        (layer_norm): LayerNorm((768,), eps=1e-05, elementwise_affine=True)\n",
              "        (feed_forward): HubertFeedForward(\n",
              "          (intermediate_dropout): Dropout(p=0.1, inplace=False)\n",
              "          (intermediate_dense): Linear(in_features=768, out_features=3072, bias=True)\n",
              "          (intermediate_act_fn): GELUActivation()\n",
              "          (output_dense): Linear(in_features=3072, out_features=768, bias=True)\n",
              "          (output_dropout): Dropout(p=0.1, inplace=False)\n",
              "        )\n",
              "        (final_layer_norm): LayerNorm((768,), eps=1e-05, elementwise_affine=True)\n",
              "      )\n",
              "    )\n",
              "  )\n",
              ")"
            ]
          },
          "metadata": {},
          "execution_count": 95
        }
      ],
      "source": [
        "model"
      ]
    },
    {
      "cell_type": "code",
      "execution_count": null,
      "metadata": {
        "id": "e3n8rm-Ba_xQ"
      },
      "outputs": [],
      "source": [
        "# previous inputs object don't have device type, so we should place them on the same device as the model (if we don't run this code and our model is in GPU, there will be a problem becaue the place of tensors and model is different.)\n",
        "inputs = {k:v.to(device) for k,v in inputs.items()}"
      ]
    },
    {
      "cell_type": "code",
      "execution_count": null,
      "metadata": {
        "colab": {
          "base_uri": "https://localhost:8080/"
        },
        "id": "Ic9K51rMa_xQ",
        "outputId": "7047c738-51af-4c36-fc8e-ef818f0f8fd1"
      },
      "outputs": [
        {
          "output_type": "execute_result",
          "data": {
            "text/plain": [
              "{'input_values': tensor([[0.0386, 0.0337, 0.0322,  ..., 0.0070, 0.0095, 0.0169]],\n",
              "        device='cuda:0')}"
            ]
          },
          "metadata": {},
          "execution_count": 97
        }
      ],
      "source": [
        "inputs"
      ]
    },
    {
      "cell_type": "code",
      "execution_count": null,
      "metadata": {
        "colab": {
          "base_uri": "https://localhost:8080/"
        },
        "id": "WscJ0KL_a_xQ",
        "outputId": "a94ce329-4266-4dba-a9fb-bad320e7a4b8"
      },
      "outputs": [
        {
          "output_type": "execute_result",
          "data": {
            "text/plain": [
              "dict"
            ]
          },
          "metadata": {},
          "execution_count": 98
        }
      ],
      "source": [
        "type(inputs)"
      ]
    },
    {
      "cell_type": "code",
      "execution_count": null,
      "metadata": {
        "id": "SD0Vxrhja_xQ"
      },
      "outputs": [],
      "source": [
        "with torch.no_grad():\n",
        "  outputs = model(**inputs)"
      ]
    },
    {
      "cell_type": "code",
      "execution_count": null,
      "metadata": {
        "colab": {
          "base_uri": "https://localhost:8080/"
        },
        "id": "6MJmzA-0a_xR",
        "outputId": "3aa3efcc-16b5-4cb0-f8a4-28d977cb4a87"
      },
      "outputs": [
        {
          "output_type": "execute_result",
          "data": {
            "text/plain": [
              "BaseModelOutput(last_hidden_state=tensor([[[ 0.0924, -0.0873,  0.2480,  ..., -0.0481,  0.1011, -0.3813],\n",
              "         [ 0.1171, -0.0870,  0.2565,  ..., -0.0525,  0.0991, -0.4402],\n",
              "         [ 0.1896, -0.0639,  0.2879,  ..., -0.0714,  0.0727, -0.5391],\n",
              "         ...,\n",
              "         [ 0.1721,  0.3426,  0.0415,  ..., -0.0303, -0.1977, -0.6863],\n",
              "         [ 0.1121,  0.1157,  0.1866,  ..., -0.1068, -0.1563, -0.5571],\n",
              "         [ 0.0897,  0.0344,  0.2302,  ..., -0.0846, -0.0011, -0.4501]]],\n",
              "       device='cuda:0'), hidden_states=None, attentions=None)"
            ]
          },
          "metadata": {},
          "execution_count": 100
        }
      ],
      "source": [
        "outputs"
      ]
    },
    {
      "cell_type": "code",
      "execution_count": null,
      "metadata": {
        "colab": {
          "base_uri": "https://localhost:8080/"
        },
        "id": "EC8E3GHKa_xR",
        "outputId": "42a27fb1-86d2-4eec-e97d-ce962f9b2fc1"
      },
      "outputs": [
        {
          "output_type": "stream",
          "name": "stdout",
          "text": [
            "last_hidden_state\n"
          ]
        }
      ],
      "source": [
        "for k, v in outputs.items():\n",
        "  print(k)"
      ]
    },
    {
      "cell_type": "markdown",
      "metadata": {
        "id": "DucpkzA_a_xR"
      },
      "source": [
        "As we can see, we set don't set `output_hidden_states = True`, so in the output, `hidden_states` parameter doesn't have value and we have value just for `last_hidden_state` parameter."
      ]
    },
    {
      "cell_type": "code",
      "execution_count": null,
      "metadata": {
        "id": "_o0QCbM1a_xR"
      },
      "outputs": [],
      "source": [
        "y = outputs[\"last_hidden_state\"]"
      ]
    },
    {
      "cell_type": "code",
      "execution_count": null,
      "metadata": {
        "colab": {
          "base_uri": "https://localhost:8080/"
        },
        "id": "v0Ouxky3a_xR",
        "outputId": "bb011019-3c78-43c8-d405-b889123e8b8e"
      },
      "outputs": [
        {
          "output_type": "execute_result",
          "data": {
            "text/plain": [
              "tensor([[[ 0.0924, -0.0873,  0.2480,  ..., -0.0481,  0.1011, -0.3813],\n",
              "         [ 0.1171, -0.0870,  0.2565,  ..., -0.0525,  0.0991, -0.4402],\n",
              "         [ 0.1896, -0.0639,  0.2879,  ..., -0.0714,  0.0727, -0.5391],\n",
              "         ...,\n",
              "         [ 0.1721,  0.3426,  0.0415,  ..., -0.0303, -0.1977, -0.6863],\n",
              "         [ 0.1121,  0.1157,  0.1866,  ..., -0.1068, -0.1563, -0.5571],\n",
              "         [ 0.0897,  0.0344,  0.2302,  ..., -0.0846, -0.0011, -0.4501]]],\n",
              "       device='cuda:0')"
            ]
          },
          "metadata": {},
          "execution_count": 103
        }
      ],
      "source": [
        "y"
      ]
    },
    {
      "cell_type": "code",
      "execution_count": null,
      "metadata": {
        "colab": {
          "base_uri": "https://localhost:8080/"
        },
        "id": "BylJTvOTa_xR",
        "outputId": "092390fa-5468-4c7f-ba82-3048fd537614"
      },
      "outputs": [
        {
          "output_type": "execute_result",
          "data": {
            "text/plain": [
              "torch.Size([1, 292, 768])"
            ]
          },
          "metadata": {},
          "execution_count": 104
        }
      ],
      "source": [
        "y.shape"
      ]
    },
    {
      "cell_type": "markdown",
      "metadata": {
        "id": "WX_t5T37a_xR"
      },
      "source": [
        "It is obvious that `y` is the last hidden state in out model (hidden state that is corresponds to last layer(12th layer)). The shape of this object is like (batch_size, number of tokens, hidden size), out sentence has 5 tokens and as we know in transformers based models we always put `[CLS]` token at the begining of each **sequence** and `[SEP]` token at the end of each **sentence**. So, all in all we have 6 (4 tokens in sentenece + 2 special tokens) tokens. In this example we want to extract `[CLS]` token, so in this case we should select first token of this batch.\n",
        "\n",
        "For this aim these two lines of codes are the same and give us `[CLS]` token.\n",
        "\n",
        "```\n",
        "utputs.last_hidden_state[:,0]\n",
        "```\n",
        "and\n",
        "```\n",
        "outputs.last_hidden_state[:,0,:]\n",
        "```"
      ]
    },
    {
      "cell_type": "code",
      "execution_count": null,
      "metadata": {
        "id": "N3M-SEiPa_xR"
      },
      "outputs": [],
      "source": [
        "zx = outputs.last_hidden_state[:,0,:]"
      ]
    },
    {
      "cell_type": "code",
      "execution_count": null,
      "metadata": {
        "colab": {
          "base_uri": "https://localhost:8080/"
        },
        "id": "500t3lY9a_xS",
        "outputId": "0f9b461a-112b-42d4-fa50-cc7d36d6420a"
      },
      "outputs": [
        {
          "output_type": "execute_result",
          "data": {
            "text/plain": [
              "torch.Size([1, 768])"
            ]
          },
          "metadata": {},
          "execution_count": 106
        }
      ],
      "source": [
        "zx.size()"
      ]
    },
    {
      "cell_type": "code",
      "execution_count": null,
      "metadata": {
        "id": "D6sgTQmra_xS"
      },
      "outputs": [],
      "source": [
        "zy = outputs.last_hidden_state[:,0]"
      ]
    },
    {
      "cell_type": "code",
      "execution_count": null,
      "metadata": {
        "colab": {
          "base_uri": "https://localhost:8080/"
        },
        "id": "JQ6-EmSla_xS",
        "outputId": "1a46aa4a-713f-4af3-c0ce-e0b65df845a3"
      },
      "outputs": [
        {
          "output_type": "execute_result",
          "data": {
            "text/plain": [
              "torch.Size([1, 768])"
            ]
          },
          "metadata": {},
          "execution_count": 108
        }
      ],
      "source": [
        "zy.size()"
      ]
    },
    {
      "cell_type": "markdown",
      "metadata": {
        "id": "n0VBW6e9a_xS"
      },
      "source": [
        "In this line of code we proof the equality of those two lines of codes."
      ]
    },
    {
      "cell_type": "code",
      "execution_count": null,
      "metadata": {
        "colab": {
          "base_uri": "https://localhost:8080/"
        },
        "id": "68emtgp2a_xS",
        "outputId": "88d41e9a-96d2-4f02-e676-4b5069f6cbb9"
      },
      "outputs": [
        {
          "output_type": "execute_result",
          "data": {
            "text/plain": [
              "tensor(True, device='cuda:0')"
            ]
          },
          "metadata": {},
          "execution_count": 109
        }
      ],
      "source": [
        "torch.all(zx == zy)"
      ]
    },
    {
      "cell_type": "markdown",
      "metadata": {
        "id": "ZSa0P5h1a_xT"
      },
      "source": [
        "### AutoModel class (output_hidden_states = True)"
      ]
    },
    {
      "cell_type": "markdown",
      "metadata": {
        "id": "FEVNyvV2a_xT"
      },
      "source": [
        "This time we set `output_hidden_states=True`. So, in the output we will have output of each hidden states in addition to `last_hidden_state` parameter."
      ]
    },
    {
      "cell_type": "code",
      "execution_count": null,
      "metadata": {
        "colab": {
          "base_uri": "https://localhost:8080/"
        },
        "id": "vd0iyAT_a_xT",
        "outputId": "60cc5d3d-f6c4-4f3b-e33c-534a22a2f77e"
      },
      "outputs": [
        {
          "output_type": "stream",
          "name": "stderr",
          "text": [
            "Some weights of the model checkpoint at facebook/hubert-base-ls960 were not used when initializing HubertModel: ['encoder.pos_conv_embed.conv.weight_g', 'encoder.pos_conv_embed.conv.weight_v']\n",
            "- This IS expected if you are initializing HubertModel from the checkpoint of a model trained on another task or with another architecture (e.g. initializing a BertForSequenceClassification model from a BertForPreTraining model).\n",
            "- This IS NOT expected if you are initializing HubertModel from the checkpoint of a model that you expect to be exactly identical (initializing a BertForSequenceClassification model from a BertForSequenceClassification model).\n",
            "Some weights of HubertModel were not initialized from the model checkpoint at facebook/hubert-base-ls960 and are newly initialized: ['encoder.pos_conv_embed.conv.parametrizations.weight.original0', 'encoder.pos_conv_embed.conv.parametrizations.weight.original1']\n",
            "You should probably TRAIN this model on a down-stream task to be able to use it for predictions and inference.\n"
          ]
        }
      ],
      "source": [
        "from transformers import AutoModel\n",
        "\n",
        "num_labels = 4\n",
        "model = (AutoModel.from_pretrained(model_ckpt, num_labels=num_labels, output_hidden_states=True).to(device))"
      ]
    },
    {
      "cell_type": "code",
      "execution_count": null,
      "metadata": {
        "colab": {
          "base_uri": "https://localhost:8080/"
        },
        "id": "kEFd5OkJa_xT",
        "outputId": "7b240906-d8ac-4595-eb62-d391a9ca6102"
      },
      "outputs": [
        {
          "output_type": "execute_result",
          "data": {
            "text/plain": [
              "HubertModel(\n",
              "  (feature_extractor): HubertFeatureEncoder(\n",
              "    (conv_layers): ModuleList(\n",
              "      (0): HubertGroupNormConvLayer(\n",
              "        (conv): Conv1d(1, 512, kernel_size=(10,), stride=(5,), bias=False)\n",
              "        (activation): GELUActivation()\n",
              "        (layer_norm): GroupNorm(512, 512, eps=1e-05, affine=True)\n",
              "      )\n",
              "      (1-4): 4 x HubertNoLayerNormConvLayer(\n",
              "        (conv): Conv1d(512, 512, kernel_size=(3,), stride=(2,), bias=False)\n",
              "        (activation): GELUActivation()\n",
              "      )\n",
              "      (5-6): 2 x HubertNoLayerNormConvLayer(\n",
              "        (conv): Conv1d(512, 512, kernel_size=(2,), stride=(2,), bias=False)\n",
              "        (activation): GELUActivation()\n",
              "      )\n",
              "    )\n",
              "  )\n",
              "  (feature_projection): HubertFeatureProjection(\n",
              "    (layer_norm): LayerNorm((512,), eps=1e-05, elementwise_affine=True)\n",
              "    (projection): Linear(in_features=512, out_features=768, bias=True)\n",
              "    (dropout): Dropout(p=0.1, inplace=False)\n",
              "  )\n",
              "  (encoder): HubertEncoder(\n",
              "    (pos_conv_embed): HubertPositionalConvEmbedding(\n",
              "      (conv): ParametrizedConv1d(\n",
              "        768, 768, kernel_size=(128,), stride=(1,), padding=(64,), groups=16\n",
              "        (parametrizations): ModuleDict(\n",
              "          (weight): ParametrizationList(\n",
              "            (0): _WeightNorm()\n",
              "          )\n",
              "        )\n",
              "      )\n",
              "      (padding): HubertSamePadLayer()\n",
              "      (activation): GELUActivation()\n",
              "    )\n",
              "    (layer_norm): LayerNorm((768,), eps=1e-05, elementwise_affine=True)\n",
              "    (dropout): Dropout(p=0.1, inplace=False)\n",
              "    (layers): ModuleList(\n",
              "      (0-11): 12 x HubertEncoderLayer(\n",
              "        (attention): HubertAttention(\n",
              "          (k_proj): Linear(in_features=768, out_features=768, bias=True)\n",
              "          (v_proj): Linear(in_features=768, out_features=768, bias=True)\n",
              "          (q_proj): Linear(in_features=768, out_features=768, bias=True)\n",
              "          (out_proj): Linear(in_features=768, out_features=768, bias=True)\n",
              "        )\n",
              "        (dropout): Dropout(p=0.1, inplace=False)\n",
              "        (layer_norm): LayerNorm((768,), eps=1e-05, elementwise_affine=True)\n",
              "        (feed_forward): HubertFeedForward(\n",
              "          (intermediate_dropout): Dropout(p=0.1, inplace=False)\n",
              "          (intermediate_dense): Linear(in_features=768, out_features=3072, bias=True)\n",
              "          (intermediate_act_fn): GELUActivation()\n",
              "          (output_dense): Linear(in_features=3072, out_features=768, bias=True)\n",
              "          (output_dropout): Dropout(p=0.1, inplace=False)\n",
              "        )\n",
              "        (final_layer_norm): LayerNorm((768,), eps=1e-05, elementwise_affine=True)\n",
              "      )\n",
              "    )\n",
              "  )\n",
              ")"
            ]
          },
          "metadata": {},
          "execution_count": 111
        }
      ],
      "source": [
        "model"
      ]
    },
    {
      "cell_type": "code",
      "execution_count": null,
      "metadata": {
        "id": "wGqIX0rwa_xT"
      },
      "outputs": [],
      "source": [
        "inputs = {k:v.to(device) for k,v in inputs.items()}"
      ]
    },
    {
      "cell_type": "code",
      "execution_count": null,
      "metadata": {
        "colab": {
          "base_uri": "https://localhost:8080/"
        },
        "id": "NnyREs6Na_xT",
        "outputId": "9584de6a-de30-48e6-82a6-03c4eccfefdc"
      },
      "outputs": [
        {
          "output_type": "execute_result",
          "data": {
            "text/plain": [
              "{'input_values': tensor([[0.0386, 0.0337, 0.0322,  ..., 0.0070, 0.0095, 0.0169]],\n",
              "        device='cuda:0')}"
            ]
          },
          "metadata": {},
          "execution_count": 113
        }
      ],
      "source": [
        "inputs"
      ]
    },
    {
      "cell_type": "code",
      "execution_count": null,
      "metadata": {
        "colab": {
          "base_uri": "https://localhost:8080/"
        },
        "id": "afnVNT5Aa_xT",
        "outputId": "63797c3a-261f-4c52-e24e-33cf575a03d4"
      },
      "outputs": [
        {
          "output_type": "execute_result",
          "data": {
            "text/plain": [
              "dict"
            ]
          },
          "metadata": {},
          "execution_count": 114
        }
      ],
      "source": [
        "type(inputs)"
      ]
    },
    {
      "cell_type": "code",
      "execution_count": null,
      "metadata": {
        "id": "pn3ovbBSa_xT"
      },
      "outputs": [],
      "source": [
        "with torch.no_grad():\n",
        "  outputs = model(**inputs)"
      ]
    },
    {
      "cell_type": "code",
      "execution_count": null,
      "metadata": {
        "colab": {
          "base_uri": "https://localhost:8080/"
        },
        "id": "ZHD6ee-Oa_xU",
        "outputId": "e5f6d3d3-9bce-460f-8877-213773af8a5e"
      },
      "outputs": [
        {
          "output_type": "execute_result",
          "data": {
            "text/plain": [
              "BaseModelOutput(last_hidden_state=tensor([[[ 0.0924, -0.0873,  0.2480,  ..., -0.0481,  0.1011, -0.3813],\n",
              "         [ 0.1171, -0.0870,  0.2565,  ..., -0.0525,  0.0991, -0.4402],\n",
              "         [ 0.1896, -0.0639,  0.2879,  ..., -0.0714,  0.0727, -0.5391],\n",
              "         ...,\n",
              "         [ 0.1721,  0.3426,  0.0415,  ..., -0.0303, -0.1977, -0.6863],\n",
              "         [ 0.1121,  0.1157,  0.1866,  ..., -0.1068, -0.1563, -0.5571],\n",
              "         [ 0.0897,  0.0344,  0.2302,  ..., -0.0846, -0.0011, -0.4501]]],\n",
              "       device='cuda:0'), hidden_states=(tensor([[[-2.7202e-01, -1.8356e-01,  5.7611e-02,  ..., -1.5418e-01,\n",
              "           2.6787e-01, -3.2099e-01],\n",
              "         [-3.1669e-01, -2.1807e-01, -8.8446e-04,  ...,  2.1743e-01,\n",
              "           2.5074e-01, -3.4014e-01],\n",
              "         [-1.8568e-01, -2.1013e-01, -7.7682e-02,  ..., -6.0388e-02,\n",
              "           1.7608e-01, -1.6781e-01],\n",
              "         ...,\n",
              "         [-9.6796e-02, -5.4610e-02, -5.0362e-02,  ..., -1.1312e-01,\n",
              "           3.1314e-01, -1.7221e-01],\n",
              "         [-4.1814e-02, -8.8047e-02, -2.0904e-02,  ...,  1.5962e-01,\n",
              "           2.2029e-01, -3.3574e-01],\n",
              "         [-1.7370e-01, -1.3185e-05,  1.1318e-01,  ...,  4.2382e-02,\n",
              "           1.4670e-01, -3.2963e-01]]], device='cuda:0'), tensor([[[-0.1017,  0.0460,  0.0956,  ..., -0.0712,  0.0526,  0.0072],\n",
              "         [-0.1442, -0.0138,  0.0379,  ..., -0.0178,  0.0609, -0.1824],\n",
              "         [ 0.0195,  0.0251, -0.0595,  ..., -0.1657, -0.0221, -0.0359],\n",
              "         ...,\n",
              "         [ 0.0211, -0.0258, -0.1667,  ..., -0.1015,  0.1922, -0.2106],\n",
              "         [-0.0554, -0.0835, -0.3211,  ..., -0.0973,  0.1269, -0.2836],\n",
              "         [-0.1371,  0.1154, -0.1173,  ..., -0.0498,  0.0054, -0.2600]]],\n",
              "       device='cuda:0'), tensor([[[ 0.0330,  0.1187,  0.0216,  ...,  0.0766, -0.1308,  0.0455],\n",
              "         [ 0.0665,  0.0207,  0.1366,  ...,  0.0877, -0.1470, -0.1342],\n",
              "         [ 0.2635,  0.0753,  0.1550,  ...,  0.0082, -0.1619, -0.0028],\n",
              "         ...,\n",
              "         [ 0.1471,  0.0552, -0.0668,  ..., -0.0499, -0.0242, -0.1417],\n",
              "         [ 0.1569, -0.0573, -0.3478,  ..., -0.0131, -0.0045, -0.3290],\n",
              "         [ 0.0420,  0.2376, -0.0646,  ...,  0.0681, -0.0607, -0.3464]]],\n",
              "       device='cuda:0'), tensor([[[ 0.1155,  0.1455,  0.1309,  ..., -0.1704, -0.2063,  0.0203],\n",
              "         [ 0.1069,  0.0819,  0.2511,  ..., -0.1911, -0.1845, -0.1417],\n",
              "         [ 0.1587,  0.0191,  0.3354,  ..., -0.1931, -0.1051, -0.1103],\n",
              "         ...,\n",
              "         [ 0.0539, -0.1243, -0.0995,  ...,  0.0328, -0.0163, -0.3071],\n",
              "         [ 0.0783, -0.0807, -0.2132,  ...,  0.0853, -0.0206, -0.6232],\n",
              "         [ 0.1551,  0.2458,  0.3304,  ..., -0.0132,  0.0008, -0.3800]]],\n",
              "       device='cuda:0'), tensor([[[ 0.0991,  0.2424,  0.1030,  ..., -0.2501, -0.2375,  0.1418],\n",
              "         [ 0.0791,  0.1393,  0.2103,  ..., -0.2637, -0.1942, -0.0260],\n",
              "         [ 0.1186,  0.1108,  0.3347,  ..., -0.1919, -0.1177, -0.1698],\n",
              "         ...,\n",
              "         [ 0.2677, -0.0494, -0.3550,  ..., -0.0723,  0.0294, -0.6599],\n",
              "         [ 0.2285, -0.1678, -0.2478,  ..., -0.0741, -0.0011, -0.8680],\n",
              "         [ 0.0998,  0.1821,  0.2596,  ..., -0.1351,  0.0091, -0.2696]]],\n",
              "       device='cuda:0'), tensor([[[ 0.1453,  0.0171, -0.0302,  ..., -0.1876, -0.2966,  0.2009],\n",
              "         [ 0.1407,  0.0387, -0.0320,  ..., -0.2120, -0.2775,  0.0870],\n",
              "         [ 0.1411,  0.0137,  0.0555,  ..., -0.2469, -0.2646,  0.0055],\n",
              "         ...,\n",
              "         [ 0.0124, -0.2138, -0.0361,  ..., -0.0392,  0.0456, -0.7405],\n",
              "         [ 0.0639, -0.2207, -0.1109,  ..., -0.0234,  0.2079, -0.7641],\n",
              "         [ 0.1053,  0.0412,  0.0476,  ..., -0.0204,  0.1123, -0.2161]]],\n",
              "       device='cuda:0'), tensor([[[ 0.1200, -0.0920, -0.0901,  ..., -0.2919,  0.0063,  0.2269],\n",
              "         [ 0.1181, -0.0669, -0.0393,  ..., -0.3066,  0.0222,  0.1654],\n",
              "         [ 0.1013, -0.0061,  0.0285,  ..., -0.3336,  0.0071,  0.1128],\n",
              "         ...,\n",
              "         [ 0.1500, -0.0676, -0.1745,  ..., -0.1501,  0.0265, -0.4550],\n",
              "         [ 0.1821, -0.1538, -0.0992,  ..., -0.2036,  0.0965, -0.3912],\n",
              "         [ 0.1593, -0.0192, -0.0161,  ..., -0.2277,  0.1133, -0.1230]]],\n",
              "       device='cuda:0'), tensor([[[-0.0254, -0.0498,  0.0389,  ..., -0.1605,  0.1697,  0.0920],\n",
              "         [-0.0269, -0.0620,  0.0383,  ..., -0.1611,  0.1780,  0.0479],\n",
              "         [-0.0226, -0.0752,  0.0236,  ..., -0.1694,  0.1653, -0.0086],\n",
              "         ...,\n",
              "         [ 0.2034, -0.0691,  0.0333,  ..., -0.1259,  0.1754, -0.5673],\n",
              "         [-0.0159, -0.0710,  0.0763,  ..., -0.1641,  0.2749, -0.3766],\n",
              "         [-0.1218, -0.0705,  0.1369,  ..., -0.1417,  0.2559, -0.1374]]],\n",
              "       device='cuda:0'), tensor([[[ 3.1796e-02, -1.2682e-01, -8.0158e-02,  ..., -5.7925e-02,\n",
              "           1.8818e-01,  1.8825e-02],\n",
              "         [ 3.7709e-02, -1.3231e-01, -8.0929e-02,  ..., -5.8755e-02,\n",
              "           1.8808e-01, -1.9215e-02],\n",
              "         [ 6.3427e-02, -1.3737e-01, -9.3215e-02,  ..., -6.5611e-02,\n",
              "           1.7972e-01, -7.2549e-02],\n",
              "         ...,\n",
              "         [ 5.0990e-02, -1.2312e-01, -3.2813e-04,  ...,  1.3822e-01,\n",
              "           2.0117e-01, -5.7004e-01],\n",
              "         [-1.0768e-01, -1.2328e-01, -1.5468e-02,  ...,  8.7208e-02,\n",
              "           2.2558e-01, -3.4229e-01],\n",
              "         [-9.1540e-02, -1.4237e-01, -2.2854e-02,  ...,  3.0056e-02,\n",
              "           2.1813e-01, -1.5045e-01]]], device='cuda:0'), tensor([[[-8.2100e-03, -1.7378e-01, -5.1610e-04,  ..., -3.5263e-02,\n",
              "           1.2173e-01, -1.1984e-01],\n",
              "         [ 3.0693e-03, -1.7326e-01,  4.7987e-04,  ..., -3.8946e-02,\n",
              "           1.1951e-01, -1.4771e-01],\n",
              "         [ 3.1528e-02, -1.6730e-01, -8.3017e-03,  ..., -5.3221e-02,\n",
              "           1.1458e-01, -1.8859e-01],\n",
              "         ...,\n",
              "         [ 7.8378e-02, -2.6886e-02, -1.4680e-01,  ...,  1.3875e-02,\n",
              "           1.8944e-01, -6.5379e-01],\n",
              "         [-1.9786e-02, -1.4147e-01, -3.5058e-02,  ..., -4.7914e-02,\n",
              "           2.2546e-01, -4.5421e-01],\n",
              "         [-3.8118e-02, -1.7273e-01,  1.6856e-02,  ..., -4.2085e-02,\n",
              "           1.8745e-01, -2.8970e-01]]], device='cuda:0'), tensor([[[-0.0674, -0.1978, -0.0154,  ..., -0.0035,  0.0671, -0.1985],\n",
              "         [-0.0584, -0.1952, -0.0199,  ..., -0.0052,  0.0650, -0.2247],\n",
              "         [-0.0415, -0.1808, -0.0352,  ..., -0.0190,  0.0500, -0.2574],\n",
              "         ...,\n",
              "         [ 0.0527,  0.1480, -0.1405,  ..., -0.0844,  0.0851, -0.6871],\n",
              "         [-0.0067, -0.0957, -0.0724,  ..., -0.0717,  0.1259, -0.4686],\n",
              "         [-0.0422, -0.1666, -0.0303,  ..., -0.0272,  0.1260, -0.3266]]],\n",
              "       device='cuda:0'), tensor([[[ 0.0404, -0.0858, -0.0216,  ...,  0.0696,  0.1464, -0.1800],\n",
              "         [ 0.0438, -0.0838, -0.0216,  ...,  0.0737,  0.1422, -0.2024],\n",
              "         [ 0.0500, -0.0695, -0.0296,  ...,  0.0794,  0.1312, -0.2403],\n",
              "         ...,\n",
              "         [ 0.0972,  0.2650,  0.0044,  ..., -0.1154, -0.0424, -0.5578],\n",
              "         [ 0.0543,  0.0296, -0.0589,  ..., -0.0164,  0.0466, -0.3784],\n",
              "         [ 0.0520, -0.0645, -0.0700,  ...,  0.0587,  0.1266, -0.2621]]],\n",
              "       device='cuda:0'), tensor([[[ 0.0924, -0.0873,  0.2480,  ..., -0.0481,  0.1011, -0.3813],\n",
              "         [ 0.1171, -0.0870,  0.2565,  ..., -0.0525,  0.0991, -0.4402],\n",
              "         [ 0.1896, -0.0639,  0.2879,  ..., -0.0714,  0.0727, -0.5391],\n",
              "         ...,\n",
              "         [ 0.1721,  0.3426,  0.0415,  ..., -0.0303, -0.1977, -0.6863],\n",
              "         [ 0.1121,  0.1157,  0.1866,  ..., -0.1068, -0.1563, -0.5571],\n",
              "         [ 0.0897,  0.0344,  0.2302,  ..., -0.0846, -0.0011, -0.4501]]],\n",
              "       device='cuda:0')), attentions=None)"
            ]
          },
          "metadata": {},
          "execution_count": 116
        }
      ],
      "source": [
        "outputs"
      ]
    },
    {
      "cell_type": "code",
      "execution_count": null,
      "metadata": {
        "colab": {
          "base_uri": "https://localhost:8080/"
        },
        "id": "BRWW8pO0a_xU",
        "outputId": "f928105a-4ed1-4057-90a8-0284a378b8e4"
      },
      "outputs": [
        {
          "output_type": "stream",
          "name": "stdout",
          "text": [
            "last_hidden_state\n",
            "hidden_states\n"
          ]
        }
      ],
      "source": [
        "for k, v in outputs.items():\n",
        "  print(k)"
      ]
    },
    {
      "cell_type": "markdown",
      "metadata": {
        "id": "lv7l6BCNa_xU"
      },
      "source": [
        "As we can see, this time `hidden_states` parameter has value."
      ]
    },
    {
      "cell_type": "code",
      "execution_count": null,
      "metadata": {
        "colab": {
          "base_uri": "https://localhost:8080/"
        },
        "id": "WjRBPCuta_xU",
        "outputId": "61ddc850-e298-4e30-d21b-ef601a4e5afe"
      },
      "outputs": [
        {
          "output_type": "execute_result",
          "data": {
            "text/plain": [
              "13"
            ]
          },
          "metadata": {},
          "execution_count": 118
        }
      ],
      "source": [
        "len(outputs[\"hidden_states\"])"
      ]
    },
    {
      "cell_type": "markdown",
      "metadata": {
        "id": "4pqizBu3a_xU"
      },
      "source": [
        "The size of `hidden_state` parameter equals hidden states of the model at the output of each layer plus the optional initial embedding outputs. So, all in all the size equals (12 layers => 12 hidden states + 1 (initial embedding outputs)) = 13"
      ]
    },
    {
      "cell_type": "code",
      "execution_count": null,
      "metadata": {
        "colab": {
          "base_uri": "https://localhost:8080/"
        },
        "id": "2ZAysN9ca_xU",
        "outputId": "d5fcafc8-275d-4ad1-e7e3-3d3c066a5434"
      },
      "outputs": [
        {
          "output_type": "execute_result",
          "data": {
            "text/plain": [
              "torch.Size([1, 292, 768])"
            ]
          },
          "metadata": {},
          "execution_count": 119
        }
      ],
      "source": [
        "outputs[\"hidden_states\"][0].shape"
      ]
    },
    {
      "cell_type": "code",
      "execution_count": null,
      "metadata": {
        "colab": {
          "base_uri": "https://localhost:8080/"
        },
        "id": "lg-tkp-fa_xU",
        "outputId": "289e2b74-de59-4d25-ec7c-b4a07ed66614"
      },
      "outputs": [
        {
          "output_type": "execute_result",
          "data": {
            "text/plain": [
              "torch.Size([1, 292, 768])"
            ]
          },
          "metadata": {},
          "execution_count": 120
        }
      ],
      "source": [
        "outputs[\"hidden_states\"][1].shape"
      ]
    },
    {
      "cell_type": "markdown",
      "metadata": {
        "id": "EnDAKd9Ka_xU"
      },
      "source": [
        "We can see that the size of tokens in each hidden state is the same and just embedding will be reacher in top layers (because of multi head attention)"
      ]
    },
    {
      "cell_type": "code",
      "execution_count": null,
      "metadata": {
        "id": "Nat7dz3Na_xV"
      },
      "outputs": [],
      "source": [
        "# extract last hidden state\n",
        "x = outputs[\"hidden_states\"][-1]"
      ]
    },
    {
      "cell_type": "code",
      "execution_count": null,
      "metadata": {
        "colab": {
          "base_uri": "https://localhost:8080/"
        },
        "id": "WJoB2IcJa_xV",
        "outputId": "8a3140c6-d2f1-400d-af4b-d7bebd11a736"
      },
      "outputs": [
        {
          "output_type": "execute_result",
          "data": {
            "text/plain": [
              "torch.Size([1, 292, 768])"
            ]
          },
          "metadata": {},
          "execution_count": 122
        }
      ],
      "source": [
        "x.shape"
      ]
    },
    {
      "cell_type": "code",
      "execution_count": null,
      "metadata": {
        "id": "ipF4H1hWa_xV"
      },
      "outputs": [],
      "source": [
        "y = outputs[\"last_hidden_state\"]"
      ]
    },
    {
      "cell_type": "code",
      "execution_count": null,
      "metadata": {
        "colab": {
          "base_uri": "https://localhost:8080/"
        },
        "id": "YabTQV6ua_xV",
        "outputId": "8186f31c-1c2e-40e1-f931-e2ef5b1113c5"
      },
      "outputs": [
        {
          "output_type": "execute_result",
          "data": {
            "text/plain": [
              "torch.Size([1, 292, 768])"
            ]
          },
          "metadata": {},
          "execution_count": 124
        }
      ],
      "source": [
        "y.shape"
      ]
    },
    {
      "cell_type": "markdown",
      "metadata": {
        "id": "oizBxR1ka_xV"
      },
      "source": [
        "We want to see that x and y objects are the same and check their equality.\n",
        "\n",
        "x => last hidden state from `hidden_states` parameter in output\n",
        "\n",
        "y => `last_hidden_state` parameter in output"
      ]
    },
    {
      "cell_type": "code",
      "execution_count": null,
      "metadata": {
        "colab": {
          "base_uri": "https://localhost:8080/"
        },
        "id": "mUwX2uY3a_xV",
        "outputId": "bf980e26-8b25-4c14-8547-e347fd4a25bd"
      },
      "outputs": [
        {
          "output_type": "execute_result",
          "data": {
            "text/plain": [
              "tensor(True, device='cuda:0')"
            ]
          },
          "metadata": {},
          "execution_count": 125
        }
      ],
      "source": [
        "torch.all(x == y)"
      ]
    },
    {
      "cell_type": "code",
      "execution_count": null,
      "metadata": {
        "id": "NhYzQC3Ja_xV"
      },
      "outputs": [],
      "source": [
        "# output of pooler layer\n",
        "a = outputs[1]"
      ]
    },
    {
      "cell_type": "code",
      "execution_count": null,
      "metadata": {
        "colab": {
          "base_uri": "https://localhost:8080/"
        },
        "id": "O0QD46P5a_xV",
        "outputId": "4b3abcf7-1143-4dc9-9e52-f783a1cbc8c2"
      },
      "outputs": [
        {
          "output_type": "execute_result",
          "data": {
            "text/plain": [
              "(tensor([[[-2.7202e-01, -1.8356e-01,  5.7611e-02,  ..., -1.5418e-01,\n",
              "            2.6787e-01, -3.2099e-01],\n",
              "          [-3.1669e-01, -2.1807e-01, -8.8446e-04,  ...,  2.1743e-01,\n",
              "            2.5074e-01, -3.4014e-01],\n",
              "          [-1.8568e-01, -2.1013e-01, -7.7682e-02,  ..., -6.0388e-02,\n",
              "            1.7608e-01, -1.6781e-01],\n",
              "          ...,\n",
              "          [-9.6796e-02, -5.4610e-02, -5.0362e-02,  ..., -1.1312e-01,\n",
              "            3.1314e-01, -1.7221e-01],\n",
              "          [-4.1814e-02, -8.8047e-02, -2.0904e-02,  ...,  1.5962e-01,\n",
              "            2.2029e-01, -3.3574e-01],\n",
              "          [-1.7370e-01, -1.3185e-05,  1.1318e-01,  ...,  4.2382e-02,\n",
              "            1.4670e-01, -3.2963e-01]]], device='cuda:0'),\n",
              " tensor([[[-0.1017,  0.0460,  0.0956,  ..., -0.0712,  0.0526,  0.0072],\n",
              "          [-0.1442, -0.0138,  0.0379,  ..., -0.0178,  0.0609, -0.1824],\n",
              "          [ 0.0195,  0.0251, -0.0595,  ..., -0.1657, -0.0221, -0.0359],\n",
              "          ...,\n",
              "          [ 0.0211, -0.0258, -0.1667,  ..., -0.1015,  0.1922, -0.2106],\n",
              "          [-0.0554, -0.0835, -0.3211,  ..., -0.0973,  0.1269, -0.2836],\n",
              "          [-0.1371,  0.1154, -0.1173,  ..., -0.0498,  0.0054, -0.2600]]],\n",
              "        device='cuda:0'),\n",
              " tensor([[[ 0.0330,  0.1187,  0.0216,  ...,  0.0766, -0.1308,  0.0455],\n",
              "          [ 0.0665,  0.0207,  0.1366,  ...,  0.0877, -0.1470, -0.1342],\n",
              "          [ 0.2635,  0.0753,  0.1550,  ...,  0.0082, -0.1619, -0.0028],\n",
              "          ...,\n",
              "          [ 0.1471,  0.0552, -0.0668,  ..., -0.0499, -0.0242, -0.1417],\n",
              "          [ 0.1569, -0.0573, -0.3478,  ..., -0.0131, -0.0045, -0.3290],\n",
              "          [ 0.0420,  0.2376, -0.0646,  ...,  0.0681, -0.0607, -0.3464]]],\n",
              "        device='cuda:0'),\n",
              " tensor([[[ 0.1155,  0.1455,  0.1309,  ..., -0.1704, -0.2063,  0.0203],\n",
              "          [ 0.1069,  0.0819,  0.2511,  ..., -0.1911, -0.1845, -0.1417],\n",
              "          [ 0.1587,  0.0191,  0.3354,  ..., -0.1931, -0.1051, -0.1103],\n",
              "          ...,\n",
              "          [ 0.0539, -0.1243, -0.0995,  ...,  0.0328, -0.0163, -0.3071],\n",
              "          [ 0.0783, -0.0807, -0.2132,  ...,  0.0853, -0.0206, -0.6232],\n",
              "          [ 0.1551,  0.2458,  0.3304,  ..., -0.0132,  0.0008, -0.3800]]],\n",
              "        device='cuda:0'),\n",
              " tensor([[[ 0.0991,  0.2424,  0.1030,  ..., -0.2501, -0.2375,  0.1418],\n",
              "          [ 0.0791,  0.1393,  0.2103,  ..., -0.2637, -0.1942, -0.0260],\n",
              "          [ 0.1186,  0.1108,  0.3347,  ..., -0.1919, -0.1177, -0.1698],\n",
              "          ...,\n",
              "          [ 0.2677, -0.0494, -0.3550,  ..., -0.0723,  0.0294, -0.6599],\n",
              "          [ 0.2285, -0.1678, -0.2478,  ..., -0.0741, -0.0011, -0.8680],\n",
              "          [ 0.0998,  0.1821,  0.2596,  ..., -0.1351,  0.0091, -0.2696]]],\n",
              "        device='cuda:0'),\n",
              " tensor([[[ 0.1453,  0.0171, -0.0302,  ..., -0.1876, -0.2966,  0.2009],\n",
              "          [ 0.1407,  0.0387, -0.0320,  ..., -0.2120, -0.2775,  0.0870],\n",
              "          [ 0.1411,  0.0137,  0.0555,  ..., -0.2469, -0.2646,  0.0055],\n",
              "          ...,\n",
              "          [ 0.0124, -0.2138, -0.0361,  ..., -0.0392,  0.0456, -0.7405],\n",
              "          [ 0.0639, -0.2207, -0.1109,  ..., -0.0234,  0.2079, -0.7641],\n",
              "          [ 0.1053,  0.0412,  0.0476,  ..., -0.0204,  0.1123, -0.2161]]],\n",
              "        device='cuda:0'),\n",
              " tensor([[[ 0.1200, -0.0920, -0.0901,  ..., -0.2919,  0.0063,  0.2269],\n",
              "          [ 0.1181, -0.0669, -0.0393,  ..., -0.3066,  0.0222,  0.1654],\n",
              "          [ 0.1013, -0.0061,  0.0285,  ..., -0.3336,  0.0071,  0.1128],\n",
              "          ...,\n",
              "          [ 0.1500, -0.0676, -0.1745,  ..., -0.1501,  0.0265, -0.4550],\n",
              "          [ 0.1821, -0.1538, -0.0992,  ..., -0.2036,  0.0965, -0.3912],\n",
              "          [ 0.1593, -0.0192, -0.0161,  ..., -0.2277,  0.1133, -0.1230]]],\n",
              "        device='cuda:0'),\n",
              " tensor([[[-0.0254, -0.0498,  0.0389,  ..., -0.1605,  0.1697,  0.0920],\n",
              "          [-0.0269, -0.0620,  0.0383,  ..., -0.1611,  0.1780,  0.0479],\n",
              "          [-0.0226, -0.0752,  0.0236,  ..., -0.1694,  0.1653, -0.0086],\n",
              "          ...,\n",
              "          [ 0.2034, -0.0691,  0.0333,  ..., -0.1259,  0.1754, -0.5673],\n",
              "          [-0.0159, -0.0710,  0.0763,  ..., -0.1641,  0.2749, -0.3766],\n",
              "          [-0.1218, -0.0705,  0.1369,  ..., -0.1417,  0.2559, -0.1374]]],\n",
              "        device='cuda:0'),\n",
              " tensor([[[ 3.1796e-02, -1.2682e-01, -8.0158e-02,  ..., -5.7925e-02,\n",
              "            1.8818e-01,  1.8825e-02],\n",
              "          [ 3.7709e-02, -1.3231e-01, -8.0929e-02,  ..., -5.8755e-02,\n",
              "            1.8808e-01, -1.9215e-02],\n",
              "          [ 6.3427e-02, -1.3737e-01, -9.3215e-02,  ..., -6.5611e-02,\n",
              "            1.7972e-01, -7.2549e-02],\n",
              "          ...,\n",
              "          [ 5.0990e-02, -1.2312e-01, -3.2813e-04,  ...,  1.3822e-01,\n",
              "            2.0117e-01, -5.7004e-01],\n",
              "          [-1.0768e-01, -1.2328e-01, -1.5468e-02,  ...,  8.7208e-02,\n",
              "            2.2558e-01, -3.4229e-01],\n",
              "          [-9.1540e-02, -1.4237e-01, -2.2854e-02,  ...,  3.0056e-02,\n",
              "            2.1813e-01, -1.5045e-01]]], device='cuda:0'),\n",
              " tensor([[[-8.2100e-03, -1.7378e-01, -5.1610e-04,  ..., -3.5263e-02,\n",
              "            1.2173e-01, -1.1984e-01],\n",
              "          [ 3.0693e-03, -1.7326e-01,  4.7987e-04,  ..., -3.8946e-02,\n",
              "            1.1951e-01, -1.4771e-01],\n",
              "          [ 3.1528e-02, -1.6730e-01, -8.3017e-03,  ..., -5.3221e-02,\n",
              "            1.1458e-01, -1.8859e-01],\n",
              "          ...,\n",
              "          [ 7.8378e-02, -2.6886e-02, -1.4680e-01,  ...,  1.3875e-02,\n",
              "            1.8944e-01, -6.5379e-01],\n",
              "          [-1.9786e-02, -1.4147e-01, -3.5058e-02,  ..., -4.7914e-02,\n",
              "            2.2546e-01, -4.5421e-01],\n",
              "          [-3.8118e-02, -1.7273e-01,  1.6856e-02,  ..., -4.2085e-02,\n",
              "            1.8745e-01, -2.8970e-01]]], device='cuda:0'),\n",
              " tensor([[[-0.0674, -0.1978, -0.0154,  ..., -0.0035,  0.0671, -0.1985],\n",
              "          [-0.0584, -0.1952, -0.0199,  ..., -0.0052,  0.0650, -0.2247],\n",
              "          [-0.0415, -0.1808, -0.0352,  ..., -0.0190,  0.0500, -0.2574],\n",
              "          ...,\n",
              "          [ 0.0527,  0.1480, -0.1405,  ..., -0.0844,  0.0851, -0.6871],\n",
              "          [-0.0067, -0.0957, -0.0724,  ..., -0.0717,  0.1259, -0.4686],\n",
              "          [-0.0422, -0.1666, -0.0303,  ..., -0.0272,  0.1260, -0.3266]]],\n",
              "        device='cuda:0'),\n",
              " tensor([[[ 0.0404, -0.0858, -0.0216,  ...,  0.0696,  0.1464, -0.1800],\n",
              "          [ 0.0438, -0.0838, -0.0216,  ...,  0.0737,  0.1422, -0.2024],\n",
              "          [ 0.0500, -0.0695, -0.0296,  ...,  0.0794,  0.1312, -0.2403],\n",
              "          ...,\n",
              "          [ 0.0972,  0.2650,  0.0044,  ..., -0.1154, -0.0424, -0.5578],\n",
              "          [ 0.0543,  0.0296, -0.0589,  ..., -0.0164,  0.0466, -0.3784],\n",
              "          [ 0.0520, -0.0645, -0.0700,  ...,  0.0587,  0.1266, -0.2621]]],\n",
              "        device='cuda:0'),\n",
              " tensor([[[ 0.0924, -0.0873,  0.2480,  ..., -0.0481,  0.1011, -0.3813],\n",
              "          [ 0.1171, -0.0870,  0.2565,  ..., -0.0525,  0.0991, -0.4402],\n",
              "          [ 0.1896, -0.0639,  0.2879,  ..., -0.0714,  0.0727, -0.5391],\n",
              "          ...,\n",
              "          [ 0.1721,  0.3426,  0.0415,  ..., -0.0303, -0.1977, -0.6863],\n",
              "          [ 0.1121,  0.1157,  0.1866,  ..., -0.1068, -0.1563, -0.5571],\n",
              "          [ 0.0897,  0.0344,  0.2302,  ..., -0.0846, -0.0011, -0.4501]]],\n",
              "        device='cuda:0'))"
            ]
          },
          "metadata": {},
          "execution_count": 127
        }
      ],
      "source": [
        "a"
      ]
    },
    {
      "cell_type": "code",
      "execution_count": null,
      "metadata": {
        "id": "1rBDJryBa_xW"
      },
      "outputs": [],
      "source": [
        "b = outputs.last_hidden_state"
      ]
    },
    {
      "cell_type": "code",
      "execution_count": null,
      "metadata": {
        "colab": {
          "base_uri": "https://localhost:8080/"
        },
        "id": "7_IrWE69a_xW",
        "outputId": "0ce53e33-537f-4283-cebf-84e31519faca"
      },
      "outputs": [
        {
          "output_type": "execute_result",
          "data": {
            "text/plain": [
              "tensor([[[ 0.0924, -0.0873,  0.2480,  ..., -0.0481,  0.1011, -0.3813],\n",
              "         [ 0.1171, -0.0870,  0.2565,  ..., -0.0525,  0.0991, -0.4402],\n",
              "         [ 0.1896, -0.0639,  0.2879,  ..., -0.0714,  0.0727, -0.5391],\n",
              "         ...,\n",
              "         [ 0.1721,  0.3426,  0.0415,  ..., -0.0303, -0.1977, -0.6863],\n",
              "         [ 0.1121,  0.1157,  0.1866,  ..., -0.1068, -0.1563, -0.5571],\n",
              "         [ 0.0897,  0.0344,  0.2302,  ..., -0.0846, -0.0011, -0.4501]]],\n",
              "       device='cuda:0')"
            ]
          },
          "metadata": {},
          "execution_count": 130
        }
      ],
      "source": [
        "b"
      ]
    },
    {
      "cell_type": "markdown",
      "metadata": {
        "id": "NzFZyiJFa_xW"
      },
      "source": [
        "### AutoModelForAudioClassification class (output_hidden_states = False)"
      ]
    },
    {
      "cell_type": "code",
      "execution_count": null,
      "metadata": {
        "colab": {
          "base_uri": "https://localhost:8080/"
        },
        "id": "HN-4WTJ_a_xW",
        "outputId": "c46ce4dc-d321-4aa3-baa4-39a0edc6a6f5"
      },
      "outputs": [
        {
          "output_type": "stream",
          "name": "stderr",
          "text": [
            "Some weights of HubertForSequenceClassification were not initialized from the model checkpoint at facebook/hubert-base-ls960 and are newly initialized: ['classifier.bias', 'classifier.weight', 'encoder.pos_conv_embed.conv.parametrizations.weight.original0', 'encoder.pos_conv_embed.conv.parametrizations.weight.original1', 'projector.bias', 'projector.weight']\n",
            "You should probably TRAIN this model on a down-stream task to be able to use it for predictions and inference.\n"
          ]
        }
      ],
      "source": [
        "from transformers import AutoModelForAudioClassification\n",
        "\n",
        "num_labels = 4\n",
        "model = (AutoModelForAudioClassification.from_pretrained(model_ckpt, num_labels=num_labels).to(device))"
      ]
    },
    {
      "cell_type": "code",
      "execution_count": null,
      "metadata": {
        "colab": {
          "base_uri": "https://localhost:8080/"
        },
        "id": "NaPMZZGEa_xW",
        "outputId": "128622dc-3f48-434c-fdd5-d8e1c4eb735a"
      },
      "outputs": [
        {
          "output_type": "execute_result",
          "data": {
            "text/plain": [
              "HubertForSequenceClassification(\n",
              "  (hubert): HubertModel(\n",
              "    (feature_extractor): HubertFeatureEncoder(\n",
              "      (conv_layers): ModuleList(\n",
              "        (0): HubertGroupNormConvLayer(\n",
              "          (conv): Conv1d(1, 512, kernel_size=(10,), stride=(5,), bias=False)\n",
              "          (activation): GELUActivation()\n",
              "          (layer_norm): GroupNorm(512, 512, eps=1e-05, affine=True)\n",
              "        )\n",
              "        (1-4): 4 x HubertNoLayerNormConvLayer(\n",
              "          (conv): Conv1d(512, 512, kernel_size=(3,), stride=(2,), bias=False)\n",
              "          (activation): GELUActivation()\n",
              "        )\n",
              "        (5-6): 2 x HubertNoLayerNormConvLayer(\n",
              "          (conv): Conv1d(512, 512, kernel_size=(2,), stride=(2,), bias=False)\n",
              "          (activation): GELUActivation()\n",
              "        )\n",
              "      )\n",
              "    )\n",
              "    (feature_projection): HubertFeatureProjection(\n",
              "      (layer_norm): LayerNorm((512,), eps=1e-05, elementwise_affine=True)\n",
              "      (projection): Linear(in_features=512, out_features=768, bias=True)\n",
              "      (dropout): Dropout(p=0.1, inplace=False)\n",
              "    )\n",
              "    (encoder): HubertEncoder(\n",
              "      (pos_conv_embed): HubertPositionalConvEmbedding(\n",
              "        (conv): ParametrizedConv1d(\n",
              "          768, 768, kernel_size=(128,), stride=(1,), padding=(64,), groups=16\n",
              "          (parametrizations): ModuleDict(\n",
              "            (weight): ParametrizationList(\n",
              "              (0): _WeightNorm()\n",
              "            )\n",
              "          )\n",
              "        )\n",
              "        (padding): HubertSamePadLayer()\n",
              "        (activation): GELUActivation()\n",
              "      )\n",
              "      (layer_norm): LayerNorm((768,), eps=1e-05, elementwise_affine=True)\n",
              "      (dropout): Dropout(p=0.1, inplace=False)\n",
              "      (layers): ModuleList(\n",
              "        (0-11): 12 x HubertEncoderLayer(\n",
              "          (attention): HubertAttention(\n",
              "            (k_proj): Linear(in_features=768, out_features=768, bias=True)\n",
              "            (v_proj): Linear(in_features=768, out_features=768, bias=True)\n",
              "            (q_proj): Linear(in_features=768, out_features=768, bias=True)\n",
              "            (out_proj): Linear(in_features=768, out_features=768, bias=True)\n",
              "          )\n",
              "          (dropout): Dropout(p=0.1, inplace=False)\n",
              "          (layer_norm): LayerNorm((768,), eps=1e-05, elementwise_affine=True)\n",
              "          (feed_forward): HubertFeedForward(\n",
              "            (intermediate_dropout): Dropout(p=0.1, inplace=False)\n",
              "            (intermediate_dense): Linear(in_features=768, out_features=3072, bias=True)\n",
              "            (intermediate_act_fn): GELUActivation()\n",
              "            (output_dense): Linear(in_features=3072, out_features=768, bias=True)\n",
              "            (output_dropout): Dropout(p=0.1, inplace=False)\n",
              "          )\n",
              "          (final_layer_norm): LayerNorm((768,), eps=1e-05, elementwise_affine=True)\n",
              "        )\n",
              "      )\n",
              "    )\n",
              "  )\n",
              "  (projector): Linear(in_features=768, out_features=256, bias=True)\n",
              "  (classifier): Linear(in_features=256, out_features=4, bias=True)\n",
              ")"
            ]
          },
          "metadata": {},
          "execution_count": 132
        }
      ],
      "source": [
        "model"
      ]
    },
    {
      "cell_type": "code",
      "execution_count": null,
      "metadata": {
        "id": "IBBGlUQka_xW"
      },
      "outputs": [],
      "source": [
        "# previous inputs object don't have device type, so we should place them on the same device as the model (if we don't run this code and our model is in GPU, there will be a problem becaue the place of tensors and model is different.)\n",
        "inputs = {k:v.to(device) for k,v in inputs.items()}"
      ]
    },
    {
      "cell_type": "code",
      "execution_count": null,
      "metadata": {
        "colab": {
          "base_uri": "https://localhost:8080/"
        },
        "id": "l_RlBcn7a_xW",
        "outputId": "f01412a9-6f9c-4971-a601-a20307195cf2"
      },
      "outputs": [
        {
          "output_type": "execute_result",
          "data": {
            "text/plain": [
              "{'input_values': tensor([[0.0386, 0.0337, 0.0322,  ..., 0.0070, 0.0095, 0.0169]],\n",
              "        device='cuda:0')}"
            ]
          },
          "metadata": {},
          "execution_count": 134
        }
      ],
      "source": [
        "inputs"
      ]
    },
    {
      "cell_type": "code",
      "execution_count": null,
      "metadata": {
        "colab": {
          "base_uri": "https://localhost:8080/"
        },
        "id": "xwaneOf3a_xW",
        "outputId": "1f363dae-d00f-4274-a119-aeaa10f5ec6e"
      },
      "outputs": [
        {
          "output_type": "execute_result",
          "data": {
            "text/plain": [
              "dict"
            ]
          },
          "metadata": {},
          "execution_count": 135
        }
      ],
      "source": [
        "type(inputs)"
      ]
    },
    {
      "cell_type": "code",
      "execution_count": null,
      "metadata": {
        "id": "5Z6PlGi9a_xX"
      },
      "outputs": [],
      "source": [
        "with torch.no_grad():\n",
        "  outputs = model(**inputs)"
      ]
    },
    {
      "cell_type": "code",
      "execution_count": null,
      "metadata": {
        "colab": {
          "base_uri": "https://localhost:8080/"
        },
        "id": "FWTdsBzqa_xX",
        "outputId": "25aa97d5-c714-41e1-8484-11a618123668"
      },
      "outputs": [
        {
          "output_type": "execute_result",
          "data": {
            "text/plain": [
              "SequenceClassifierOutput(loss=None, logits=tensor([[ 0.0317, -0.0334,  0.0317, -0.0024]], device='cuda:0'), hidden_states=None, attentions=None)"
            ]
          },
          "metadata": {},
          "execution_count": 137
        }
      ],
      "source": [
        "outputs"
      ]
    },
    {
      "cell_type": "markdown",
      "metadata": {
        "id": "tC6Jd8ERa_xX"
      },
      "source": [
        "As we can see, since we use `AutoModelForSequenceClassification` class, we have a classification head on top of pooler layer, so in the output we give logits which are scores for each class. (There is no pooler layer in the output)"
      ]
    },
    {
      "cell_type": "code",
      "execution_count": null,
      "metadata": {
        "colab": {
          "base_uri": "https://localhost:8080/"
        },
        "id": "2kJSB53ia_xX",
        "outputId": "2b49d797-5ce6-4b40-98c1-0c5ba5848625"
      },
      "outputs": [
        {
          "output_type": "stream",
          "name": "stdout",
          "text": [
            "logits\n"
          ]
        }
      ],
      "source": [
        "for k, v in outputs.items():\n",
        "  print(k)"
      ]
    },
    {
      "cell_type": "markdown",
      "metadata": {
        "id": "cDjcDmfea_xX"
      },
      "source": [
        "### AutoModelForAudioClassification  class (output_hidden_states = True)"
      ]
    },
    {
      "cell_type": "markdown",
      "metadata": {
        "id": "FSUszX6Sa_xX"
      },
      "source": [
        "This time we set `output_hidden_states=True`."
      ]
    },
    {
      "cell_type": "code",
      "execution_count": null,
      "metadata": {
        "colab": {
          "base_uri": "https://localhost:8080/"
        },
        "id": "LF0bd0z-a_xY",
        "outputId": "6685f12c-58d5-4d9e-d26f-8e60d67a5c07"
      },
      "outputs": [
        {
          "output_type": "stream",
          "name": "stderr",
          "text": [
            "Some weights of HubertForSequenceClassification were not initialized from the model checkpoint at facebook/hubert-base-ls960 and are newly initialized: ['classifier.bias', 'classifier.weight', 'encoder.pos_conv_embed.conv.parametrizations.weight.original0', 'encoder.pos_conv_embed.conv.parametrizations.weight.original1', 'projector.bias', 'projector.weight']\n",
            "You should probably TRAIN this model on a down-stream task to be able to use it for predictions and inference.\n"
          ]
        }
      ],
      "source": [
        "from transformers import AutoModelForAudioClassification\n",
        "\n",
        "num_labels = 4\n",
        "model = (AutoModelForAudioClassification.from_pretrained(model_ckpt, num_labels=num_labels, output_hidden_states=True).to(device))"
      ]
    },
    {
      "cell_type": "code",
      "execution_count": null,
      "metadata": {
        "colab": {
          "base_uri": "https://localhost:8080/"
        },
        "id": "_Tz6hFmSa_xY",
        "outputId": "2bc8c885-0886-4943-c81d-6e0b5f98fca1"
      },
      "outputs": [
        {
          "output_type": "execute_result",
          "data": {
            "text/plain": [
              "HubertForSequenceClassification(\n",
              "  (hubert): HubertModel(\n",
              "    (feature_extractor): HubertFeatureEncoder(\n",
              "      (conv_layers): ModuleList(\n",
              "        (0): HubertGroupNormConvLayer(\n",
              "          (conv): Conv1d(1, 512, kernel_size=(10,), stride=(5,), bias=False)\n",
              "          (activation): GELUActivation()\n",
              "          (layer_norm): GroupNorm(512, 512, eps=1e-05, affine=True)\n",
              "        )\n",
              "        (1-4): 4 x HubertNoLayerNormConvLayer(\n",
              "          (conv): Conv1d(512, 512, kernel_size=(3,), stride=(2,), bias=False)\n",
              "          (activation): GELUActivation()\n",
              "        )\n",
              "        (5-6): 2 x HubertNoLayerNormConvLayer(\n",
              "          (conv): Conv1d(512, 512, kernel_size=(2,), stride=(2,), bias=False)\n",
              "          (activation): GELUActivation()\n",
              "        )\n",
              "      )\n",
              "    )\n",
              "    (feature_projection): HubertFeatureProjection(\n",
              "      (layer_norm): LayerNorm((512,), eps=1e-05, elementwise_affine=True)\n",
              "      (projection): Linear(in_features=512, out_features=768, bias=True)\n",
              "      (dropout): Dropout(p=0.1, inplace=False)\n",
              "    )\n",
              "    (encoder): HubertEncoder(\n",
              "      (pos_conv_embed): HubertPositionalConvEmbedding(\n",
              "        (conv): ParametrizedConv1d(\n",
              "          768, 768, kernel_size=(128,), stride=(1,), padding=(64,), groups=16\n",
              "          (parametrizations): ModuleDict(\n",
              "            (weight): ParametrizationList(\n",
              "              (0): _WeightNorm()\n",
              "            )\n",
              "          )\n",
              "        )\n",
              "        (padding): HubertSamePadLayer()\n",
              "        (activation): GELUActivation()\n",
              "      )\n",
              "      (layer_norm): LayerNorm((768,), eps=1e-05, elementwise_affine=True)\n",
              "      (dropout): Dropout(p=0.1, inplace=False)\n",
              "      (layers): ModuleList(\n",
              "        (0-11): 12 x HubertEncoderLayer(\n",
              "          (attention): HubertAttention(\n",
              "            (k_proj): Linear(in_features=768, out_features=768, bias=True)\n",
              "            (v_proj): Linear(in_features=768, out_features=768, bias=True)\n",
              "            (q_proj): Linear(in_features=768, out_features=768, bias=True)\n",
              "            (out_proj): Linear(in_features=768, out_features=768, bias=True)\n",
              "          )\n",
              "          (dropout): Dropout(p=0.1, inplace=False)\n",
              "          (layer_norm): LayerNorm((768,), eps=1e-05, elementwise_affine=True)\n",
              "          (feed_forward): HubertFeedForward(\n",
              "            (intermediate_dropout): Dropout(p=0.1, inplace=False)\n",
              "            (intermediate_dense): Linear(in_features=768, out_features=3072, bias=True)\n",
              "            (intermediate_act_fn): GELUActivation()\n",
              "            (output_dense): Linear(in_features=3072, out_features=768, bias=True)\n",
              "            (output_dropout): Dropout(p=0.1, inplace=False)\n",
              "          )\n",
              "          (final_layer_norm): LayerNorm((768,), eps=1e-05, elementwise_affine=True)\n",
              "        )\n",
              "      )\n",
              "    )\n",
              "  )\n",
              "  (projector): Linear(in_features=768, out_features=256, bias=True)\n",
              "  (classifier): Linear(in_features=256, out_features=4, bias=True)\n",
              ")"
            ]
          },
          "metadata": {},
          "execution_count": 141
        }
      ],
      "source": [
        "model"
      ]
    },
    {
      "cell_type": "code",
      "execution_count": null,
      "metadata": {
        "id": "yQ_9gPyPa_xY"
      },
      "outputs": [],
      "source": [
        "inputs = {k:v.to(device) for k,v in inputs.items()}"
      ]
    },
    {
      "cell_type": "code",
      "execution_count": null,
      "metadata": {
        "colab": {
          "base_uri": "https://localhost:8080/"
        },
        "id": "pEGNLxXRa_xY",
        "outputId": "92cfea24-f083-48e4-defb-b232e5ad335b"
      },
      "outputs": [
        {
          "output_type": "execute_result",
          "data": {
            "text/plain": [
              "{'input_values': tensor([[0.0386, 0.0337, 0.0322,  ..., 0.0070, 0.0095, 0.0169]],\n",
              "        device='cuda:0')}"
            ]
          },
          "metadata": {},
          "execution_count": 143
        }
      ],
      "source": [
        "inputs"
      ]
    },
    {
      "cell_type": "code",
      "execution_count": null,
      "metadata": {
        "colab": {
          "base_uri": "https://localhost:8080/"
        },
        "id": "uENI9EGMa_xY",
        "outputId": "f208af0e-43ab-4e22-8851-40efd2273c22"
      },
      "outputs": [
        {
          "output_type": "execute_result",
          "data": {
            "text/plain": [
              "dict"
            ]
          },
          "metadata": {},
          "execution_count": 144
        }
      ],
      "source": [
        "type(inputs)"
      ]
    },
    {
      "cell_type": "code",
      "execution_count": null,
      "metadata": {
        "id": "aaMncUZ-a_xY"
      },
      "outputs": [],
      "source": [
        "with torch.no_grad():\n",
        "  outputs = model(**inputs)"
      ]
    },
    {
      "cell_type": "code",
      "execution_count": null,
      "metadata": {
        "colab": {
          "base_uri": "https://localhost:8080/"
        },
        "id": "En4lu6_La_xY",
        "outputId": "334c3513-5dbd-4c50-b467-7d3020acbf39"
      },
      "outputs": [
        {
          "output_type": "execute_result",
          "data": {
            "text/plain": [
              "SequenceClassifierOutput(loss=None, logits=tensor([[-0.0569,  0.0147,  0.0286, -0.0184]], device='cuda:0'), hidden_states=(tensor([[[-2.7202e-01, -1.8356e-01,  5.7611e-02,  ..., -1.5418e-01,\n",
              "           2.6787e-01, -3.2099e-01],\n",
              "         [-3.1669e-01, -2.1807e-01, -8.8446e-04,  ...,  2.1743e-01,\n",
              "           2.5074e-01, -3.4014e-01],\n",
              "         [-1.8568e-01, -2.1013e-01, -7.7682e-02,  ..., -6.0388e-02,\n",
              "           1.7608e-01, -1.6781e-01],\n",
              "         ...,\n",
              "         [-9.6796e-02, -5.4610e-02, -5.0362e-02,  ..., -1.1312e-01,\n",
              "           3.1314e-01, -1.7221e-01],\n",
              "         [-4.1814e-02, -8.8047e-02, -2.0904e-02,  ...,  1.5962e-01,\n",
              "           2.2029e-01, -3.3574e-01],\n",
              "         [-1.7370e-01, -1.3185e-05,  1.1318e-01,  ...,  4.2382e-02,\n",
              "           1.4670e-01, -3.2963e-01]]], device='cuda:0'), tensor([[[-0.1017,  0.0460,  0.0956,  ..., -0.0712,  0.0526,  0.0072],\n",
              "         [-0.1442, -0.0138,  0.0379,  ..., -0.0178,  0.0609, -0.1824],\n",
              "         [ 0.0195,  0.0251, -0.0595,  ..., -0.1657, -0.0221, -0.0359],\n",
              "         ...,\n",
              "         [ 0.0211, -0.0258, -0.1667,  ..., -0.1015,  0.1922, -0.2106],\n",
              "         [-0.0554, -0.0835, -0.3211,  ..., -0.0973,  0.1269, -0.2836],\n",
              "         [-0.1371,  0.1154, -0.1173,  ..., -0.0498,  0.0054, -0.2600]]],\n",
              "       device='cuda:0'), tensor([[[ 0.0330,  0.1187,  0.0216,  ...,  0.0766, -0.1308,  0.0455],\n",
              "         [ 0.0665,  0.0207,  0.1366,  ...,  0.0877, -0.1470, -0.1342],\n",
              "         [ 0.2635,  0.0753,  0.1550,  ...,  0.0082, -0.1619, -0.0028],\n",
              "         ...,\n",
              "         [ 0.1471,  0.0552, -0.0668,  ..., -0.0499, -0.0242, -0.1417],\n",
              "         [ 0.1569, -0.0573, -0.3478,  ..., -0.0131, -0.0045, -0.3290],\n",
              "         [ 0.0420,  0.2376, -0.0646,  ...,  0.0681, -0.0607, -0.3464]]],\n",
              "       device='cuda:0'), tensor([[[ 0.1155,  0.1455,  0.1309,  ..., -0.1704, -0.2063,  0.0203],\n",
              "         [ 0.1069,  0.0819,  0.2511,  ..., -0.1911, -0.1845, -0.1417],\n",
              "         [ 0.1587,  0.0191,  0.3354,  ..., -0.1931, -0.1051, -0.1103],\n",
              "         ...,\n",
              "         [ 0.0539, -0.1243, -0.0995,  ...,  0.0328, -0.0163, -0.3071],\n",
              "         [ 0.0783, -0.0807, -0.2132,  ...,  0.0853, -0.0206, -0.6232],\n",
              "         [ 0.1551,  0.2458,  0.3304,  ..., -0.0132,  0.0008, -0.3800]]],\n",
              "       device='cuda:0'), tensor([[[ 0.0991,  0.2424,  0.1030,  ..., -0.2501, -0.2375,  0.1418],\n",
              "         [ 0.0791,  0.1393,  0.2103,  ..., -0.2637, -0.1942, -0.0260],\n",
              "         [ 0.1186,  0.1108,  0.3347,  ..., -0.1919, -0.1177, -0.1698],\n",
              "         ...,\n",
              "         [ 0.2677, -0.0494, -0.3550,  ..., -0.0723,  0.0294, -0.6599],\n",
              "         [ 0.2285, -0.1678, -0.2478,  ..., -0.0741, -0.0011, -0.8680],\n",
              "         [ 0.0998,  0.1821,  0.2596,  ..., -0.1351,  0.0091, -0.2696]]],\n",
              "       device='cuda:0'), tensor([[[ 0.1453,  0.0171, -0.0302,  ..., -0.1876, -0.2966,  0.2009],\n",
              "         [ 0.1407,  0.0387, -0.0320,  ..., -0.2120, -0.2775,  0.0870],\n",
              "         [ 0.1411,  0.0137,  0.0555,  ..., -0.2469, -0.2646,  0.0055],\n",
              "         ...,\n",
              "         [ 0.0124, -0.2138, -0.0361,  ..., -0.0392,  0.0456, -0.7405],\n",
              "         [ 0.0639, -0.2207, -0.1109,  ..., -0.0234,  0.2079, -0.7641],\n",
              "         [ 0.1053,  0.0412,  0.0476,  ..., -0.0204,  0.1123, -0.2161]]],\n",
              "       device='cuda:0'), tensor([[[ 0.1200, -0.0920, -0.0901,  ..., -0.2919,  0.0063,  0.2269],\n",
              "         [ 0.1181, -0.0669, -0.0393,  ..., -0.3066,  0.0222,  0.1654],\n",
              "         [ 0.1013, -0.0061,  0.0285,  ..., -0.3336,  0.0071,  0.1128],\n",
              "         ...,\n",
              "         [ 0.1500, -0.0676, -0.1745,  ..., -0.1501,  0.0265, -0.4550],\n",
              "         [ 0.1821, -0.1538, -0.0992,  ..., -0.2036,  0.0965, -0.3912],\n",
              "         [ 0.1593, -0.0192, -0.0161,  ..., -0.2277,  0.1133, -0.1230]]],\n",
              "       device='cuda:0'), tensor([[[-0.0254, -0.0498,  0.0389,  ..., -0.1605,  0.1697,  0.0920],\n",
              "         [-0.0269, -0.0620,  0.0383,  ..., -0.1611,  0.1780,  0.0479],\n",
              "         [-0.0226, -0.0752,  0.0236,  ..., -0.1694,  0.1653, -0.0086],\n",
              "         ...,\n",
              "         [ 0.2034, -0.0691,  0.0333,  ..., -0.1259,  0.1754, -0.5673],\n",
              "         [-0.0159, -0.0710,  0.0763,  ..., -0.1641,  0.2749, -0.3766],\n",
              "         [-0.1218, -0.0705,  0.1369,  ..., -0.1417,  0.2559, -0.1374]]],\n",
              "       device='cuda:0'), tensor([[[ 3.1796e-02, -1.2682e-01, -8.0158e-02,  ..., -5.7925e-02,\n",
              "           1.8818e-01,  1.8825e-02],\n",
              "         [ 3.7709e-02, -1.3231e-01, -8.0929e-02,  ..., -5.8755e-02,\n",
              "           1.8808e-01, -1.9215e-02],\n",
              "         [ 6.3427e-02, -1.3737e-01, -9.3215e-02,  ..., -6.5611e-02,\n",
              "           1.7972e-01, -7.2549e-02],\n",
              "         ...,\n",
              "         [ 5.0990e-02, -1.2312e-01, -3.2813e-04,  ...,  1.3822e-01,\n",
              "           2.0117e-01, -5.7004e-01],\n",
              "         [-1.0768e-01, -1.2328e-01, -1.5468e-02,  ...,  8.7208e-02,\n",
              "           2.2558e-01, -3.4229e-01],\n",
              "         [-9.1540e-02, -1.4237e-01, -2.2854e-02,  ...,  3.0056e-02,\n",
              "           2.1813e-01, -1.5045e-01]]], device='cuda:0'), tensor([[[-8.2100e-03, -1.7378e-01, -5.1610e-04,  ..., -3.5263e-02,\n",
              "           1.2173e-01, -1.1984e-01],\n",
              "         [ 3.0693e-03, -1.7326e-01,  4.7987e-04,  ..., -3.8946e-02,\n",
              "           1.1951e-01, -1.4771e-01],\n",
              "         [ 3.1528e-02, -1.6730e-01, -8.3017e-03,  ..., -5.3221e-02,\n",
              "           1.1458e-01, -1.8859e-01],\n",
              "         ...,\n",
              "         [ 7.8378e-02, -2.6886e-02, -1.4680e-01,  ...,  1.3875e-02,\n",
              "           1.8944e-01, -6.5379e-01],\n",
              "         [-1.9786e-02, -1.4147e-01, -3.5058e-02,  ..., -4.7914e-02,\n",
              "           2.2546e-01, -4.5421e-01],\n",
              "         [-3.8118e-02, -1.7273e-01,  1.6856e-02,  ..., -4.2085e-02,\n",
              "           1.8745e-01, -2.8970e-01]]], device='cuda:0'), tensor([[[-0.0674, -0.1978, -0.0154,  ..., -0.0035,  0.0671, -0.1985],\n",
              "         [-0.0584, -0.1952, -0.0199,  ..., -0.0052,  0.0650, -0.2247],\n",
              "         [-0.0415, -0.1808, -0.0352,  ..., -0.0190,  0.0500, -0.2574],\n",
              "         ...,\n",
              "         [ 0.0527,  0.1480, -0.1405,  ..., -0.0844,  0.0851, -0.6871],\n",
              "         [-0.0067, -0.0957, -0.0724,  ..., -0.0717,  0.1259, -0.4686],\n",
              "         [-0.0422, -0.1666, -0.0303,  ..., -0.0272,  0.1260, -0.3266]]],\n",
              "       device='cuda:0'), tensor([[[ 0.0404, -0.0858, -0.0216,  ...,  0.0696,  0.1464, -0.1800],\n",
              "         [ 0.0438, -0.0838, -0.0216,  ...,  0.0737,  0.1422, -0.2024],\n",
              "         [ 0.0500, -0.0695, -0.0296,  ...,  0.0794,  0.1312, -0.2403],\n",
              "         ...,\n",
              "         [ 0.0972,  0.2650,  0.0044,  ..., -0.1154, -0.0424, -0.5578],\n",
              "         [ 0.0543,  0.0296, -0.0589,  ..., -0.0164,  0.0466, -0.3784],\n",
              "         [ 0.0520, -0.0645, -0.0700,  ...,  0.0587,  0.1266, -0.2621]]],\n",
              "       device='cuda:0'), tensor([[[ 0.0924, -0.0873,  0.2480,  ..., -0.0481,  0.1011, -0.3813],\n",
              "         [ 0.1171, -0.0870,  0.2565,  ..., -0.0525,  0.0991, -0.4402],\n",
              "         [ 0.1896, -0.0639,  0.2879,  ..., -0.0714,  0.0727, -0.5391],\n",
              "         ...,\n",
              "         [ 0.1721,  0.3426,  0.0415,  ..., -0.0303, -0.1977, -0.6863],\n",
              "         [ 0.1121,  0.1157,  0.1866,  ..., -0.1068, -0.1563, -0.5571],\n",
              "         [ 0.0897,  0.0344,  0.2302,  ..., -0.0846, -0.0011, -0.4501]]],\n",
              "       device='cuda:0')), attentions=None)"
            ]
          },
          "metadata": {},
          "execution_count": 146
        }
      ],
      "source": [
        "outputs"
      ]
    },
    {
      "cell_type": "code",
      "execution_count": null,
      "metadata": {
        "colab": {
          "base_uri": "https://localhost:8080/"
        },
        "id": "35752cixa_xZ",
        "outputId": "e5496906-247f-4c64-a7f3-278ca224b619"
      },
      "outputs": [
        {
          "output_type": "stream",
          "name": "stdout",
          "text": [
            "logits\n",
            "hidden_states\n"
          ]
        }
      ],
      "source": [
        "for k, v in outputs.items():\n",
        "  print(k)"
      ]
    },
    {
      "cell_type": "markdown",
      "metadata": {
        "id": "4asJduima_xZ"
      },
      "source": [
        "As we can see, this time we have `hidden_states` in addition to `logits` parameter.\n",
        "\n"
      ]
    },
    {
      "cell_type": "code",
      "execution_count": null,
      "metadata": {
        "colab": {
          "base_uri": "https://localhost:8080/"
        },
        "id": "gveByk9ta_xZ",
        "outputId": "bbebec8d-616f-4995-82ea-1332791fd572"
      },
      "outputs": [
        {
          "output_type": "execute_result",
          "data": {
            "text/plain": [
              "13"
            ]
          },
          "metadata": {},
          "execution_count": 148
        }
      ],
      "source": [
        "len(outputs[\"hidden_states\"])"
      ]
    },
    {
      "cell_type": "markdown",
      "metadata": {
        "id": "MqekQtzha_xZ"
      },
      "source": [
        "The size of `hidden_state` parameter equals hidden states of the model at the output of each layer plus the optional initial embedding outputs. So, all in all the size equals (12 layers => 12 hidden states + 1 (initial embedding outputs)) = 13"
      ]
    },
    {
      "cell_type": "code",
      "execution_count": null,
      "metadata": {
        "colab": {
          "base_uri": "https://localhost:8080/"
        },
        "id": "NN8ME40wa_xZ",
        "outputId": "524c8374-d67b-495c-9540-39d413e3abbc"
      },
      "outputs": [
        {
          "output_type": "execute_result",
          "data": {
            "text/plain": [
              "torch.Size([1, 292, 768])"
            ]
          },
          "metadata": {},
          "execution_count": 149
        }
      ],
      "source": [
        "outputs[\"hidden_states\"][0].shape"
      ]
    },
    {
      "cell_type": "code",
      "execution_count": null,
      "metadata": {
        "colab": {
          "base_uri": "https://localhost:8080/"
        },
        "id": "-ugkIpMQa_xa",
        "outputId": "34ded84c-e68b-41a0-ea99-8de47ff88dd0"
      },
      "outputs": [
        {
          "output_type": "execute_result",
          "data": {
            "text/plain": [
              "torch.Size([1, 292, 768])"
            ]
          },
          "metadata": {},
          "execution_count": 150
        }
      ],
      "source": [
        "outputs[\"hidden_states\"][1].shape"
      ]
    },
    {
      "cell_type": "markdown",
      "metadata": {
        "id": "si7oPwWHa_xa"
      },
      "source": [
        "We can see that the size of tokens in each hidden state is the same and just embedding will be reacher in top layers (because of multi head attention)"
      ]
    },
    {
      "cell_type": "code",
      "execution_count": null,
      "metadata": {
        "id": "6CrLTFHga_xa"
      },
      "outputs": [],
      "source": [
        "# extract last hidden state\n",
        "x = outputs[\"hidden_states\"][-1]"
      ]
    },
    {
      "cell_type": "code",
      "execution_count": null,
      "metadata": {
        "colab": {
          "base_uri": "https://localhost:8080/"
        },
        "id": "Gq1oMb5aa_xa",
        "outputId": "797bc4cd-17e2-4d8d-f6bc-e887d91d1fbd"
      },
      "outputs": [
        {
          "output_type": "execute_result",
          "data": {
            "text/plain": [
              "torch.Size([1, 292, 768])"
            ]
          },
          "metadata": {},
          "execution_count": 152
        }
      ],
      "source": [
        "x.shape"
      ]
    },
    {
      "cell_type": "code",
      "execution_count": null,
      "metadata": {
        "colab": {
          "base_uri": "https://localhost:8080/"
        },
        "id": "dIvvDPoTa_xc",
        "outputId": "5b1b1c2d-37ce-45ad-f5f3-848956b41432"
      },
      "outputs": [
        {
          "output_type": "execute_result",
          "data": {
            "text/plain": [
              "13"
            ]
          },
          "metadata": {},
          "execution_count": 153
        }
      ],
      "source": [
        "# -1 th element is just hidden_states\n",
        "len(outputs[-1])"
      ]
    }
  ],
  "metadata": {
    "colab": {
      "toc_visible": true,
      "provenance": [],
      "collapsed_sections": [
        "EyVzd6GnZXSs"
      ],
      "gpuType": "T4",
      "authorship_tag": "ABX9TyMLYV6NArYLjkuaiMMnxYKW",
      "include_colab_link": true
    },
    "kernelspec": {
      "display_name": "Python 3",
      "name": "python3"
    },
    "language_info": {
      "name": "python"
    },
    "widgets": {
      "application/vnd.jupyter.widget-state+json": {
        "e499d5bf45094c7a8030166d563eb114": {
          "model_module": "@jupyter-widgets/controls",
          "model_name": "HBoxModel",
          "model_module_version": "1.5.0",
          "state": {
            "_dom_classes": [],
            "_model_module": "@jupyter-widgets/controls",
            "_model_module_version": "1.5.0",
            "_model_name": "HBoxModel",
            "_view_count": null,
            "_view_module": "@jupyter-widgets/controls",
            "_view_module_version": "1.5.0",
            "_view_name": "HBoxView",
            "box_style": "",
            "children": [
              "IPY_MODEL_e9343762c5924fd7a002267cecae1c72",
              "IPY_MODEL_b35d96334ea14ce7840132efdd9d25f5",
              "IPY_MODEL_1b92b7121d6d4a38829f4cb7c565fbe0"
            ],
            "layout": "IPY_MODEL_9de9816745994aaab251af38e996988f"
          }
        },
        "e9343762c5924fd7a002267cecae1c72": {
          "model_module": "@jupyter-widgets/controls",
          "model_name": "HTMLModel",
          "model_module_version": "1.5.0",
          "state": {
            "_dom_classes": [],
            "_model_module": "@jupyter-widgets/controls",
            "_model_module_version": "1.5.0",
            "_model_name": "HTMLModel",
            "_view_count": null,
            "_view_module": "@jupyter-widgets/controls",
            "_view_module_version": "1.5.0",
            "_view_name": "HTMLView",
            "description": "",
            "description_tooltip": null,
            "layout": "IPY_MODEL_bf864f59181f49c4a445d94f8ac4bddc",
            "placeholder": "​",
            "style": "IPY_MODEL_fbc4106c0dbf403aab9e0fb4217c38ef",
            "value": "preprocessor_config.json: 100%"
          }
        },
        "b35d96334ea14ce7840132efdd9d25f5": {
          "model_module": "@jupyter-widgets/controls",
          "model_name": "FloatProgressModel",
          "model_module_version": "1.5.0",
          "state": {
            "_dom_classes": [],
            "_model_module": "@jupyter-widgets/controls",
            "_model_module_version": "1.5.0",
            "_model_name": "FloatProgressModel",
            "_view_count": null,
            "_view_module": "@jupyter-widgets/controls",
            "_view_module_version": "1.5.0",
            "_view_name": "ProgressView",
            "bar_style": "success",
            "description": "",
            "description_tooltip": null,
            "layout": "IPY_MODEL_7e777d5491f84916ac94b9937702b594",
            "max": 159,
            "min": 0,
            "orientation": "horizontal",
            "style": "IPY_MODEL_0a9874a08100453a84120966c53c3e12",
            "value": 159
          }
        },
        "1b92b7121d6d4a38829f4cb7c565fbe0": {
          "model_module": "@jupyter-widgets/controls",
          "model_name": "HTMLModel",
          "model_module_version": "1.5.0",
          "state": {
            "_dom_classes": [],
            "_model_module": "@jupyter-widgets/controls",
            "_model_module_version": "1.5.0",
            "_model_name": "HTMLModel",
            "_view_count": null,
            "_view_module": "@jupyter-widgets/controls",
            "_view_module_version": "1.5.0",
            "_view_name": "HTMLView",
            "description": "",
            "description_tooltip": null,
            "layout": "IPY_MODEL_6c9a8fc05efe4efe9ab149d791869352",
            "placeholder": "​",
            "style": "IPY_MODEL_fb63f9939f0e46f2ab90e3f6d4419ae3",
            "value": " 159/159 [00:00&lt;00:00, 7.32kB/s]"
          }
        },
        "9de9816745994aaab251af38e996988f": {
          "model_module": "@jupyter-widgets/base",
          "model_name": "LayoutModel",
          "model_module_version": "1.2.0",
          "state": {
            "_model_module": "@jupyter-widgets/base",
            "_model_module_version": "1.2.0",
            "_model_name": "LayoutModel",
            "_view_count": null,
            "_view_module": "@jupyter-widgets/base",
            "_view_module_version": "1.2.0",
            "_view_name": "LayoutView",
            "align_content": null,
            "align_items": null,
            "align_self": null,
            "border": null,
            "bottom": null,
            "display": null,
            "flex": null,
            "flex_flow": null,
            "grid_area": null,
            "grid_auto_columns": null,
            "grid_auto_flow": null,
            "grid_auto_rows": null,
            "grid_column": null,
            "grid_gap": null,
            "grid_row": null,
            "grid_template_areas": null,
            "grid_template_columns": null,
            "grid_template_rows": null,
            "height": null,
            "justify_content": null,
            "justify_items": null,
            "left": null,
            "margin": null,
            "max_height": null,
            "max_width": null,
            "min_height": null,
            "min_width": null,
            "object_fit": null,
            "object_position": null,
            "order": null,
            "overflow": null,
            "overflow_x": null,
            "overflow_y": null,
            "padding": null,
            "right": null,
            "top": null,
            "visibility": null,
            "width": null
          }
        },
        "bf864f59181f49c4a445d94f8ac4bddc": {
          "model_module": "@jupyter-widgets/base",
          "model_name": "LayoutModel",
          "model_module_version": "1.2.0",
          "state": {
            "_model_module": "@jupyter-widgets/base",
            "_model_module_version": "1.2.0",
            "_model_name": "LayoutModel",
            "_view_count": null,
            "_view_module": "@jupyter-widgets/base",
            "_view_module_version": "1.2.0",
            "_view_name": "LayoutView",
            "align_content": null,
            "align_items": null,
            "align_self": null,
            "border": null,
            "bottom": null,
            "display": null,
            "flex": null,
            "flex_flow": null,
            "grid_area": null,
            "grid_auto_columns": null,
            "grid_auto_flow": null,
            "grid_auto_rows": null,
            "grid_column": null,
            "grid_gap": null,
            "grid_row": null,
            "grid_template_areas": null,
            "grid_template_columns": null,
            "grid_template_rows": null,
            "height": null,
            "justify_content": null,
            "justify_items": null,
            "left": null,
            "margin": null,
            "max_height": null,
            "max_width": null,
            "min_height": null,
            "min_width": null,
            "object_fit": null,
            "object_position": null,
            "order": null,
            "overflow": null,
            "overflow_x": null,
            "overflow_y": null,
            "padding": null,
            "right": null,
            "top": null,
            "visibility": null,
            "width": null
          }
        },
        "fbc4106c0dbf403aab9e0fb4217c38ef": {
          "model_module": "@jupyter-widgets/controls",
          "model_name": "DescriptionStyleModel",
          "model_module_version": "1.5.0",
          "state": {
            "_model_module": "@jupyter-widgets/controls",
            "_model_module_version": "1.5.0",
            "_model_name": "DescriptionStyleModel",
            "_view_count": null,
            "_view_module": "@jupyter-widgets/base",
            "_view_module_version": "1.2.0",
            "_view_name": "StyleView",
            "description_width": ""
          }
        },
        "7e777d5491f84916ac94b9937702b594": {
          "model_module": "@jupyter-widgets/base",
          "model_name": "LayoutModel",
          "model_module_version": "1.2.0",
          "state": {
            "_model_module": "@jupyter-widgets/base",
            "_model_module_version": "1.2.0",
            "_model_name": "LayoutModel",
            "_view_count": null,
            "_view_module": "@jupyter-widgets/base",
            "_view_module_version": "1.2.0",
            "_view_name": "LayoutView",
            "align_content": null,
            "align_items": null,
            "align_self": null,
            "border": null,
            "bottom": null,
            "display": null,
            "flex": null,
            "flex_flow": null,
            "grid_area": null,
            "grid_auto_columns": null,
            "grid_auto_flow": null,
            "grid_auto_rows": null,
            "grid_column": null,
            "grid_gap": null,
            "grid_row": null,
            "grid_template_areas": null,
            "grid_template_columns": null,
            "grid_template_rows": null,
            "height": null,
            "justify_content": null,
            "justify_items": null,
            "left": null,
            "margin": null,
            "max_height": null,
            "max_width": null,
            "min_height": null,
            "min_width": null,
            "object_fit": null,
            "object_position": null,
            "order": null,
            "overflow": null,
            "overflow_x": null,
            "overflow_y": null,
            "padding": null,
            "right": null,
            "top": null,
            "visibility": null,
            "width": null
          }
        },
        "0a9874a08100453a84120966c53c3e12": {
          "model_module": "@jupyter-widgets/controls",
          "model_name": "ProgressStyleModel",
          "model_module_version": "1.5.0",
          "state": {
            "_model_module": "@jupyter-widgets/controls",
            "_model_module_version": "1.5.0",
            "_model_name": "ProgressStyleModel",
            "_view_count": null,
            "_view_module": "@jupyter-widgets/base",
            "_view_module_version": "1.2.0",
            "_view_name": "StyleView",
            "bar_color": null,
            "description_width": ""
          }
        },
        "6c9a8fc05efe4efe9ab149d791869352": {
          "model_module": "@jupyter-widgets/base",
          "model_name": "LayoutModel",
          "model_module_version": "1.2.0",
          "state": {
            "_model_module": "@jupyter-widgets/base",
            "_model_module_version": "1.2.0",
            "_model_name": "LayoutModel",
            "_view_count": null,
            "_view_module": "@jupyter-widgets/base",
            "_view_module_version": "1.2.0",
            "_view_name": "LayoutView",
            "align_content": null,
            "align_items": null,
            "align_self": null,
            "border": null,
            "bottom": null,
            "display": null,
            "flex": null,
            "flex_flow": null,
            "grid_area": null,
            "grid_auto_columns": null,
            "grid_auto_flow": null,
            "grid_auto_rows": null,
            "grid_column": null,
            "grid_gap": null,
            "grid_row": null,
            "grid_template_areas": null,
            "grid_template_columns": null,
            "grid_template_rows": null,
            "height": null,
            "justify_content": null,
            "justify_items": null,
            "left": null,
            "margin": null,
            "max_height": null,
            "max_width": null,
            "min_height": null,
            "min_width": null,
            "object_fit": null,
            "object_position": null,
            "order": null,
            "overflow": null,
            "overflow_x": null,
            "overflow_y": null,
            "padding": null,
            "right": null,
            "top": null,
            "visibility": null,
            "width": null
          }
        },
        "fb63f9939f0e46f2ab90e3f6d4419ae3": {
          "model_module": "@jupyter-widgets/controls",
          "model_name": "DescriptionStyleModel",
          "model_module_version": "1.5.0",
          "state": {
            "_model_module": "@jupyter-widgets/controls",
            "_model_module_version": "1.5.0",
            "_model_name": "DescriptionStyleModel",
            "_view_count": null,
            "_view_module": "@jupyter-widgets/base",
            "_view_module_version": "1.2.0",
            "_view_name": "StyleView",
            "description_width": ""
          }
        },
        "e4d9251c411d4adfae7a39a2ce5593d7": {
          "model_module": "@jupyter-widgets/controls",
          "model_name": "HBoxModel",
          "model_module_version": "1.5.0",
          "state": {
            "_dom_classes": [],
            "_model_module": "@jupyter-widgets/controls",
            "_model_module_version": "1.5.0",
            "_model_name": "HBoxModel",
            "_view_count": null,
            "_view_module": "@jupyter-widgets/controls",
            "_view_module_version": "1.5.0",
            "_view_name": "HBoxView",
            "box_style": "",
            "children": [
              "IPY_MODEL_bedf0997305c40bbac569fe0cb0701be",
              "IPY_MODEL_ac8a50ae8bf349ff963ffc19b7862ece",
              "IPY_MODEL_3fcc07dc3cde44be8c71e625e727535f"
            ],
            "layout": "IPY_MODEL_c016d926b9d24a648a34c81b5554c4e2"
          }
        },
        "bedf0997305c40bbac569fe0cb0701be": {
          "model_module": "@jupyter-widgets/controls",
          "model_name": "HTMLModel",
          "model_module_version": "1.5.0",
          "state": {
            "_dom_classes": [],
            "_model_module": "@jupyter-widgets/controls",
            "_model_module_version": "1.5.0",
            "_model_name": "HTMLModel",
            "_view_count": null,
            "_view_module": "@jupyter-widgets/controls",
            "_view_module_version": "1.5.0",
            "_view_name": "HTMLView",
            "description": "",
            "description_tooltip": null,
            "layout": "IPY_MODEL_a79436fe8a2f477bb162be9aabe01393",
            "placeholder": "​",
            "style": "IPY_MODEL_cb69225879794d99b2eb64ecc497f354",
            "value": "config.json: 100%"
          }
        },
        "ac8a50ae8bf349ff963ffc19b7862ece": {
          "model_module": "@jupyter-widgets/controls",
          "model_name": "FloatProgressModel",
          "model_module_version": "1.5.0",
          "state": {
            "_dom_classes": [],
            "_model_module": "@jupyter-widgets/controls",
            "_model_module_version": "1.5.0",
            "_model_name": "FloatProgressModel",
            "_view_count": null,
            "_view_module": "@jupyter-widgets/controls",
            "_view_module_version": "1.5.0",
            "_view_name": "ProgressView",
            "bar_style": "success",
            "description": "",
            "description_tooltip": null,
            "layout": "IPY_MODEL_746994366f9e4a389fc2d5992a20a4a5",
            "max": 1596,
            "min": 0,
            "orientation": "horizontal",
            "style": "IPY_MODEL_f3e935a060b640dfb6daf49dfec89b8a",
            "value": 1596
          }
        },
        "3fcc07dc3cde44be8c71e625e727535f": {
          "model_module": "@jupyter-widgets/controls",
          "model_name": "HTMLModel",
          "model_module_version": "1.5.0",
          "state": {
            "_dom_classes": [],
            "_model_module": "@jupyter-widgets/controls",
            "_model_module_version": "1.5.0",
            "_model_name": "HTMLModel",
            "_view_count": null,
            "_view_module": "@jupyter-widgets/controls",
            "_view_module_version": "1.5.0",
            "_view_name": "HTMLView",
            "description": "",
            "description_tooltip": null,
            "layout": "IPY_MODEL_b23ade9a5f5a48d389021a8d13cf5eea",
            "placeholder": "​",
            "style": "IPY_MODEL_340e2982231b4ff89571dac60d9dc06a",
            "value": " 1.60k/1.60k [00:00&lt;00:00, 88.8kB/s]"
          }
        },
        "c016d926b9d24a648a34c81b5554c4e2": {
          "model_module": "@jupyter-widgets/base",
          "model_name": "LayoutModel",
          "model_module_version": "1.2.0",
          "state": {
            "_model_module": "@jupyter-widgets/base",
            "_model_module_version": "1.2.0",
            "_model_name": "LayoutModel",
            "_view_count": null,
            "_view_module": "@jupyter-widgets/base",
            "_view_module_version": "1.2.0",
            "_view_name": "LayoutView",
            "align_content": null,
            "align_items": null,
            "align_self": null,
            "border": null,
            "bottom": null,
            "display": null,
            "flex": null,
            "flex_flow": null,
            "grid_area": null,
            "grid_auto_columns": null,
            "grid_auto_flow": null,
            "grid_auto_rows": null,
            "grid_column": null,
            "grid_gap": null,
            "grid_row": null,
            "grid_template_areas": null,
            "grid_template_columns": null,
            "grid_template_rows": null,
            "height": null,
            "justify_content": null,
            "justify_items": null,
            "left": null,
            "margin": null,
            "max_height": null,
            "max_width": null,
            "min_height": null,
            "min_width": null,
            "object_fit": null,
            "object_position": null,
            "order": null,
            "overflow": null,
            "overflow_x": null,
            "overflow_y": null,
            "padding": null,
            "right": null,
            "top": null,
            "visibility": null,
            "width": null
          }
        },
        "a79436fe8a2f477bb162be9aabe01393": {
          "model_module": "@jupyter-widgets/base",
          "model_name": "LayoutModel",
          "model_module_version": "1.2.0",
          "state": {
            "_model_module": "@jupyter-widgets/base",
            "_model_module_version": "1.2.0",
            "_model_name": "LayoutModel",
            "_view_count": null,
            "_view_module": "@jupyter-widgets/base",
            "_view_module_version": "1.2.0",
            "_view_name": "LayoutView",
            "align_content": null,
            "align_items": null,
            "align_self": null,
            "border": null,
            "bottom": null,
            "display": null,
            "flex": null,
            "flex_flow": null,
            "grid_area": null,
            "grid_auto_columns": null,
            "grid_auto_flow": null,
            "grid_auto_rows": null,
            "grid_column": null,
            "grid_gap": null,
            "grid_row": null,
            "grid_template_areas": null,
            "grid_template_columns": null,
            "grid_template_rows": null,
            "height": null,
            "justify_content": null,
            "justify_items": null,
            "left": null,
            "margin": null,
            "max_height": null,
            "max_width": null,
            "min_height": null,
            "min_width": null,
            "object_fit": null,
            "object_position": null,
            "order": null,
            "overflow": null,
            "overflow_x": null,
            "overflow_y": null,
            "padding": null,
            "right": null,
            "top": null,
            "visibility": null,
            "width": null
          }
        },
        "cb69225879794d99b2eb64ecc497f354": {
          "model_module": "@jupyter-widgets/controls",
          "model_name": "DescriptionStyleModel",
          "model_module_version": "1.5.0",
          "state": {
            "_model_module": "@jupyter-widgets/controls",
            "_model_module_version": "1.5.0",
            "_model_name": "DescriptionStyleModel",
            "_view_count": null,
            "_view_module": "@jupyter-widgets/base",
            "_view_module_version": "1.2.0",
            "_view_name": "StyleView",
            "description_width": ""
          }
        },
        "746994366f9e4a389fc2d5992a20a4a5": {
          "model_module": "@jupyter-widgets/base",
          "model_name": "LayoutModel",
          "model_module_version": "1.2.0",
          "state": {
            "_model_module": "@jupyter-widgets/base",
            "_model_module_version": "1.2.0",
            "_model_name": "LayoutModel",
            "_view_count": null,
            "_view_module": "@jupyter-widgets/base",
            "_view_module_version": "1.2.0",
            "_view_name": "LayoutView",
            "align_content": null,
            "align_items": null,
            "align_self": null,
            "border": null,
            "bottom": null,
            "display": null,
            "flex": null,
            "flex_flow": null,
            "grid_area": null,
            "grid_auto_columns": null,
            "grid_auto_flow": null,
            "grid_auto_rows": null,
            "grid_column": null,
            "grid_gap": null,
            "grid_row": null,
            "grid_template_areas": null,
            "grid_template_columns": null,
            "grid_template_rows": null,
            "height": null,
            "justify_content": null,
            "justify_items": null,
            "left": null,
            "margin": null,
            "max_height": null,
            "max_width": null,
            "min_height": null,
            "min_width": null,
            "object_fit": null,
            "object_position": null,
            "order": null,
            "overflow": null,
            "overflow_x": null,
            "overflow_y": null,
            "padding": null,
            "right": null,
            "top": null,
            "visibility": null,
            "width": null
          }
        },
        "f3e935a060b640dfb6daf49dfec89b8a": {
          "model_module": "@jupyter-widgets/controls",
          "model_name": "ProgressStyleModel",
          "model_module_version": "1.5.0",
          "state": {
            "_model_module": "@jupyter-widgets/controls",
            "_model_module_version": "1.5.0",
            "_model_name": "ProgressStyleModel",
            "_view_count": null,
            "_view_module": "@jupyter-widgets/base",
            "_view_module_version": "1.2.0",
            "_view_name": "StyleView",
            "bar_color": null,
            "description_width": ""
          }
        },
        "b23ade9a5f5a48d389021a8d13cf5eea": {
          "model_module": "@jupyter-widgets/base",
          "model_name": "LayoutModel",
          "model_module_version": "1.2.0",
          "state": {
            "_model_module": "@jupyter-widgets/base",
            "_model_module_version": "1.2.0",
            "_model_name": "LayoutModel",
            "_view_count": null,
            "_view_module": "@jupyter-widgets/base",
            "_view_module_version": "1.2.0",
            "_view_name": "LayoutView",
            "align_content": null,
            "align_items": null,
            "align_self": null,
            "border": null,
            "bottom": null,
            "display": null,
            "flex": null,
            "flex_flow": null,
            "grid_area": null,
            "grid_auto_columns": null,
            "grid_auto_flow": null,
            "grid_auto_rows": null,
            "grid_column": null,
            "grid_gap": null,
            "grid_row": null,
            "grid_template_areas": null,
            "grid_template_columns": null,
            "grid_template_rows": null,
            "height": null,
            "justify_content": null,
            "justify_items": null,
            "left": null,
            "margin": null,
            "max_height": null,
            "max_width": null,
            "min_height": null,
            "min_width": null,
            "object_fit": null,
            "object_position": null,
            "order": null,
            "overflow": null,
            "overflow_x": null,
            "overflow_y": null,
            "padding": null,
            "right": null,
            "top": null,
            "visibility": null,
            "width": null
          }
        },
        "340e2982231b4ff89571dac60d9dc06a": {
          "model_module": "@jupyter-widgets/controls",
          "model_name": "DescriptionStyleModel",
          "model_module_version": "1.5.0",
          "state": {
            "_model_module": "@jupyter-widgets/controls",
            "_model_module_version": "1.5.0",
            "_model_name": "DescriptionStyleModel",
            "_view_count": null,
            "_view_module": "@jupyter-widgets/base",
            "_view_module_version": "1.2.0",
            "_view_name": "StyleView",
            "description_width": ""
          }
        },
        "b5bf087fd8fe45caa6cf0f8ef919118b": {
          "model_module": "@jupyter-widgets/controls",
          "model_name": "HBoxModel",
          "model_module_version": "1.5.0",
          "state": {
            "_dom_classes": [],
            "_model_module": "@jupyter-widgets/controls",
            "_model_module_version": "1.5.0",
            "_model_name": "HBoxModel",
            "_view_count": null,
            "_view_module": "@jupyter-widgets/controls",
            "_view_module_version": "1.5.0",
            "_view_name": "HBoxView",
            "box_style": "",
            "children": [
              "IPY_MODEL_132b7e10a60643b19d83ee2ab517f222",
              "IPY_MODEL_636ac2ef3e2b49f5a57b8d6749184bf3",
              "IPY_MODEL_ac3fc534050145f8925317593673ccd1"
            ],
            "layout": "IPY_MODEL_1db0bfecdcfd45c79943a446f0f519eb"
          }
        },
        "132b7e10a60643b19d83ee2ab517f222": {
          "model_module": "@jupyter-widgets/controls",
          "model_name": "HTMLModel",
          "model_module_version": "1.5.0",
          "state": {
            "_dom_classes": [],
            "_model_module": "@jupyter-widgets/controls",
            "_model_module_version": "1.5.0",
            "_model_name": "HTMLModel",
            "_view_count": null,
            "_view_module": "@jupyter-widgets/controls",
            "_view_module_version": "1.5.0",
            "_view_name": "HTMLView",
            "description": "",
            "description_tooltip": null,
            "layout": "IPY_MODEL_d1a00619a4014f7b989f559d95748fa7",
            "placeholder": "​",
            "style": "IPY_MODEL_b7c09d8fab4a44a19affbf15a5b08c95",
            "value": "Downloading builder script: 100%"
          }
        },
        "636ac2ef3e2b49f5a57b8d6749184bf3": {
          "model_module": "@jupyter-widgets/controls",
          "model_name": "FloatProgressModel",
          "model_module_version": "1.5.0",
          "state": {
            "_dom_classes": [],
            "_model_module": "@jupyter-widgets/controls",
            "_model_module_version": "1.5.0",
            "_model_name": "FloatProgressModel",
            "_view_count": null,
            "_view_module": "@jupyter-widgets/controls",
            "_view_module_version": "1.5.0",
            "_view_name": "ProgressView",
            "bar_style": "success",
            "description": "",
            "description_tooltip": null,
            "layout": "IPY_MODEL_20ef170d62d04efca28d9ca5ba32983e",
            "max": 5168,
            "min": 0,
            "orientation": "horizontal",
            "style": "IPY_MODEL_e1dc81332707440a9af2fb8a4ab07683",
            "value": 5168
          }
        },
        "ac3fc534050145f8925317593673ccd1": {
          "model_module": "@jupyter-widgets/controls",
          "model_name": "HTMLModel",
          "model_module_version": "1.5.0",
          "state": {
            "_dom_classes": [],
            "_model_module": "@jupyter-widgets/controls",
            "_model_module_version": "1.5.0",
            "_model_name": "HTMLModel",
            "_view_count": null,
            "_view_module": "@jupyter-widgets/controls",
            "_view_module_version": "1.5.0",
            "_view_name": "HTMLView",
            "description": "",
            "description_tooltip": null,
            "layout": "IPY_MODEL_5c89b22567314ddd975266b6b3b6a4cd",
            "placeholder": "​",
            "style": "IPY_MODEL_43280b4ab62848c2b516be22d98a827c",
            "value": " 5.17k/5.17k [00:00&lt;00:00, 298kB/s]"
          }
        },
        "1db0bfecdcfd45c79943a446f0f519eb": {
          "model_module": "@jupyter-widgets/base",
          "model_name": "LayoutModel",
          "model_module_version": "1.2.0",
          "state": {
            "_model_module": "@jupyter-widgets/base",
            "_model_module_version": "1.2.0",
            "_model_name": "LayoutModel",
            "_view_count": null,
            "_view_module": "@jupyter-widgets/base",
            "_view_module_version": "1.2.0",
            "_view_name": "LayoutView",
            "align_content": null,
            "align_items": null,
            "align_self": null,
            "border": null,
            "bottom": null,
            "display": null,
            "flex": null,
            "flex_flow": null,
            "grid_area": null,
            "grid_auto_columns": null,
            "grid_auto_flow": null,
            "grid_auto_rows": null,
            "grid_column": null,
            "grid_gap": null,
            "grid_row": null,
            "grid_template_areas": null,
            "grid_template_columns": null,
            "grid_template_rows": null,
            "height": null,
            "justify_content": null,
            "justify_items": null,
            "left": null,
            "margin": null,
            "max_height": null,
            "max_width": null,
            "min_height": null,
            "min_width": null,
            "object_fit": null,
            "object_position": null,
            "order": null,
            "overflow": null,
            "overflow_x": null,
            "overflow_y": null,
            "padding": null,
            "right": null,
            "top": null,
            "visibility": null,
            "width": null
          }
        },
        "d1a00619a4014f7b989f559d95748fa7": {
          "model_module": "@jupyter-widgets/base",
          "model_name": "LayoutModel",
          "model_module_version": "1.2.0",
          "state": {
            "_model_module": "@jupyter-widgets/base",
            "_model_module_version": "1.2.0",
            "_model_name": "LayoutModel",
            "_view_count": null,
            "_view_module": "@jupyter-widgets/base",
            "_view_module_version": "1.2.0",
            "_view_name": "LayoutView",
            "align_content": null,
            "align_items": null,
            "align_self": null,
            "border": null,
            "bottom": null,
            "display": null,
            "flex": null,
            "flex_flow": null,
            "grid_area": null,
            "grid_auto_columns": null,
            "grid_auto_flow": null,
            "grid_auto_rows": null,
            "grid_column": null,
            "grid_gap": null,
            "grid_row": null,
            "grid_template_areas": null,
            "grid_template_columns": null,
            "grid_template_rows": null,
            "height": null,
            "justify_content": null,
            "justify_items": null,
            "left": null,
            "margin": null,
            "max_height": null,
            "max_width": null,
            "min_height": null,
            "min_width": null,
            "object_fit": null,
            "object_position": null,
            "order": null,
            "overflow": null,
            "overflow_x": null,
            "overflow_y": null,
            "padding": null,
            "right": null,
            "top": null,
            "visibility": null,
            "width": null
          }
        },
        "b7c09d8fab4a44a19affbf15a5b08c95": {
          "model_module": "@jupyter-widgets/controls",
          "model_name": "DescriptionStyleModel",
          "model_module_version": "1.5.0",
          "state": {
            "_model_module": "@jupyter-widgets/controls",
            "_model_module_version": "1.5.0",
            "_model_name": "DescriptionStyleModel",
            "_view_count": null,
            "_view_module": "@jupyter-widgets/base",
            "_view_module_version": "1.2.0",
            "_view_name": "StyleView",
            "description_width": ""
          }
        },
        "20ef170d62d04efca28d9ca5ba32983e": {
          "model_module": "@jupyter-widgets/base",
          "model_name": "LayoutModel",
          "model_module_version": "1.2.0",
          "state": {
            "_model_module": "@jupyter-widgets/base",
            "_model_module_version": "1.2.0",
            "_model_name": "LayoutModel",
            "_view_count": null,
            "_view_module": "@jupyter-widgets/base",
            "_view_module_version": "1.2.0",
            "_view_name": "LayoutView",
            "align_content": null,
            "align_items": null,
            "align_self": null,
            "border": null,
            "bottom": null,
            "display": null,
            "flex": null,
            "flex_flow": null,
            "grid_area": null,
            "grid_auto_columns": null,
            "grid_auto_flow": null,
            "grid_auto_rows": null,
            "grid_column": null,
            "grid_gap": null,
            "grid_row": null,
            "grid_template_areas": null,
            "grid_template_columns": null,
            "grid_template_rows": null,
            "height": null,
            "justify_content": null,
            "justify_items": null,
            "left": null,
            "margin": null,
            "max_height": null,
            "max_width": null,
            "min_height": null,
            "min_width": null,
            "object_fit": null,
            "object_position": null,
            "order": null,
            "overflow": null,
            "overflow_x": null,
            "overflow_y": null,
            "padding": null,
            "right": null,
            "top": null,
            "visibility": null,
            "width": null
          }
        },
        "e1dc81332707440a9af2fb8a4ab07683": {
          "model_module": "@jupyter-widgets/controls",
          "model_name": "ProgressStyleModel",
          "model_module_version": "1.5.0",
          "state": {
            "_model_module": "@jupyter-widgets/controls",
            "_model_module_version": "1.5.0",
            "_model_name": "ProgressStyleModel",
            "_view_count": null,
            "_view_module": "@jupyter-widgets/base",
            "_view_module_version": "1.2.0",
            "_view_name": "StyleView",
            "bar_color": null,
            "description_width": ""
          }
        },
        "5c89b22567314ddd975266b6b3b6a4cd": {
          "model_module": "@jupyter-widgets/base",
          "model_name": "LayoutModel",
          "model_module_version": "1.2.0",
          "state": {
            "_model_module": "@jupyter-widgets/base",
            "_model_module_version": "1.2.0",
            "_model_name": "LayoutModel",
            "_view_count": null,
            "_view_module": "@jupyter-widgets/base",
            "_view_module_version": "1.2.0",
            "_view_name": "LayoutView",
            "align_content": null,
            "align_items": null,
            "align_self": null,
            "border": null,
            "bottom": null,
            "display": null,
            "flex": null,
            "flex_flow": null,
            "grid_area": null,
            "grid_auto_columns": null,
            "grid_auto_flow": null,
            "grid_auto_rows": null,
            "grid_column": null,
            "grid_gap": null,
            "grid_row": null,
            "grid_template_areas": null,
            "grid_template_columns": null,
            "grid_template_rows": null,
            "height": null,
            "justify_content": null,
            "justify_items": null,
            "left": null,
            "margin": null,
            "max_height": null,
            "max_width": null,
            "min_height": null,
            "min_width": null,
            "object_fit": null,
            "object_position": null,
            "order": null,
            "overflow": null,
            "overflow_x": null,
            "overflow_y": null,
            "padding": null,
            "right": null,
            "top": null,
            "visibility": null,
            "width": null
          }
        },
        "43280b4ab62848c2b516be22d98a827c": {
          "model_module": "@jupyter-widgets/controls",
          "model_name": "DescriptionStyleModel",
          "model_module_version": "1.5.0",
          "state": {
            "_model_module": "@jupyter-widgets/controls",
            "_model_module_version": "1.5.0",
            "_model_name": "DescriptionStyleModel",
            "_view_count": null,
            "_view_module": "@jupyter-widgets/base",
            "_view_module_version": "1.2.0",
            "_view_name": "StyleView",
            "description_width": ""
          }
        },
        "3f9c801b8df445c38c5cd7a9e78bb836": {
          "model_module": "@jupyter-widgets/controls",
          "model_name": "HBoxModel",
          "model_module_version": "1.5.0",
          "state": {
            "_dom_classes": [],
            "_model_module": "@jupyter-widgets/controls",
            "_model_module_version": "1.5.0",
            "_model_name": "HBoxModel",
            "_view_count": null,
            "_view_module": "@jupyter-widgets/controls",
            "_view_module_version": "1.5.0",
            "_view_name": "HBoxView",
            "box_style": "",
            "children": [
              "IPY_MODEL_5e8c44dbaa72414b83b1dfd149c3085b",
              "IPY_MODEL_dc6615c0e94946c5bd00ee7a74eab35e",
              "IPY_MODEL_97f09d89a3e348dfb232a06d16c08aa6"
            ],
            "layout": "IPY_MODEL_f5895785e2ad47a98cf9c8f84496bd03"
          }
        },
        "5e8c44dbaa72414b83b1dfd149c3085b": {
          "model_module": "@jupyter-widgets/controls",
          "model_name": "HTMLModel",
          "model_module_version": "1.5.0",
          "state": {
            "_dom_classes": [],
            "_model_module": "@jupyter-widgets/controls",
            "_model_module_version": "1.5.0",
            "_model_name": "HTMLModel",
            "_view_count": null,
            "_view_module": "@jupyter-widgets/controls",
            "_view_module_version": "1.5.0",
            "_view_name": "HTMLView",
            "description": "",
            "description_tooltip": null,
            "layout": "IPY_MODEL_0ef7727547e14dccabc792b71510f0b1",
            "placeholder": "​",
            "style": "IPY_MODEL_0ab9a54a8ed4484eae9f548b1b765d27",
            "value": "Downloading data: 100%"
          }
        },
        "dc6615c0e94946c5bd00ee7a74eab35e": {
          "model_module": "@jupyter-widgets/controls",
          "model_name": "FloatProgressModel",
          "model_module_version": "1.5.0",
          "state": {
            "_dom_classes": [],
            "_model_module": "@jupyter-widgets/controls",
            "_model_module_version": "1.5.0",
            "_model_name": "FloatProgressModel",
            "_view_count": null,
            "_view_module": "@jupyter-widgets/controls",
            "_view_module_version": "1.5.0",
            "_view_name": "ProgressView",
            "bar_style": "success",
            "description": "",
            "description_tooltip": null,
            "layout": "IPY_MODEL_cc5d2cfc7b5f4295bb333b580f8d7dbd",
            "max": 9078094,
            "min": 0,
            "orientation": "horizontal",
            "style": "IPY_MODEL_88250826cda5410093aa4b92a440c3c1",
            "value": 9078094
          }
        },
        "97f09d89a3e348dfb232a06d16c08aa6": {
          "model_module": "@jupyter-widgets/controls",
          "model_name": "HTMLModel",
          "model_module_version": "1.5.0",
          "state": {
            "_dom_classes": [],
            "_model_module": "@jupyter-widgets/controls",
            "_model_module_version": "1.5.0",
            "_model_name": "HTMLModel",
            "_view_count": null,
            "_view_module": "@jupyter-widgets/controls",
            "_view_module_version": "1.5.0",
            "_view_name": "HTMLView",
            "description": "",
            "description_tooltip": null,
            "layout": "IPY_MODEL_b232a0edda7b4d9aa4a42f4afebe7983",
            "placeholder": "​",
            "style": "IPY_MODEL_bfe7a9d9e23c422080bd09b1a858feee",
            "value": " 9.08M/9.08M [00:00&lt;00:00, 17.6MB/s]"
          }
        },
        "f5895785e2ad47a98cf9c8f84496bd03": {
          "model_module": "@jupyter-widgets/base",
          "model_name": "LayoutModel",
          "model_module_version": "1.2.0",
          "state": {
            "_model_module": "@jupyter-widgets/base",
            "_model_module_version": "1.2.0",
            "_model_name": "LayoutModel",
            "_view_count": null,
            "_view_module": "@jupyter-widgets/base",
            "_view_module_version": "1.2.0",
            "_view_name": "LayoutView",
            "align_content": null,
            "align_items": null,
            "align_self": null,
            "border": null,
            "bottom": null,
            "display": null,
            "flex": null,
            "flex_flow": null,
            "grid_area": null,
            "grid_auto_columns": null,
            "grid_auto_flow": null,
            "grid_auto_rows": null,
            "grid_column": null,
            "grid_gap": null,
            "grid_row": null,
            "grid_template_areas": null,
            "grid_template_columns": null,
            "grid_template_rows": null,
            "height": null,
            "justify_content": null,
            "justify_items": null,
            "left": null,
            "margin": null,
            "max_height": null,
            "max_width": null,
            "min_height": null,
            "min_width": null,
            "object_fit": null,
            "object_position": null,
            "order": null,
            "overflow": null,
            "overflow_x": null,
            "overflow_y": null,
            "padding": null,
            "right": null,
            "top": null,
            "visibility": null,
            "width": null
          }
        },
        "0ef7727547e14dccabc792b71510f0b1": {
          "model_module": "@jupyter-widgets/base",
          "model_name": "LayoutModel",
          "model_module_version": "1.2.0",
          "state": {
            "_model_module": "@jupyter-widgets/base",
            "_model_module_version": "1.2.0",
            "_model_name": "LayoutModel",
            "_view_count": null,
            "_view_module": "@jupyter-widgets/base",
            "_view_module_version": "1.2.0",
            "_view_name": "LayoutView",
            "align_content": null,
            "align_items": null,
            "align_self": null,
            "border": null,
            "bottom": null,
            "display": null,
            "flex": null,
            "flex_flow": null,
            "grid_area": null,
            "grid_auto_columns": null,
            "grid_auto_flow": null,
            "grid_auto_rows": null,
            "grid_column": null,
            "grid_gap": null,
            "grid_row": null,
            "grid_template_areas": null,
            "grid_template_columns": null,
            "grid_template_rows": null,
            "height": null,
            "justify_content": null,
            "justify_items": null,
            "left": null,
            "margin": null,
            "max_height": null,
            "max_width": null,
            "min_height": null,
            "min_width": null,
            "object_fit": null,
            "object_position": null,
            "order": null,
            "overflow": null,
            "overflow_x": null,
            "overflow_y": null,
            "padding": null,
            "right": null,
            "top": null,
            "visibility": null,
            "width": null
          }
        },
        "0ab9a54a8ed4484eae9f548b1b765d27": {
          "model_module": "@jupyter-widgets/controls",
          "model_name": "DescriptionStyleModel",
          "model_module_version": "1.5.0",
          "state": {
            "_model_module": "@jupyter-widgets/controls",
            "_model_module_version": "1.5.0",
            "_model_name": "DescriptionStyleModel",
            "_view_count": null,
            "_view_module": "@jupyter-widgets/base",
            "_view_module_version": "1.2.0",
            "_view_name": "StyleView",
            "description_width": ""
          }
        },
        "cc5d2cfc7b5f4295bb333b580f8d7dbd": {
          "model_module": "@jupyter-widgets/base",
          "model_name": "LayoutModel",
          "model_module_version": "1.2.0",
          "state": {
            "_model_module": "@jupyter-widgets/base",
            "_model_module_version": "1.2.0",
            "_model_name": "LayoutModel",
            "_view_count": null,
            "_view_module": "@jupyter-widgets/base",
            "_view_module_version": "1.2.0",
            "_view_name": "LayoutView",
            "align_content": null,
            "align_items": null,
            "align_self": null,
            "border": null,
            "bottom": null,
            "display": null,
            "flex": null,
            "flex_flow": null,
            "grid_area": null,
            "grid_auto_columns": null,
            "grid_auto_flow": null,
            "grid_auto_rows": null,
            "grid_column": null,
            "grid_gap": null,
            "grid_row": null,
            "grid_template_areas": null,
            "grid_template_columns": null,
            "grid_template_rows": null,
            "height": null,
            "justify_content": null,
            "justify_items": null,
            "left": null,
            "margin": null,
            "max_height": null,
            "max_width": null,
            "min_height": null,
            "min_width": null,
            "object_fit": null,
            "object_position": null,
            "order": null,
            "overflow": null,
            "overflow_x": null,
            "overflow_y": null,
            "padding": null,
            "right": null,
            "top": null,
            "visibility": null,
            "width": null
          }
        },
        "88250826cda5410093aa4b92a440c3c1": {
          "model_module": "@jupyter-widgets/controls",
          "model_name": "ProgressStyleModel",
          "model_module_version": "1.5.0",
          "state": {
            "_model_module": "@jupyter-widgets/controls",
            "_model_module_version": "1.5.0",
            "_model_name": "ProgressStyleModel",
            "_view_count": null,
            "_view_module": "@jupyter-widgets/base",
            "_view_module_version": "1.2.0",
            "_view_name": "StyleView",
            "bar_color": null,
            "description_width": ""
          }
        },
        "b232a0edda7b4d9aa4a42f4afebe7983": {
          "model_module": "@jupyter-widgets/base",
          "model_name": "LayoutModel",
          "model_module_version": "1.2.0",
          "state": {
            "_model_module": "@jupyter-widgets/base",
            "_model_module_version": "1.2.0",
            "_model_name": "LayoutModel",
            "_view_count": null,
            "_view_module": "@jupyter-widgets/base",
            "_view_module_version": "1.2.0",
            "_view_name": "LayoutView",
            "align_content": null,
            "align_items": null,
            "align_self": null,
            "border": null,
            "bottom": null,
            "display": null,
            "flex": null,
            "flex_flow": null,
            "grid_area": null,
            "grid_auto_columns": null,
            "grid_auto_flow": null,
            "grid_auto_rows": null,
            "grid_column": null,
            "grid_gap": null,
            "grid_row": null,
            "grid_template_areas": null,
            "grid_template_columns": null,
            "grid_template_rows": null,
            "height": null,
            "justify_content": null,
            "justify_items": null,
            "left": null,
            "margin": null,
            "max_height": null,
            "max_width": null,
            "min_height": null,
            "min_width": null,
            "object_fit": null,
            "object_position": null,
            "order": null,
            "overflow": null,
            "overflow_x": null,
            "overflow_y": null,
            "padding": null,
            "right": null,
            "top": null,
            "visibility": null,
            "width": null
          }
        },
        "bfe7a9d9e23c422080bd09b1a858feee": {
          "model_module": "@jupyter-widgets/controls",
          "model_name": "DescriptionStyleModel",
          "model_module_version": "1.5.0",
          "state": {
            "_model_module": "@jupyter-widgets/controls",
            "_model_module_version": "1.5.0",
            "_model_name": "DescriptionStyleModel",
            "_view_count": null,
            "_view_module": "@jupyter-widgets/base",
            "_view_module_version": "1.2.0",
            "_view_name": "StyleView",
            "description_width": ""
          }
        },
        "fe8a0fce4d904091bc06c98688f909ab": {
          "model_module": "@jupyter-widgets/controls",
          "model_name": "HBoxModel",
          "model_module_version": "1.5.0",
          "state": {
            "_dom_classes": [],
            "_model_module": "@jupyter-widgets/controls",
            "_model_module_version": "1.5.0",
            "_model_name": "HBoxModel",
            "_view_count": null,
            "_view_module": "@jupyter-widgets/controls",
            "_view_module_version": "1.5.0",
            "_view_name": "HBoxView",
            "box_style": "",
            "children": [
              "IPY_MODEL_acec6ed5dc0a4141ba1deb93a5e0ec8d",
              "IPY_MODEL_fe4aedc0e84d4860835d6e226ca0b860",
              "IPY_MODEL_b1b6c641a5444df1a01b4fbf7f4983ba"
            ],
            "layout": "IPY_MODEL_bc7d3e86cb8b46fa91de2bf7e48c1a6d"
          }
        },
        "acec6ed5dc0a4141ba1deb93a5e0ec8d": {
          "model_module": "@jupyter-widgets/controls",
          "model_name": "HTMLModel",
          "model_module_version": "1.5.0",
          "state": {
            "_dom_classes": [],
            "_model_module": "@jupyter-widgets/controls",
            "_model_module_version": "1.5.0",
            "_model_name": "HTMLModel",
            "_view_count": null,
            "_view_module": "@jupyter-widgets/controls",
            "_view_module_version": "1.5.0",
            "_view_name": "HTMLView",
            "description": "",
            "description_tooltip": null,
            "layout": "IPY_MODEL_08dc9709ca134e3dbee696b1f11c435a",
            "placeholder": "​",
            "style": "IPY_MODEL_ca6f5dbd66644cbeae8c93ce1ed66044",
            "value": "Generating validation split: "
          }
        },
        "fe4aedc0e84d4860835d6e226ca0b860": {
          "model_module": "@jupyter-widgets/controls",
          "model_name": "FloatProgressModel",
          "model_module_version": "1.5.0",
          "state": {
            "_dom_classes": [],
            "_model_module": "@jupyter-widgets/controls",
            "_model_module_version": "1.5.0",
            "_model_name": "FloatProgressModel",
            "_view_count": null,
            "_view_module": "@jupyter-widgets/controls",
            "_view_module_version": "1.5.0",
            "_view_name": "ProgressView",
            "bar_style": "success",
            "description": "",
            "description_tooltip": null,
            "layout": "IPY_MODEL_f23318e274a14d86b22e043074ff480b",
            "max": 1,
            "min": 0,
            "orientation": "horizontal",
            "style": "IPY_MODEL_67e7def0f285439db1f3826a3be5e336",
            "value": 1
          }
        },
        "b1b6c641a5444df1a01b4fbf7f4983ba": {
          "model_module": "@jupyter-widgets/controls",
          "model_name": "HTMLModel",
          "model_module_version": "1.5.0",
          "state": {
            "_dom_classes": [],
            "_model_module": "@jupyter-widgets/controls",
            "_model_module_version": "1.5.0",
            "_model_name": "HTMLModel",
            "_view_count": null,
            "_view_module": "@jupyter-widgets/controls",
            "_view_module_version": "1.5.0",
            "_view_name": "HTMLView",
            "description": "",
            "description_tooltip": null,
            "layout": "IPY_MODEL_ce3a7d06d09046fe9487e7c2900679b8",
            "placeholder": "​",
            "style": "IPY_MODEL_79c74df427f44b41bce70b69d73c8e6d",
            "value": " 73/0 [00:00&lt;00:00, 826.80 examples/s]"
          }
        },
        "bc7d3e86cb8b46fa91de2bf7e48c1a6d": {
          "model_module": "@jupyter-widgets/base",
          "model_name": "LayoutModel",
          "model_module_version": "1.2.0",
          "state": {
            "_model_module": "@jupyter-widgets/base",
            "_model_module_version": "1.2.0",
            "_model_name": "LayoutModel",
            "_view_count": null,
            "_view_module": "@jupyter-widgets/base",
            "_view_module_version": "1.2.0",
            "_view_name": "LayoutView",
            "align_content": null,
            "align_items": null,
            "align_self": null,
            "border": null,
            "bottom": null,
            "display": null,
            "flex": null,
            "flex_flow": null,
            "grid_area": null,
            "grid_auto_columns": null,
            "grid_auto_flow": null,
            "grid_auto_rows": null,
            "grid_column": null,
            "grid_gap": null,
            "grid_row": null,
            "grid_template_areas": null,
            "grid_template_columns": null,
            "grid_template_rows": null,
            "height": null,
            "justify_content": null,
            "justify_items": null,
            "left": null,
            "margin": null,
            "max_height": null,
            "max_width": null,
            "min_height": null,
            "min_width": null,
            "object_fit": null,
            "object_position": null,
            "order": null,
            "overflow": null,
            "overflow_x": null,
            "overflow_y": null,
            "padding": null,
            "right": null,
            "top": null,
            "visibility": null,
            "width": null
          }
        },
        "08dc9709ca134e3dbee696b1f11c435a": {
          "model_module": "@jupyter-widgets/base",
          "model_name": "LayoutModel",
          "model_module_version": "1.2.0",
          "state": {
            "_model_module": "@jupyter-widgets/base",
            "_model_module_version": "1.2.0",
            "_model_name": "LayoutModel",
            "_view_count": null,
            "_view_module": "@jupyter-widgets/base",
            "_view_module_version": "1.2.0",
            "_view_name": "LayoutView",
            "align_content": null,
            "align_items": null,
            "align_self": null,
            "border": null,
            "bottom": null,
            "display": null,
            "flex": null,
            "flex_flow": null,
            "grid_area": null,
            "grid_auto_columns": null,
            "grid_auto_flow": null,
            "grid_auto_rows": null,
            "grid_column": null,
            "grid_gap": null,
            "grid_row": null,
            "grid_template_areas": null,
            "grid_template_columns": null,
            "grid_template_rows": null,
            "height": null,
            "justify_content": null,
            "justify_items": null,
            "left": null,
            "margin": null,
            "max_height": null,
            "max_width": null,
            "min_height": null,
            "min_width": null,
            "object_fit": null,
            "object_position": null,
            "order": null,
            "overflow": null,
            "overflow_x": null,
            "overflow_y": null,
            "padding": null,
            "right": null,
            "top": null,
            "visibility": null,
            "width": null
          }
        },
        "ca6f5dbd66644cbeae8c93ce1ed66044": {
          "model_module": "@jupyter-widgets/controls",
          "model_name": "DescriptionStyleModel",
          "model_module_version": "1.5.0",
          "state": {
            "_model_module": "@jupyter-widgets/controls",
            "_model_module_version": "1.5.0",
            "_model_name": "DescriptionStyleModel",
            "_view_count": null,
            "_view_module": "@jupyter-widgets/base",
            "_view_module_version": "1.2.0",
            "_view_name": "StyleView",
            "description_width": ""
          }
        },
        "f23318e274a14d86b22e043074ff480b": {
          "model_module": "@jupyter-widgets/base",
          "model_name": "LayoutModel",
          "model_module_version": "1.2.0",
          "state": {
            "_model_module": "@jupyter-widgets/base",
            "_model_module_version": "1.2.0",
            "_model_name": "LayoutModel",
            "_view_count": null,
            "_view_module": "@jupyter-widgets/base",
            "_view_module_version": "1.2.0",
            "_view_name": "LayoutView",
            "align_content": null,
            "align_items": null,
            "align_self": null,
            "border": null,
            "bottom": null,
            "display": null,
            "flex": null,
            "flex_flow": null,
            "grid_area": null,
            "grid_auto_columns": null,
            "grid_auto_flow": null,
            "grid_auto_rows": null,
            "grid_column": null,
            "grid_gap": null,
            "grid_row": null,
            "grid_template_areas": null,
            "grid_template_columns": null,
            "grid_template_rows": null,
            "height": null,
            "justify_content": null,
            "justify_items": null,
            "left": null,
            "margin": null,
            "max_height": null,
            "max_width": null,
            "min_height": null,
            "min_width": null,
            "object_fit": null,
            "object_position": null,
            "order": null,
            "overflow": null,
            "overflow_x": null,
            "overflow_y": null,
            "padding": null,
            "right": null,
            "top": null,
            "visibility": null,
            "width": "20px"
          }
        },
        "67e7def0f285439db1f3826a3be5e336": {
          "model_module": "@jupyter-widgets/controls",
          "model_name": "ProgressStyleModel",
          "model_module_version": "1.5.0",
          "state": {
            "_model_module": "@jupyter-widgets/controls",
            "_model_module_version": "1.5.0",
            "_model_name": "ProgressStyleModel",
            "_view_count": null,
            "_view_module": "@jupyter-widgets/base",
            "_view_module_version": "1.2.0",
            "_view_name": "StyleView",
            "bar_color": null,
            "description_width": ""
          }
        },
        "ce3a7d06d09046fe9487e7c2900679b8": {
          "model_module": "@jupyter-widgets/base",
          "model_name": "LayoutModel",
          "model_module_version": "1.2.0",
          "state": {
            "_model_module": "@jupyter-widgets/base",
            "_model_module_version": "1.2.0",
            "_model_name": "LayoutModel",
            "_view_count": null,
            "_view_module": "@jupyter-widgets/base",
            "_view_module_version": "1.2.0",
            "_view_name": "LayoutView",
            "align_content": null,
            "align_items": null,
            "align_self": null,
            "border": null,
            "bottom": null,
            "display": null,
            "flex": null,
            "flex_flow": null,
            "grid_area": null,
            "grid_auto_columns": null,
            "grid_auto_flow": null,
            "grid_auto_rows": null,
            "grid_column": null,
            "grid_gap": null,
            "grid_row": null,
            "grid_template_areas": null,
            "grid_template_columns": null,
            "grid_template_rows": null,
            "height": null,
            "justify_content": null,
            "justify_items": null,
            "left": null,
            "margin": null,
            "max_height": null,
            "max_width": null,
            "min_height": null,
            "min_width": null,
            "object_fit": null,
            "object_position": null,
            "order": null,
            "overflow": null,
            "overflow_x": null,
            "overflow_y": null,
            "padding": null,
            "right": null,
            "top": null,
            "visibility": null,
            "width": null
          }
        },
        "79c74df427f44b41bce70b69d73c8e6d": {
          "model_module": "@jupyter-widgets/controls",
          "model_name": "DescriptionStyleModel",
          "model_module_version": "1.5.0",
          "state": {
            "_model_module": "@jupyter-widgets/controls",
            "_model_module_version": "1.5.0",
            "_model_name": "DescriptionStyleModel",
            "_view_count": null,
            "_view_module": "@jupyter-widgets/base",
            "_view_module_version": "1.2.0",
            "_view_name": "StyleView",
            "description_width": ""
          }
        },
        "9053bc14eede4306ab578fc1a7c1996a": {
          "model_module": "@jupyter-widgets/controls",
          "model_name": "HBoxModel",
          "model_module_version": "1.5.0",
          "state": {
            "_dom_classes": [],
            "_model_module": "@jupyter-widgets/controls",
            "_model_module_version": "1.5.0",
            "_model_name": "HBoxModel",
            "_view_count": null,
            "_view_module": "@jupyter-widgets/controls",
            "_view_module_version": "1.5.0",
            "_view_name": "HBoxView",
            "box_style": "",
            "children": [
              "IPY_MODEL_ccdb2fb7ed05482d87d7b673be32b341",
              "IPY_MODEL_7e81dbda7bce4cefa7eb1cdd4b5ad501",
              "IPY_MODEL_6d73a22704f64b2d9a4cd72aeafbff83"
            ],
            "layout": "IPY_MODEL_567922e32102417f8b0b9e9458aa82b8"
          }
        },
        "ccdb2fb7ed05482d87d7b673be32b341": {
          "model_module": "@jupyter-widgets/controls",
          "model_name": "HTMLModel",
          "model_module_version": "1.5.0",
          "state": {
            "_dom_classes": [],
            "_model_module": "@jupyter-widgets/controls",
            "_model_module_version": "1.5.0",
            "_model_name": "HTMLModel",
            "_view_count": null,
            "_view_module": "@jupyter-widgets/controls",
            "_view_module_version": "1.5.0",
            "_view_name": "HTMLView",
            "description": "",
            "description_tooltip": null,
            "layout": "IPY_MODEL_1c5168a5c4eb40fa90bfa6dbcc7a0da0",
            "placeholder": "​",
            "style": "IPY_MODEL_42b56d5873ef467a81f0705341a13542",
            "value": "model.safetensors: 100%"
          }
        },
        "7e81dbda7bce4cefa7eb1cdd4b5ad501": {
          "model_module": "@jupyter-widgets/controls",
          "model_name": "FloatProgressModel",
          "model_module_version": "1.5.0",
          "state": {
            "_dom_classes": [],
            "_model_module": "@jupyter-widgets/controls",
            "_model_module_version": "1.5.0",
            "_model_name": "FloatProgressModel",
            "_view_count": null,
            "_view_module": "@jupyter-widgets/controls",
            "_view_module_version": "1.5.0",
            "_view_name": "ProgressView",
            "bar_style": "success",
            "description": "",
            "description_tooltip": null,
            "layout": "IPY_MODEL_eac26b86283d42a0b5a5532f3dd31d31",
            "max": 377607901,
            "min": 0,
            "orientation": "horizontal",
            "style": "IPY_MODEL_963415bcf77c4a8f9f911acb3942bfdf",
            "value": 377607901
          }
        },
        "6d73a22704f64b2d9a4cd72aeafbff83": {
          "model_module": "@jupyter-widgets/controls",
          "model_name": "HTMLModel",
          "model_module_version": "1.5.0",
          "state": {
            "_dom_classes": [],
            "_model_module": "@jupyter-widgets/controls",
            "_model_module_version": "1.5.0",
            "_model_name": "HTMLModel",
            "_view_count": null,
            "_view_module": "@jupyter-widgets/controls",
            "_view_module_version": "1.5.0",
            "_view_name": "HTMLView",
            "description": "",
            "description_tooltip": null,
            "layout": "IPY_MODEL_ce9a5441b45740e08f47742fc10c1e37",
            "placeholder": "​",
            "style": "IPY_MODEL_dcf75b079ef24b15926d475ded44d834",
            "value": " 378M/378M [00:02&lt;00:00, 199MB/s]"
          }
        },
        "567922e32102417f8b0b9e9458aa82b8": {
          "model_module": "@jupyter-widgets/base",
          "model_name": "LayoutModel",
          "model_module_version": "1.2.0",
          "state": {
            "_model_module": "@jupyter-widgets/base",
            "_model_module_version": "1.2.0",
            "_model_name": "LayoutModel",
            "_view_count": null,
            "_view_module": "@jupyter-widgets/base",
            "_view_module_version": "1.2.0",
            "_view_name": "LayoutView",
            "align_content": null,
            "align_items": null,
            "align_self": null,
            "border": null,
            "bottom": null,
            "display": null,
            "flex": null,
            "flex_flow": null,
            "grid_area": null,
            "grid_auto_columns": null,
            "grid_auto_flow": null,
            "grid_auto_rows": null,
            "grid_column": null,
            "grid_gap": null,
            "grid_row": null,
            "grid_template_areas": null,
            "grid_template_columns": null,
            "grid_template_rows": null,
            "height": null,
            "justify_content": null,
            "justify_items": null,
            "left": null,
            "margin": null,
            "max_height": null,
            "max_width": null,
            "min_height": null,
            "min_width": null,
            "object_fit": null,
            "object_position": null,
            "order": null,
            "overflow": null,
            "overflow_x": null,
            "overflow_y": null,
            "padding": null,
            "right": null,
            "top": null,
            "visibility": null,
            "width": null
          }
        },
        "1c5168a5c4eb40fa90bfa6dbcc7a0da0": {
          "model_module": "@jupyter-widgets/base",
          "model_name": "LayoutModel",
          "model_module_version": "1.2.0",
          "state": {
            "_model_module": "@jupyter-widgets/base",
            "_model_module_version": "1.2.0",
            "_model_name": "LayoutModel",
            "_view_count": null,
            "_view_module": "@jupyter-widgets/base",
            "_view_module_version": "1.2.0",
            "_view_name": "LayoutView",
            "align_content": null,
            "align_items": null,
            "align_self": null,
            "border": null,
            "bottom": null,
            "display": null,
            "flex": null,
            "flex_flow": null,
            "grid_area": null,
            "grid_auto_columns": null,
            "grid_auto_flow": null,
            "grid_auto_rows": null,
            "grid_column": null,
            "grid_gap": null,
            "grid_row": null,
            "grid_template_areas": null,
            "grid_template_columns": null,
            "grid_template_rows": null,
            "height": null,
            "justify_content": null,
            "justify_items": null,
            "left": null,
            "margin": null,
            "max_height": null,
            "max_width": null,
            "min_height": null,
            "min_width": null,
            "object_fit": null,
            "object_position": null,
            "order": null,
            "overflow": null,
            "overflow_x": null,
            "overflow_y": null,
            "padding": null,
            "right": null,
            "top": null,
            "visibility": null,
            "width": null
          }
        },
        "42b56d5873ef467a81f0705341a13542": {
          "model_module": "@jupyter-widgets/controls",
          "model_name": "DescriptionStyleModel",
          "model_module_version": "1.5.0",
          "state": {
            "_model_module": "@jupyter-widgets/controls",
            "_model_module_version": "1.5.0",
            "_model_name": "DescriptionStyleModel",
            "_view_count": null,
            "_view_module": "@jupyter-widgets/base",
            "_view_module_version": "1.2.0",
            "_view_name": "StyleView",
            "description_width": ""
          }
        },
        "eac26b86283d42a0b5a5532f3dd31d31": {
          "model_module": "@jupyter-widgets/base",
          "model_name": "LayoutModel",
          "model_module_version": "1.2.0",
          "state": {
            "_model_module": "@jupyter-widgets/base",
            "_model_module_version": "1.2.0",
            "_model_name": "LayoutModel",
            "_view_count": null,
            "_view_module": "@jupyter-widgets/base",
            "_view_module_version": "1.2.0",
            "_view_name": "LayoutView",
            "align_content": null,
            "align_items": null,
            "align_self": null,
            "border": null,
            "bottom": null,
            "display": null,
            "flex": null,
            "flex_flow": null,
            "grid_area": null,
            "grid_auto_columns": null,
            "grid_auto_flow": null,
            "grid_auto_rows": null,
            "grid_column": null,
            "grid_gap": null,
            "grid_row": null,
            "grid_template_areas": null,
            "grid_template_columns": null,
            "grid_template_rows": null,
            "height": null,
            "justify_content": null,
            "justify_items": null,
            "left": null,
            "margin": null,
            "max_height": null,
            "max_width": null,
            "min_height": null,
            "min_width": null,
            "object_fit": null,
            "object_position": null,
            "order": null,
            "overflow": null,
            "overflow_x": null,
            "overflow_y": null,
            "padding": null,
            "right": null,
            "top": null,
            "visibility": null,
            "width": null
          }
        },
        "963415bcf77c4a8f9f911acb3942bfdf": {
          "model_module": "@jupyter-widgets/controls",
          "model_name": "ProgressStyleModel",
          "model_module_version": "1.5.0",
          "state": {
            "_model_module": "@jupyter-widgets/controls",
            "_model_module_version": "1.5.0",
            "_model_name": "ProgressStyleModel",
            "_view_count": null,
            "_view_module": "@jupyter-widgets/base",
            "_view_module_version": "1.2.0",
            "_view_name": "StyleView",
            "bar_color": null,
            "description_width": ""
          }
        },
        "ce9a5441b45740e08f47742fc10c1e37": {
          "model_module": "@jupyter-widgets/base",
          "model_name": "LayoutModel",
          "model_module_version": "1.2.0",
          "state": {
            "_model_module": "@jupyter-widgets/base",
            "_model_module_version": "1.2.0",
            "_model_name": "LayoutModel",
            "_view_count": null,
            "_view_module": "@jupyter-widgets/base",
            "_view_module_version": "1.2.0",
            "_view_name": "LayoutView",
            "align_content": null,
            "align_items": null,
            "align_self": null,
            "border": null,
            "bottom": null,
            "display": null,
            "flex": null,
            "flex_flow": null,
            "grid_area": null,
            "grid_auto_columns": null,
            "grid_auto_flow": null,
            "grid_auto_rows": null,
            "grid_column": null,
            "grid_gap": null,
            "grid_row": null,
            "grid_template_areas": null,
            "grid_template_columns": null,
            "grid_template_rows": null,
            "height": null,
            "justify_content": null,
            "justify_items": null,
            "left": null,
            "margin": null,
            "max_height": null,
            "max_width": null,
            "min_height": null,
            "min_width": null,
            "object_fit": null,
            "object_position": null,
            "order": null,
            "overflow": null,
            "overflow_x": null,
            "overflow_y": null,
            "padding": null,
            "right": null,
            "top": null,
            "visibility": null,
            "width": null
          }
        },
        "dcf75b079ef24b15926d475ded44d834": {
          "model_module": "@jupyter-widgets/controls",
          "model_name": "DescriptionStyleModel",
          "model_module_version": "1.5.0",
          "state": {
            "_model_module": "@jupyter-widgets/controls",
            "_model_module_version": "1.5.0",
            "_model_name": "DescriptionStyleModel",
            "_view_count": null,
            "_view_module": "@jupyter-widgets/base",
            "_view_module_version": "1.2.0",
            "_view_name": "StyleView",
            "description_width": ""
          }
        },
        "682f92683eca4ab8aef86975aca64fbe": {
          "model_module": "@jupyter-widgets/controls",
          "model_name": "HBoxModel",
          "model_module_version": "1.5.0",
          "state": {
            "_dom_classes": [],
            "_model_module": "@jupyter-widgets/controls",
            "_model_module_version": "1.5.0",
            "_model_name": "HBoxModel",
            "_view_count": null,
            "_view_module": "@jupyter-widgets/controls",
            "_view_module_version": "1.5.0",
            "_view_name": "HBoxView",
            "box_style": "",
            "children": [
              "IPY_MODEL_cfa0a8e8d32f4e0c8db752c79cbf6b06",
              "IPY_MODEL_5c7d160e4973499c843722bdc98ddcac",
              "IPY_MODEL_62e4ce14858d47beb9f688b789ee193f"
            ],
            "layout": "IPY_MODEL_41e4db39fb8b45d6b938117c168226c0"
          }
        },
        "cfa0a8e8d32f4e0c8db752c79cbf6b06": {
          "model_module": "@jupyter-widgets/controls",
          "model_name": "HTMLModel",
          "model_module_version": "1.5.0",
          "state": {
            "_dom_classes": [],
            "_model_module": "@jupyter-widgets/controls",
            "_model_module_version": "1.5.0",
            "_model_name": "HTMLModel",
            "_view_count": null,
            "_view_module": "@jupyter-widgets/controls",
            "_view_module_version": "1.5.0",
            "_view_name": "HTMLView",
            "description": "",
            "description_tooltip": null,
            "layout": "IPY_MODEL_9c2d1648062d4434befc927d4985182d",
            "placeholder": "​",
            "style": "IPY_MODEL_c75dc0203b394d6583f056758a80cd3a",
            "value": "preprocessor_config.json: 100%"
          }
        },
        "5c7d160e4973499c843722bdc98ddcac": {
          "model_module": "@jupyter-widgets/controls",
          "model_name": "FloatProgressModel",
          "model_module_version": "1.5.0",
          "state": {
            "_dom_classes": [],
            "_model_module": "@jupyter-widgets/controls",
            "_model_module_version": "1.5.0",
            "_model_name": "FloatProgressModel",
            "_view_count": null,
            "_view_module": "@jupyter-widgets/controls",
            "_view_module_version": "1.5.0",
            "_view_name": "ProgressView",
            "bar_style": "success",
            "description": "",
            "description_tooltip": null,
            "layout": "IPY_MODEL_486f40b687794140958cdfdacac156e2",
            "max": 213,
            "min": 0,
            "orientation": "horizontal",
            "style": "IPY_MODEL_4ff0076c242a4aedb5cf38f9deda8777",
            "value": 213
          }
        },
        "62e4ce14858d47beb9f688b789ee193f": {
          "model_module": "@jupyter-widgets/controls",
          "model_name": "HTMLModel",
          "model_module_version": "1.5.0",
          "state": {
            "_dom_classes": [],
            "_model_module": "@jupyter-widgets/controls",
            "_model_module_version": "1.5.0",
            "_model_name": "HTMLModel",
            "_view_count": null,
            "_view_module": "@jupyter-widgets/controls",
            "_view_module_version": "1.5.0",
            "_view_name": "HTMLView",
            "description": "",
            "description_tooltip": null,
            "layout": "IPY_MODEL_a195473329c9450fbd3b79d1c7787cf9",
            "placeholder": "​",
            "style": "IPY_MODEL_371bc2bcadf74f4993f19974c20ec022",
            "value": " 213/213 [00:00&lt;00:00, 6.52kB/s]"
          }
        },
        "41e4db39fb8b45d6b938117c168226c0": {
          "model_module": "@jupyter-widgets/base",
          "model_name": "LayoutModel",
          "model_module_version": "1.2.0",
          "state": {
            "_model_module": "@jupyter-widgets/base",
            "_model_module_version": "1.2.0",
            "_model_name": "LayoutModel",
            "_view_count": null,
            "_view_module": "@jupyter-widgets/base",
            "_view_module_version": "1.2.0",
            "_view_name": "LayoutView",
            "align_content": null,
            "align_items": null,
            "align_self": null,
            "border": null,
            "bottom": null,
            "display": null,
            "flex": null,
            "flex_flow": null,
            "grid_area": null,
            "grid_auto_columns": null,
            "grid_auto_flow": null,
            "grid_auto_rows": null,
            "grid_column": null,
            "grid_gap": null,
            "grid_row": null,
            "grid_template_areas": null,
            "grid_template_columns": null,
            "grid_template_rows": null,
            "height": null,
            "justify_content": null,
            "justify_items": null,
            "left": null,
            "margin": null,
            "max_height": null,
            "max_width": null,
            "min_height": null,
            "min_width": null,
            "object_fit": null,
            "object_position": null,
            "order": null,
            "overflow": null,
            "overflow_x": null,
            "overflow_y": null,
            "padding": null,
            "right": null,
            "top": null,
            "visibility": null,
            "width": null
          }
        },
        "9c2d1648062d4434befc927d4985182d": {
          "model_module": "@jupyter-widgets/base",
          "model_name": "LayoutModel",
          "model_module_version": "1.2.0",
          "state": {
            "_model_module": "@jupyter-widgets/base",
            "_model_module_version": "1.2.0",
            "_model_name": "LayoutModel",
            "_view_count": null,
            "_view_module": "@jupyter-widgets/base",
            "_view_module_version": "1.2.0",
            "_view_name": "LayoutView",
            "align_content": null,
            "align_items": null,
            "align_self": null,
            "border": null,
            "bottom": null,
            "display": null,
            "flex": null,
            "flex_flow": null,
            "grid_area": null,
            "grid_auto_columns": null,
            "grid_auto_flow": null,
            "grid_auto_rows": null,
            "grid_column": null,
            "grid_gap": null,
            "grid_row": null,
            "grid_template_areas": null,
            "grid_template_columns": null,
            "grid_template_rows": null,
            "height": null,
            "justify_content": null,
            "justify_items": null,
            "left": null,
            "margin": null,
            "max_height": null,
            "max_width": null,
            "min_height": null,
            "min_width": null,
            "object_fit": null,
            "object_position": null,
            "order": null,
            "overflow": null,
            "overflow_x": null,
            "overflow_y": null,
            "padding": null,
            "right": null,
            "top": null,
            "visibility": null,
            "width": null
          }
        },
        "c75dc0203b394d6583f056758a80cd3a": {
          "model_module": "@jupyter-widgets/controls",
          "model_name": "DescriptionStyleModel",
          "model_module_version": "1.5.0",
          "state": {
            "_model_module": "@jupyter-widgets/controls",
            "_model_module_version": "1.5.0",
            "_model_name": "DescriptionStyleModel",
            "_view_count": null,
            "_view_module": "@jupyter-widgets/base",
            "_view_module_version": "1.2.0",
            "_view_name": "StyleView",
            "description_width": ""
          }
        },
        "486f40b687794140958cdfdacac156e2": {
          "model_module": "@jupyter-widgets/base",
          "model_name": "LayoutModel",
          "model_module_version": "1.2.0",
          "state": {
            "_model_module": "@jupyter-widgets/base",
            "_model_module_version": "1.2.0",
            "_model_name": "LayoutModel",
            "_view_count": null,
            "_view_module": "@jupyter-widgets/base",
            "_view_module_version": "1.2.0",
            "_view_name": "LayoutView",
            "align_content": null,
            "align_items": null,
            "align_self": null,
            "border": null,
            "bottom": null,
            "display": null,
            "flex": null,
            "flex_flow": null,
            "grid_area": null,
            "grid_auto_columns": null,
            "grid_auto_flow": null,
            "grid_auto_rows": null,
            "grid_column": null,
            "grid_gap": null,
            "grid_row": null,
            "grid_template_areas": null,
            "grid_template_columns": null,
            "grid_template_rows": null,
            "height": null,
            "justify_content": null,
            "justify_items": null,
            "left": null,
            "margin": null,
            "max_height": null,
            "max_width": null,
            "min_height": null,
            "min_width": null,
            "object_fit": null,
            "object_position": null,
            "order": null,
            "overflow": null,
            "overflow_x": null,
            "overflow_y": null,
            "padding": null,
            "right": null,
            "top": null,
            "visibility": null,
            "width": null
          }
        },
        "4ff0076c242a4aedb5cf38f9deda8777": {
          "model_module": "@jupyter-widgets/controls",
          "model_name": "ProgressStyleModel",
          "model_module_version": "1.5.0",
          "state": {
            "_model_module": "@jupyter-widgets/controls",
            "_model_module_version": "1.5.0",
            "_model_name": "ProgressStyleModel",
            "_view_count": null,
            "_view_module": "@jupyter-widgets/base",
            "_view_module_version": "1.2.0",
            "_view_name": "StyleView",
            "bar_color": null,
            "description_width": ""
          }
        },
        "a195473329c9450fbd3b79d1c7787cf9": {
          "model_module": "@jupyter-widgets/base",
          "model_name": "LayoutModel",
          "model_module_version": "1.2.0",
          "state": {
            "_model_module": "@jupyter-widgets/base",
            "_model_module_version": "1.2.0",
            "_model_name": "LayoutModel",
            "_view_count": null,
            "_view_module": "@jupyter-widgets/base",
            "_view_module_version": "1.2.0",
            "_view_name": "LayoutView",
            "align_content": null,
            "align_items": null,
            "align_self": null,
            "border": null,
            "bottom": null,
            "display": null,
            "flex": null,
            "flex_flow": null,
            "grid_area": null,
            "grid_auto_columns": null,
            "grid_auto_flow": null,
            "grid_auto_rows": null,
            "grid_column": null,
            "grid_gap": null,
            "grid_row": null,
            "grid_template_areas": null,
            "grid_template_columns": null,
            "grid_template_rows": null,
            "height": null,
            "justify_content": null,
            "justify_items": null,
            "left": null,
            "margin": null,
            "max_height": null,
            "max_width": null,
            "min_height": null,
            "min_width": null,
            "object_fit": null,
            "object_position": null,
            "order": null,
            "overflow": null,
            "overflow_x": null,
            "overflow_y": null,
            "padding": null,
            "right": null,
            "top": null,
            "visibility": null,
            "width": null
          }
        },
        "371bc2bcadf74f4993f19974c20ec022": {
          "model_module": "@jupyter-widgets/controls",
          "model_name": "DescriptionStyleModel",
          "model_module_version": "1.5.0",
          "state": {
            "_model_module": "@jupyter-widgets/controls",
            "_model_module_version": "1.5.0",
            "_model_name": "DescriptionStyleModel",
            "_view_count": null,
            "_view_module": "@jupyter-widgets/base",
            "_view_module_version": "1.2.0",
            "_view_name": "StyleView",
            "description_width": ""
          }
        },
        "65b479c126da4ab2bba4f8e737d89edd": {
          "model_module": "@jupyter-widgets/controls",
          "model_name": "HBoxModel",
          "model_module_version": "1.5.0",
          "state": {
            "_dom_classes": [],
            "_model_module": "@jupyter-widgets/controls",
            "_model_module_version": "1.5.0",
            "_model_name": "HBoxModel",
            "_view_count": null,
            "_view_module": "@jupyter-widgets/controls",
            "_view_module_version": "1.5.0",
            "_view_name": "HBoxView",
            "box_style": "",
            "children": [
              "IPY_MODEL_8242dcaa24e54fb5a152c04451cea2b3",
              "IPY_MODEL_be0328f2942a446abe24906507cd06ca",
              "IPY_MODEL_50c3c00c2e6d4922a5b222e309de10c2"
            ],
            "layout": "IPY_MODEL_083988d465bf46028eb38b6bd6205942"
          }
        },
        "8242dcaa24e54fb5a152c04451cea2b3": {
          "model_module": "@jupyter-widgets/controls",
          "model_name": "HTMLModel",
          "model_module_version": "1.5.0",
          "state": {
            "_dom_classes": [],
            "_model_module": "@jupyter-widgets/controls",
            "_model_module_version": "1.5.0",
            "_model_name": "HTMLModel",
            "_view_count": null,
            "_view_module": "@jupyter-widgets/controls",
            "_view_module_version": "1.5.0",
            "_view_name": "HTMLView",
            "description": "",
            "description_tooltip": null,
            "layout": "IPY_MODEL_9b0408eaa9eb4c06b175411e0889774a",
            "placeholder": "​",
            "style": "IPY_MODEL_63f7320611734141b7d1de7b7f85413c",
            "value": "config.json: 100%"
          }
        },
        "be0328f2942a446abe24906507cd06ca": {
          "model_module": "@jupyter-widgets/controls",
          "model_name": "FloatProgressModel",
          "model_module_version": "1.5.0",
          "state": {
            "_dom_classes": [],
            "_model_module": "@jupyter-widgets/controls",
            "_model_module_version": "1.5.0",
            "_model_name": "FloatProgressModel",
            "_view_count": null,
            "_view_module": "@jupyter-widgets/controls",
            "_view_module_version": "1.5.0",
            "_view_name": "ProgressView",
            "bar_style": "success",
            "description": "",
            "description_tooltip": null,
            "layout": "IPY_MODEL_22a3f7f67b8b4adaba5b6c1f85479e6c",
            "max": 1385,
            "min": 0,
            "orientation": "horizontal",
            "style": "IPY_MODEL_74b3e0b0d1584193b1e7a99db41a5e02",
            "value": 1385
          }
        },
        "50c3c00c2e6d4922a5b222e309de10c2": {
          "model_module": "@jupyter-widgets/controls",
          "model_name": "HTMLModel",
          "model_module_version": "1.5.0",
          "state": {
            "_dom_classes": [],
            "_model_module": "@jupyter-widgets/controls",
            "_model_module_version": "1.5.0",
            "_model_name": "HTMLModel",
            "_view_count": null,
            "_view_module": "@jupyter-widgets/controls",
            "_view_module_version": "1.5.0",
            "_view_name": "HTMLView",
            "description": "",
            "description_tooltip": null,
            "layout": "IPY_MODEL_5b0588ecdccb45d7b2d5d87234f403cb",
            "placeholder": "​",
            "style": "IPY_MODEL_c7bb6f24dfed49d7a7d499682e286fa1",
            "value": " 1.39k/1.39k [00:00&lt;00:00, 104kB/s]"
          }
        },
        "083988d465bf46028eb38b6bd6205942": {
          "model_module": "@jupyter-widgets/base",
          "model_name": "LayoutModel",
          "model_module_version": "1.2.0",
          "state": {
            "_model_module": "@jupyter-widgets/base",
            "_model_module_version": "1.2.0",
            "_model_name": "LayoutModel",
            "_view_count": null,
            "_view_module": "@jupyter-widgets/base",
            "_view_module_version": "1.2.0",
            "_view_name": "LayoutView",
            "align_content": null,
            "align_items": null,
            "align_self": null,
            "border": null,
            "bottom": null,
            "display": null,
            "flex": null,
            "flex_flow": null,
            "grid_area": null,
            "grid_auto_columns": null,
            "grid_auto_flow": null,
            "grid_auto_rows": null,
            "grid_column": null,
            "grid_gap": null,
            "grid_row": null,
            "grid_template_areas": null,
            "grid_template_columns": null,
            "grid_template_rows": null,
            "height": null,
            "justify_content": null,
            "justify_items": null,
            "left": null,
            "margin": null,
            "max_height": null,
            "max_width": null,
            "min_height": null,
            "min_width": null,
            "object_fit": null,
            "object_position": null,
            "order": null,
            "overflow": null,
            "overflow_x": null,
            "overflow_y": null,
            "padding": null,
            "right": null,
            "top": null,
            "visibility": null,
            "width": null
          }
        },
        "9b0408eaa9eb4c06b175411e0889774a": {
          "model_module": "@jupyter-widgets/base",
          "model_name": "LayoutModel",
          "model_module_version": "1.2.0",
          "state": {
            "_model_module": "@jupyter-widgets/base",
            "_model_module_version": "1.2.0",
            "_model_name": "LayoutModel",
            "_view_count": null,
            "_view_module": "@jupyter-widgets/base",
            "_view_module_version": "1.2.0",
            "_view_name": "LayoutView",
            "align_content": null,
            "align_items": null,
            "align_self": null,
            "border": null,
            "bottom": null,
            "display": null,
            "flex": null,
            "flex_flow": null,
            "grid_area": null,
            "grid_auto_columns": null,
            "grid_auto_flow": null,
            "grid_auto_rows": null,
            "grid_column": null,
            "grid_gap": null,
            "grid_row": null,
            "grid_template_areas": null,
            "grid_template_columns": null,
            "grid_template_rows": null,
            "height": null,
            "justify_content": null,
            "justify_items": null,
            "left": null,
            "margin": null,
            "max_height": null,
            "max_width": null,
            "min_height": null,
            "min_width": null,
            "object_fit": null,
            "object_position": null,
            "order": null,
            "overflow": null,
            "overflow_x": null,
            "overflow_y": null,
            "padding": null,
            "right": null,
            "top": null,
            "visibility": null,
            "width": null
          }
        },
        "63f7320611734141b7d1de7b7f85413c": {
          "model_module": "@jupyter-widgets/controls",
          "model_name": "DescriptionStyleModel",
          "model_module_version": "1.5.0",
          "state": {
            "_model_module": "@jupyter-widgets/controls",
            "_model_module_version": "1.5.0",
            "_model_name": "DescriptionStyleModel",
            "_view_count": null,
            "_view_module": "@jupyter-widgets/base",
            "_view_module_version": "1.2.0",
            "_view_name": "StyleView",
            "description_width": ""
          }
        },
        "22a3f7f67b8b4adaba5b6c1f85479e6c": {
          "model_module": "@jupyter-widgets/base",
          "model_name": "LayoutModel",
          "model_module_version": "1.2.0",
          "state": {
            "_model_module": "@jupyter-widgets/base",
            "_model_module_version": "1.2.0",
            "_model_name": "LayoutModel",
            "_view_count": null,
            "_view_module": "@jupyter-widgets/base",
            "_view_module_version": "1.2.0",
            "_view_name": "LayoutView",
            "align_content": null,
            "align_items": null,
            "align_self": null,
            "border": null,
            "bottom": null,
            "display": null,
            "flex": null,
            "flex_flow": null,
            "grid_area": null,
            "grid_auto_columns": null,
            "grid_auto_flow": null,
            "grid_auto_rows": null,
            "grid_column": null,
            "grid_gap": null,
            "grid_row": null,
            "grid_template_areas": null,
            "grid_template_columns": null,
            "grid_template_rows": null,
            "height": null,
            "justify_content": null,
            "justify_items": null,
            "left": null,
            "margin": null,
            "max_height": null,
            "max_width": null,
            "min_height": null,
            "min_width": null,
            "object_fit": null,
            "object_position": null,
            "order": null,
            "overflow": null,
            "overflow_x": null,
            "overflow_y": null,
            "padding": null,
            "right": null,
            "top": null,
            "visibility": null,
            "width": null
          }
        },
        "74b3e0b0d1584193b1e7a99db41a5e02": {
          "model_module": "@jupyter-widgets/controls",
          "model_name": "ProgressStyleModel",
          "model_module_version": "1.5.0",
          "state": {
            "_model_module": "@jupyter-widgets/controls",
            "_model_module_version": "1.5.0",
            "_model_name": "ProgressStyleModel",
            "_view_count": null,
            "_view_module": "@jupyter-widgets/base",
            "_view_module_version": "1.2.0",
            "_view_name": "StyleView",
            "bar_color": null,
            "description_width": ""
          }
        },
        "5b0588ecdccb45d7b2d5d87234f403cb": {
          "model_module": "@jupyter-widgets/base",
          "model_name": "LayoutModel",
          "model_module_version": "1.2.0",
          "state": {
            "_model_module": "@jupyter-widgets/base",
            "_model_module_version": "1.2.0",
            "_model_name": "LayoutModel",
            "_view_count": null,
            "_view_module": "@jupyter-widgets/base",
            "_view_module_version": "1.2.0",
            "_view_name": "LayoutView",
            "align_content": null,
            "align_items": null,
            "align_self": null,
            "border": null,
            "bottom": null,
            "display": null,
            "flex": null,
            "flex_flow": null,
            "grid_area": null,
            "grid_auto_columns": null,
            "grid_auto_flow": null,
            "grid_auto_rows": null,
            "grid_column": null,
            "grid_gap": null,
            "grid_row": null,
            "grid_template_areas": null,
            "grid_template_columns": null,
            "grid_template_rows": null,
            "height": null,
            "justify_content": null,
            "justify_items": null,
            "left": null,
            "margin": null,
            "max_height": null,
            "max_width": null,
            "min_height": null,
            "min_width": null,
            "object_fit": null,
            "object_position": null,
            "order": null,
            "overflow": null,
            "overflow_x": null,
            "overflow_y": null,
            "padding": null,
            "right": null,
            "top": null,
            "visibility": null,
            "width": null
          }
        },
        "c7bb6f24dfed49d7a7d499682e286fa1": {
          "model_module": "@jupyter-widgets/controls",
          "model_name": "DescriptionStyleModel",
          "model_module_version": "1.5.0",
          "state": {
            "_model_module": "@jupyter-widgets/controls",
            "_model_module_version": "1.5.0",
            "_model_name": "DescriptionStyleModel",
            "_view_count": null,
            "_view_module": "@jupyter-widgets/base",
            "_view_module_version": "1.2.0",
            "_view_name": "StyleView",
            "description_width": ""
          }
        },
        "baeb5fcb62c04b2d9799cfbbc064b3ff": {
          "model_module": "@jupyter-widgets/controls",
          "model_name": "HBoxModel",
          "model_module_version": "1.5.0",
          "state": {
            "_dom_classes": [],
            "_model_module": "@jupyter-widgets/controls",
            "_model_module_version": "1.5.0",
            "_model_name": "HBoxModel",
            "_view_count": null,
            "_view_module": "@jupyter-widgets/controls",
            "_view_module_version": "1.5.0",
            "_view_name": "HBoxView",
            "box_style": "",
            "children": [
              "IPY_MODEL_8a6d62dc9e664d9d91a0d04e7b5d841d",
              "IPY_MODEL_24009f89905345bcb5abefe75fa2dfe5",
              "IPY_MODEL_d50c0c2e4c4848b99f991a77f0cae03f"
            ],
            "layout": "IPY_MODEL_30248c7466f44c3cb70f302ad2ebb10c"
          }
        },
        "8a6d62dc9e664d9d91a0d04e7b5d841d": {
          "model_module": "@jupyter-widgets/controls",
          "model_name": "HTMLModel",
          "model_module_version": "1.5.0",
          "state": {
            "_dom_classes": [],
            "_model_module": "@jupyter-widgets/controls",
            "_model_module_version": "1.5.0",
            "_model_name": "HTMLModel",
            "_view_count": null,
            "_view_module": "@jupyter-widgets/controls",
            "_view_module_version": "1.5.0",
            "_view_name": "HTMLView",
            "description": "",
            "description_tooltip": null,
            "layout": "IPY_MODEL_fb3b7dc12a7b4424b455092247424608",
            "placeholder": "​",
            "style": "IPY_MODEL_d7b5d5f9c55f445587362efcbf62f25d",
            "value": "pytorch_model.bin: 100%"
          }
        },
        "24009f89905345bcb5abefe75fa2dfe5": {
          "model_module": "@jupyter-widgets/controls",
          "model_name": "FloatProgressModel",
          "model_module_version": "1.5.0",
          "state": {
            "_dom_classes": [],
            "_model_module": "@jupyter-widgets/controls",
            "_model_module_version": "1.5.0",
            "_model_name": "FloatProgressModel",
            "_view_count": null,
            "_view_module": "@jupyter-widgets/controls",
            "_view_module_version": "1.5.0",
            "_view_name": "ProgressView",
            "bar_style": "success",
            "description": "",
            "description_tooltip": null,
            "layout": "IPY_MODEL_da59bf75cdf4417aaa3e1c431b0756c9",
            "max": 377569754,
            "min": 0,
            "orientation": "horizontal",
            "style": "IPY_MODEL_811b8b35e5af4b96ac2e3526d4d4ab37",
            "value": 377569754
          }
        },
        "d50c0c2e4c4848b99f991a77f0cae03f": {
          "model_module": "@jupyter-widgets/controls",
          "model_name": "HTMLModel",
          "model_module_version": "1.5.0",
          "state": {
            "_dom_classes": [],
            "_model_module": "@jupyter-widgets/controls",
            "_model_module_version": "1.5.0",
            "_model_name": "HTMLModel",
            "_view_count": null,
            "_view_module": "@jupyter-widgets/controls",
            "_view_module_version": "1.5.0",
            "_view_name": "HTMLView",
            "description": "",
            "description_tooltip": null,
            "layout": "IPY_MODEL_0e61003c3fbf4c608f68d8a78ccb8c82",
            "placeholder": "​",
            "style": "IPY_MODEL_dfa2823551be42e9b03b6c5dadd57bc0",
            "value": " 378M/378M [00:05&lt;00:00, 91.6MB/s]"
          }
        },
        "30248c7466f44c3cb70f302ad2ebb10c": {
          "model_module": "@jupyter-widgets/base",
          "model_name": "LayoutModel",
          "model_module_version": "1.2.0",
          "state": {
            "_model_module": "@jupyter-widgets/base",
            "_model_module_version": "1.2.0",
            "_model_name": "LayoutModel",
            "_view_count": null,
            "_view_module": "@jupyter-widgets/base",
            "_view_module_version": "1.2.0",
            "_view_name": "LayoutView",
            "align_content": null,
            "align_items": null,
            "align_self": null,
            "border": null,
            "bottom": null,
            "display": null,
            "flex": null,
            "flex_flow": null,
            "grid_area": null,
            "grid_auto_columns": null,
            "grid_auto_flow": null,
            "grid_auto_rows": null,
            "grid_column": null,
            "grid_gap": null,
            "grid_row": null,
            "grid_template_areas": null,
            "grid_template_columns": null,
            "grid_template_rows": null,
            "height": null,
            "justify_content": null,
            "justify_items": null,
            "left": null,
            "margin": null,
            "max_height": null,
            "max_width": null,
            "min_height": null,
            "min_width": null,
            "object_fit": null,
            "object_position": null,
            "order": null,
            "overflow": null,
            "overflow_x": null,
            "overflow_y": null,
            "padding": null,
            "right": null,
            "top": null,
            "visibility": null,
            "width": null
          }
        },
        "fb3b7dc12a7b4424b455092247424608": {
          "model_module": "@jupyter-widgets/base",
          "model_name": "LayoutModel",
          "model_module_version": "1.2.0",
          "state": {
            "_model_module": "@jupyter-widgets/base",
            "_model_module_version": "1.2.0",
            "_model_name": "LayoutModel",
            "_view_count": null,
            "_view_module": "@jupyter-widgets/base",
            "_view_module_version": "1.2.0",
            "_view_name": "LayoutView",
            "align_content": null,
            "align_items": null,
            "align_self": null,
            "border": null,
            "bottom": null,
            "display": null,
            "flex": null,
            "flex_flow": null,
            "grid_area": null,
            "grid_auto_columns": null,
            "grid_auto_flow": null,
            "grid_auto_rows": null,
            "grid_column": null,
            "grid_gap": null,
            "grid_row": null,
            "grid_template_areas": null,
            "grid_template_columns": null,
            "grid_template_rows": null,
            "height": null,
            "justify_content": null,
            "justify_items": null,
            "left": null,
            "margin": null,
            "max_height": null,
            "max_width": null,
            "min_height": null,
            "min_width": null,
            "object_fit": null,
            "object_position": null,
            "order": null,
            "overflow": null,
            "overflow_x": null,
            "overflow_y": null,
            "padding": null,
            "right": null,
            "top": null,
            "visibility": null,
            "width": null
          }
        },
        "d7b5d5f9c55f445587362efcbf62f25d": {
          "model_module": "@jupyter-widgets/controls",
          "model_name": "DescriptionStyleModel",
          "model_module_version": "1.5.0",
          "state": {
            "_model_module": "@jupyter-widgets/controls",
            "_model_module_version": "1.5.0",
            "_model_name": "DescriptionStyleModel",
            "_view_count": null,
            "_view_module": "@jupyter-widgets/base",
            "_view_module_version": "1.2.0",
            "_view_name": "StyleView",
            "description_width": ""
          }
        },
        "da59bf75cdf4417aaa3e1c431b0756c9": {
          "model_module": "@jupyter-widgets/base",
          "model_name": "LayoutModel",
          "model_module_version": "1.2.0",
          "state": {
            "_model_module": "@jupyter-widgets/base",
            "_model_module_version": "1.2.0",
            "_model_name": "LayoutModel",
            "_view_count": null,
            "_view_module": "@jupyter-widgets/base",
            "_view_module_version": "1.2.0",
            "_view_name": "LayoutView",
            "align_content": null,
            "align_items": null,
            "align_self": null,
            "border": null,
            "bottom": null,
            "display": null,
            "flex": null,
            "flex_flow": null,
            "grid_area": null,
            "grid_auto_columns": null,
            "grid_auto_flow": null,
            "grid_auto_rows": null,
            "grid_column": null,
            "grid_gap": null,
            "grid_row": null,
            "grid_template_areas": null,
            "grid_template_columns": null,
            "grid_template_rows": null,
            "height": null,
            "justify_content": null,
            "justify_items": null,
            "left": null,
            "margin": null,
            "max_height": null,
            "max_width": null,
            "min_height": null,
            "min_width": null,
            "object_fit": null,
            "object_position": null,
            "order": null,
            "overflow": null,
            "overflow_x": null,
            "overflow_y": null,
            "padding": null,
            "right": null,
            "top": null,
            "visibility": null,
            "width": null
          }
        },
        "811b8b35e5af4b96ac2e3526d4d4ab37": {
          "model_module": "@jupyter-widgets/controls",
          "model_name": "ProgressStyleModel",
          "model_module_version": "1.5.0",
          "state": {
            "_model_module": "@jupyter-widgets/controls",
            "_model_module_version": "1.5.0",
            "_model_name": "ProgressStyleModel",
            "_view_count": null,
            "_view_module": "@jupyter-widgets/base",
            "_view_module_version": "1.2.0",
            "_view_name": "StyleView",
            "bar_color": null,
            "description_width": ""
          }
        },
        "0e61003c3fbf4c608f68d8a78ccb8c82": {
          "model_module": "@jupyter-widgets/base",
          "model_name": "LayoutModel",
          "model_module_version": "1.2.0",
          "state": {
            "_model_module": "@jupyter-widgets/base",
            "_model_module_version": "1.2.0",
            "_model_name": "LayoutModel",
            "_view_count": null,
            "_view_module": "@jupyter-widgets/base",
            "_view_module_version": "1.2.0",
            "_view_name": "LayoutView",
            "align_content": null,
            "align_items": null,
            "align_self": null,
            "border": null,
            "bottom": null,
            "display": null,
            "flex": null,
            "flex_flow": null,
            "grid_area": null,
            "grid_auto_columns": null,
            "grid_auto_flow": null,
            "grid_auto_rows": null,
            "grid_column": null,
            "grid_gap": null,
            "grid_row": null,
            "grid_template_areas": null,
            "grid_template_columns": null,
            "grid_template_rows": null,
            "height": null,
            "justify_content": null,
            "justify_items": null,
            "left": null,
            "margin": null,
            "max_height": null,
            "max_width": null,
            "min_height": null,
            "min_width": null,
            "object_fit": null,
            "object_position": null,
            "order": null,
            "overflow": null,
            "overflow_x": null,
            "overflow_y": null,
            "padding": null,
            "right": null,
            "top": null,
            "visibility": null,
            "width": null
          }
        },
        "dfa2823551be42e9b03b6c5dadd57bc0": {
          "model_module": "@jupyter-widgets/controls",
          "model_name": "DescriptionStyleModel",
          "model_module_version": "1.5.0",
          "state": {
            "_model_module": "@jupyter-widgets/controls",
            "_model_module_version": "1.5.0",
            "_model_name": "DescriptionStyleModel",
            "_view_count": null,
            "_view_module": "@jupyter-widgets/base",
            "_view_module_version": "1.2.0",
            "_view_name": "StyleView",
            "description_width": ""
          }
        }
      }
    },
    "accelerator": "GPU"
  },
  "nbformat": 4,
  "nbformat_minor": 0
}